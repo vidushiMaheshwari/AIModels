{
  "cells": [
    {
      "cell_type": "markdown",
      "metadata": {
        "id": "view-in-github",
        "colab_type": "text"
      },
      "source": [
        "<a href=\"https://colab.research.google.com/github/vidushiMaheshwari/AIModels/blob/main/pretrained_models.ipynb\" target=\"_parent\"><img src=\"https://colab.research.google.com/assets/colab-badge.svg\" alt=\"Open In Colab\"/></a>"
      ]
    },
    {
      "cell_type": "markdown",
      "metadata": {
        "id": "WHCfv9MewdDS"
      },
      "source": [
        "## Timm Models"
      ]
    },
    {
      "cell_type": "code",
      "execution_count": null,
      "metadata": {
        "colab": {
          "base_uri": "https://localhost:8080/"
        },
        "id": "vBGXYS0hwg20",
        "outputId": "3c9a85df-3894-4394-cb9b-e3beeefb52be"
      },
      "outputs": [
        {
          "name": "stdout",
          "output_type": "stream",
          "text": [
            "Looking in indexes: https://pypi.org/simple, https://us-python.pkg.dev/colab-wheels/public/simple/\n",
            "Collecting timm\n",
            "  Downloading timm-0.5.4-py3-none-any.whl (431 kB)\n",
            "\u001b[K     |████████████████████████████████| 431 kB 8.4 MB/s \n",
            "\u001b[?25hRequirement already satisfied: torchvision in /usr/local/lib/python3.7/dist-packages (from timm) (0.12.0+cu113)\n",
            "Requirement already satisfied: torch>=1.4 in /usr/local/lib/python3.7/dist-packages (from timm) (1.11.0+cu113)\n",
            "Requirement already satisfied: typing-extensions in /usr/local/lib/python3.7/dist-packages (from torch>=1.4->timm) (4.1.1)\n",
            "Requirement already satisfied: pillow!=8.3.*,>=5.3.0 in /usr/local/lib/python3.7/dist-packages (from torchvision->timm) (7.1.2)\n",
            "Requirement already satisfied: numpy in /usr/local/lib/python3.7/dist-packages (from torchvision->timm) (1.21.6)\n",
            "Requirement already satisfied: requests in /usr/local/lib/python3.7/dist-packages (from torchvision->timm) (2.23.0)\n",
            "Requirement already satisfied: certifi>=2017.4.17 in /usr/local/lib/python3.7/dist-packages (from requests->torchvision->timm) (2022.6.15)\n",
            "Requirement already satisfied: urllib3!=1.25.0,!=1.25.1,<1.26,>=1.21.1 in /usr/local/lib/python3.7/dist-packages (from requests->torchvision->timm) (1.24.3)\n",
            "Requirement already satisfied: chardet<4,>=3.0.2 in /usr/local/lib/python3.7/dist-packages (from requests->torchvision->timm) (3.0.4)\n",
            "Requirement already satisfied: idna<3,>=2.5 in /usr/local/lib/python3.7/dist-packages (from requests->torchvision->timm) (2.10)\n",
            "Installing collected packages: timm\n",
            "Successfully installed timm-0.5.4\n"
          ]
        }
      ],
      "source": [
        "!pip install timm"
      ]
    },
    {
      "cell_type": "code",
      "execution_count": null,
      "metadata": {
        "id": "skwrmz39wxfM"
      },
      "outputs": [],
      "source": [
        "import torch\n",
        "import torchvision\n",
        "import pprint\n",
        "import timm\n",
        "import torch.nn as nn\n",
        "import time\n",
        "from sklearn.model_selection import train_test_split\n",
        "import numpy as np\n",
        "from torch.utils.data import DataLoader\n",
        "from torchvision import transforms"
      ]
    },
    {
      "cell_type": "code",
      "execution_count": null,
      "metadata": {
        "id": "gRUbHcU3wzrZ"
      },
      "outputs": [],
      "source": [
        "batch_size = 64\n",
        "dataset = torchvision.datasets.FashionMNIST(root= '/content/fashionMNIST', \n",
        "                                            download = True,\n",
        "                                            transform=transforms.Compose([transforms.Resize((224, 224)),\n",
        "                                                                          transforms.ToTensor(),\n",
        "                                                                          transforms.Lambda(lambda x: x.repeat(3, 1, 1) if x.size(0) == 1 else x)]),\n",
        "                                            train= True)\n",
        "model_name = 'mobilenetv2_100'\n",
        "num_epochs = 40\n",
        "learning_rate = 0.0006918309954926372\n",
        "\n",
        "\n",
        "device = torch.device(\"cuda:0\" if torch.cuda.is_available() else \"cpu\")"
      ]
    },
    {
      "cell_type": "code",
      "execution_count": null,
      "metadata": {
        "id": "AMTBP9VGqUYG"
      },
      "outputs": [],
      "source": [
        "new_dataset = [dataset[i] for i in range(10000)]"
      ]
    },
    {
      "cell_type": "code",
      "execution_count": null,
      "metadata": {
        "id": "JkmKdayuG2OR"
      },
      "outputs": [],
      "source": [
        "train_dataset, valid_dataset = train_test_split(new_dataset, train_size=0.8, shuffle=False)"
      ]
    },
    {
      "cell_type": "code",
      "execution_count": null,
      "metadata": {
        "id": "9boyehNjpFoH"
      },
      "outputs": [],
      "source": [
        "train_loader, valid_loader = DataLoader(train_dataset, batch_size=64, shuffle=True), DataLoader(valid_dataset, batch_size=batch_size, shuffle=True)"
      ]
    },
    {
      "cell_type": "code",
      "execution_count": null,
      "metadata": {
        "id": "ZUzGHxk7xAYS"
      },
      "outputs": [],
      "source": [
        "class CFG:\n",
        "  DEBUG = False\n",
        "\n",
        "  ### input: not configurable\n",
        "  IMG_HEIGHT = 28\n",
        "  IMG_WIDTH = 28\n",
        "  N_CLASS = 10\n",
        "\n",
        "  ### split train and validation sets\n",
        "  split_fraction = 0.8\n",
        "\n",
        "  ### model\n",
        "  model_name = model_name # 'resnet34', 'resnet200d', 'efficientnet_b1_pruned', 'efficientnetv2_m', efficientnet_b7 ...  \n",
        "\n",
        "  ### training\n",
        "  print_freq = 100\n",
        "  BATCH_SIZE = batch_size\n",
        "  N_EPOCHS = num_epochs\n",
        "\n",
        "  ### set only one to True\n",
        "  save_best_loss = False\n",
        "  save_best_accuracy = True\n",
        "\n",
        "  ### optimizer\n",
        "  # optimizer = 'adam'\n",
        "  # optimizer = 'adamw'\n",
        "  optimizer = 'rmsprop'\n",
        "  LEARNING_RATE = learning_rate\n",
        "  weight_decay = 0.1 # for adamw\n",
        "  l2_penalty = 0.01 # for RMSprop\n",
        "  rms_momentum = 0 # for RMSprop\n",
        "\n",
        "  ### learning rate scheduler (LRS)\n",
        "  scheduler = 'ReduceLROnPlateau'\n",
        "  # scheduler = 'CosineAnnealingLR'\n",
        "  plateau_factor = 0.5\n",
        "  plateau_patience = 3\n",
        "  cosine_T_max = 4\n",
        "  cosine_eta_min = 1e-8\n",
        "  verbose = True\n",
        "\n",
        "  ### train and validation DataLoaders\n",
        "  shuffle = False\n",
        "\n",
        "  ### albumentations\n",
        "  probability = 0.6\n",
        "\n",
        "  random_seed = 42"
      ]
    },
    {
      "cell_type": "code",
      "execution_count": null,
      "metadata": {
        "id": "G1h6xyvjPmse"
      },
      "outputs": [],
      "source": [
        "timm.list_models()"
      ]
    },
    {
      "cell_type": "code",
      "execution_count": null,
      "metadata": {
        "id": "E9G6YR4VxTU-"
      },
      "outputs": [],
      "source": [
        "class GetModel(nn.Module):\n",
        "    def __init__(self, model_name = CFG.model_name, pretrained = True):\n",
        "        super().__init__()\n",
        "\n",
        "        self.model_name = model_name\n",
        "        self.cnn = timm.create_model(self.model_name, pretrained = pretrained, num_classes = CFG.N_CLASS, in_chans =3)\n",
        "\n",
        "    def forward(self, x):\n",
        "        x = self.cnn(x)\n",
        "        return x\n",
        "\n",
        "model = GetModel()"
      ]
    },
    {
      "cell_type": "code",
      "execution_count": null,
      "metadata": {
        "id": "zYNMqhC0xVBN"
      },
      "outputs": [],
      "source": [
        "def get_optimizer(lr=CFG.LEARNING_RATE): ## CFG.LEARNING_RATE, CFG.optimizer\n",
        "  if CFG.optimizer == 'adam':\n",
        "    optimizer = torch.optim.Adam(model.parameters(), lr=lr, weight_decay=CFG.weight_decay, amsgrad=False)\n",
        "  elif CFG.optimizer == 'adamw':\n",
        "    optimizer = torch.optim.AnadW(model.parameters(), lr=lr, weight_decay=CFG.weight_decay)\n",
        "  elif CFG.optimizer == 'rmsprop':\n",
        "      optimizer = torch.optim.RMSprop(model.parameters(), lr = lr, weight_decay = CFG.l2_penalty, momentum = CFG.rms_momentum)\n",
        "\n",
        "  else:\n",
        "      print('Optimizer is not defined')      \n",
        "\n",
        "  return optimizer"
      ]
    },
    {
      "cell_type": "code",
      "execution_count": null,
      "metadata": {
        "id": "HtCNQnQUxWvh"
      },
      "outputs": [],
      "source": [
        "def get_scheduler(optimizer):\n",
        "\n",
        "  if CFG.scheduler=='ReduceLROnPlateau':\n",
        "      scheduler = torch.optim.lr_scheduler.ReduceLROnPlateau(optimizer, mode='max', factor = CFG.plateau_factor, patience = CFG.plateau_patience, verbose = CFG.verbose)\n",
        "\n",
        "  elif CFG.scheduler=='CosineAnnealingLR':\n",
        "      scheduler = torch.optim.lr_scheduler.CosineAnnealingLR(optimizer, T_max = CFG.cosine_T_max, eta_min = CFG.cosine_eta_min)\n",
        "\n",
        "  else:\n",
        "      print('LR Scheduler is not defined')\n",
        "\n",
        "  return scheduler"
      ]
    },
    {
      "cell_type": "code",
      "execution_count": null,
      "metadata": {
        "id": "qcO-xAkHxY7h"
      },
      "outputs": [],
      "source": [
        "def train_model(train_loader, model, device, optimizer=None, criterion=None):\n",
        "  model = model.to(device)\n",
        "  model.train()\n",
        "\n",
        "  size = len(train_loader.dataset)\n",
        "  num_batches = len(train_loader)\n",
        "\n",
        "  loss, correct = 0, 0\n",
        "\n",
        "  for batch, (x, y) in enumerate(train_loader):\n",
        "    start = time.time()\n",
        "    ## batch is the batch number starting from 0\n",
        "    ## x holds the tensor value sof all image data\n",
        "    ## y hols the labels of all images\n",
        "    device = torch.device(device)\n",
        "    x, y = x.to(device), y.to(device)\n",
        "\n",
        "    if optimizer is not None:\n",
        "      optimizer.zero_grad()\n",
        "    pred = model(x)\n",
        "    loss = criterion(pred, y.long().squeeze())\n",
        "    current = batch * len(x)\n",
        "\n",
        "    loss.backward()\n",
        "    if optimizer is not None:\n",
        "      optimizer.step()\n",
        "    y_pred, y_true = torch.argmax(pred, axis=1), y.long().squeeze()\n",
        "    correct += (y_pred == y_true).type(torch.float).sum().item()\n",
        "\n",
        "    end = time.time()\n",
        "    time_delta = np.round(end-start, 3) \n",
        "    loss, current = np.round(loss.item(), 5), batch * len(x)\n",
        "\n",
        "  correct /= size\n",
        "  loss /= num_batches\n",
        "\n",
        "  pprint.pprint(f\"Train: Accuracy: {(100*correct):>0.2f}%, Avg loss: {loss:>5f} \\n\")\n",
        "\n",
        "  return loss, correct"
      ]
    },
    {
      "cell_type": "code",
      "execution_count": null,
      "metadata": {
        "id": "x_XAFwaxxa_A"
      },
      "outputs": [],
      "source": [
        "def valid_model(valid_loader, model, criterion=None, device=device):\n",
        "  model = model.to(device)\n",
        "  model.eval()\n",
        "\n",
        "  size = len(valid_loader.dataset)\n",
        "  num_batches = len(valid_loader)\n",
        "\n",
        "  loss, correct = 0, 0\n",
        "  with torch.no_grad(): # disable gradients\n",
        "    for batch, (X, y) in enumerate(valid_loader):\n",
        "\n",
        "      start = time.time()\n",
        "  \n",
        "      device = torch.device(device)\n",
        "      X, y = X.to(device), y.to(device)\n",
        "\n",
        "      # compute predictions and loss\n",
        "      pred = model(X)\n",
        "      loss = criterion(pred, y.long().squeeze()) \n",
        "      current = batch * len(X)\n",
        "      \n",
        "      # sum correct predictions\n",
        "      y_pred, y_true = torch.argmax(pred, axis=1), y.long().squeeze()\n",
        "      correct += (y_pred == y_true).type(torch.float).sum().item()\n",
        "\n",
        "      end = time.time()\n",
        "      time_delta = np.round(end - start, 3)\n",
        "      \n",
        "      # log\n",
        "      loss, current = np.round(loss.item(), 5), batch * len(X)\n",
        "      # if batch % (CFG.print_freq) == 0:\n",
        "      #   print(f\"Valid Batch: {current:>5d}/{size:>5d}: loss: {loss:>5f} Elapsed Time: {time_delta} s\")\n",
        "\n",
        "  # metrics: calculate accuracy and loss for epoch (all batches)\n",
        "  correct /= size # epoch accuracy\n",
        "  loss /= num_batches # epoch loss\n",
        "\n",
        "  print(f\"Valid: Accuracy: {(100*correct):>0.2f}%, Avg loss: {loss:>5f} \\n\")\n",
        "\n",
        "  return loss, correct"
      ]
    },
    {
      "cell_type": "markdown",
      "metadata": {
        "id": "qJhgfC9ZxhVc"
      },
      "source": [
        " Running Training"
      ]
    },
    {
      "cell_type": "code",
      "execution_count": null,
      "metadata": {
        "id": "LkXt0wZXxj4s"
      },
      "outputs": [],
      "source": [
        "loss_fn = nn.CrossEntropyLoss()\n",
        "\n",
        "device = device\n",
        "model = model\n",
        "\n",
        "optimizer = get_optimizer(learning_rate)\n",
        "scheduler = get_scheduler(optimizer)"
      ]
    },
    {
      "cell_type": "code",
      "execution_count": null,
      "metadata": {
        "id": "Pbv6xRKZxmOa"
      },
      "outputs": [],
      "source": [
        "###### SET PARAMETERS HERE ###\n",
        "num_epochs = 40\n",
        "\n",
        "#-----------------------------#\n",
        "train_loss_history = []\n",
        "train_acc_history = []\n",
        "valid_loss_history = []\n",
        "valid_acc_history = []\n",
        "LR_history = []\n",
        "\n",
        "best_loss = np.inf\n",
        "best_epoch_loss = 0\n",
        "best_acc = 0\n",
        "best_epoch_acc = 0\n",
        "\n",
        "start_train_time = time.time()\n",
        "\n",
        "for epoch in range(0, num_epochs):\n",
        "  print(f\"\\n-------------------------------   Epoch {epoch + 1}   -------------------------------\\n\")\n",
        "  start_epoch_time = time.time()\n",
        "\n",
        "  # train\n",
        "  train_loss, train_acc = train_model(train_loader, model, criterion=loss_fn, optimizer=optimizer, device=device)\n",
        "  train_loss_history.append(train_loss)\n",
        "  train_acc_history.append(train_acc)\n",
        "\n",
        "  # validation\n",
        "  valid_loss, valid_acc = valid_model(valid_loader, model, loss_fn, device)\n",
        "  valid_loss_history.append(valid_loss)\n",
        "  valid_acc_history.append(valid_acc)\n",
        "\n",
        "  # apply LR scheduler after each epoch\n",
        "  if isinstance(scheduler, torch.optim.lr_scheduler.ReduceLROnPlateau):\n",
        "      scheduler.step(valid_loss)\n",
        "\n",
        "  elif isinstance(scheduler, torch.optim.lr_scheduler.CosineAnnealingLR):\n",
        "      scheduler.step()\n",
        "\n",
        "  # save LR value to plot later\n",
        "  for param_group in optimizer.param_groups:\n",
        "    LR_history.append(param_group['lr'])\n",
        "\n",
        "  # save validation loss if it was improved (reduced)\n",
        "  if valid_loss < best_loss:\n",
        "    best_epoch_loss = epoch + 1\n",
        "    best_loss = valid_loss\n",
        "    # if CFG.save_best_loss:\n",
        "    #   # save the model's weights and biases only if CFG.save_best_loss == True\n",
        "    #   torch.save(model.state_dict(), OUTPUT_PATH + f\"DigitModel_ep{best_epoch_loss}.pth\")\n",
        "\n",
        "  # save validation accuracy if it was improved (increased)\n",
        "  if valid_acc > best_acc:\n",
        "    best_epoch_acc = epoch + 1\n",
        "    best_acc = valid_acc\n",
        "    # if CFG.save_best_accuracy:\n",
        "    #   # save the model's weights and biases only if CFG.save_best_accuracy == True\n",
        "    #   torch.save(model.state_dict(), OUTPUT_PATH + f\"DigitModel_ep{best_epoch_acc}.pth\")    \n",
        "\n",
        "  end_epoch_time = time.time()\n",
        "  time_delta = np.round(end_epoch_time - start_epoch_time, 3)\n",
        "  print(\"\\n\\nEpoch Elapsed Time: {} s\".format(time_delta))\n",
        "\n",
        "end_train_time = time.time()\n",
        "print(\"\\n\\nTotal Elapsed Time: {} min\".format(np.round((end_train_time - start_train_time)/60, 3)))\n",
        "print(\"Done!\")\n"
      ]
    },
    {
      "cell_type": "markdown",
      "metadata": {
        "id": "4y7SbrKUI1-B"
      },
      "source": [
        "6.336 min\n",
        "\n",
        "\n",
        "12.575 min\n",
        "\n",
        "VGG 16 -> 158 * 40 seconds\n",
        "\n",
        "vit_small_patch32_224_in21k :: 21.4 sec / epoch\n",
        "\n",
        "mobilenetv2_100 -> 35 seconds / epoch"
      ]
    },
    {
      "cell_type": "markdown",
      "metadata": {
        "id": "BnR4XWMext89"
      },
      "source": [
        "# Pytorch"
      ]
    },
    {
      "cell_type": "code",
      "execution_count": null,
      "metadata": {
        "colab": {
          "background_save": true
        },
        "id": "2seAfOXXxv8W"
      },
      "outputs": [],
      "source": [
        "import torch\n",
        "import torchvision\n",
        "import numpy as np\n",
        "import torch.nn as nn\n",
        "import torch.optim\n",
        "from torch.utils.data import DataLoader\n",
        "from torchvision import transforms\n",
        "import cv2\n",
        "from torch.autograd import Variable\n",
        "import time\n",
        "import pprint\n",
        "from sklearn.model_selection import train_test_split"
      ]
    },
    {
      "cell_type": "code",
      "execution_count": null,
      "metadata": {
        "colab": {
          "base_uri": "https://localhost:8080/",
          "height": 104
        },
        "id": "Lu0MpZyax76E",
        "outputId": "55619d39-1adc-447e-dc4b-2fcd39b8f726"
      },
      "outputs": [
        {
          "name": "stderr",
          "output_type": "stream",
          "text": [
            "Downloading: \"https://github.com/pytorch/vision/archive/v0.10.0.zip\" to /root/.cache/torch/hub/v0.10.0.zip\n",
            "Downloading: \"https://download.pytorch.org/models/googlenet-1378be20.pth\" to /root/.cache/torch/hub/checkpoints/googlenet-1378be20.pth\n"
          ]
        },
        {
          "data": {
            "application/vnd.jupyter.widget-view+json": {
              "model_id": "99f98144c6aa462ab0edec75f292c02b",
              "version_major": 2,
              "version_minor": 0
            },
            "text/plain": [
              "  0%|          | 0.00/49.7M [00:00<?, ?B/s]"
            ]
          },
          "metadata": {},
          "output_type": "display_data"
        }
      ],
      "source": [
        "model_name = 'googlenet'\n",
        "# dataset = torchvision.datasets.FashionMNIST(root= '/content/fashionMNIST', \n",
        "#                                             download = True,\n",
        "#                                             transform=transforms.Compose([transforms.Resize((224, 224)),\n",
        "#                                                                           transforms.ToTensor(),\n",
        "#                                                                           transforms.Lambda(lambda x: x.repeat(3, 1, 1) if x.size(0) == 1 else x)]),        \n",
        "#                                             train= False)\n",
        "# learning_rate = 0.00069\n",
        "\n",
        "\n",
        "model = torch.hub.load('pytorch/vision:v0.10.0', model_name, pretrained=True)\n",
        "model.eval()\n",
        "\n",
        "# device = torch.device(\"cuda:0\" if torch.cuda.is_available() else \"cpu\")"
      ]
    },
    {
      "cell_type": "code",
      "execution_count": null,
      "metadata": {
        "id": "LI7nBcs3K7MB"
      },
      "outputs": [],
      "source": [
        "dataset = [dataset[i] for i in range(10000)]"
      ]
    },
    {
      "cell_type": "code",
      "execution_count": null,
      "metadata": {
        "id": "5ChRUFe_ye9m"
      },
      "outputs": [],
      "source": [
        "train_dataset,valid_dataset = train_test_split(dataset, train_size=0.8)\n",
        "train_loader, valid_loader = DataLoader(train_dataset, batch_size=64, shuffle=True), DataLoader(valid_dataset, batch_size=64, shuffle=True)"
      ]
    },
    {
      "cell_type": "code",
      "execution_count": null,
      "metadata": {
        "id": "CtLZNX9hyjaK"
      },
      "outputs": [],
      "source": [
        "def train_model(train_loader, model, num_epochs = 40, criterion=None, optimizer=None, device=device):\n",
        "  model = model.to(device)\n",
        "  model.train()\n",
        "\n",
        "  size = len(train_loader.dataset)\n",
        "  num_batches = len(train_loader)\n",
        "\n",
        "  loss, correct = 0, 0\n",
        "  num_batched = len(train_loader)\n",
        "  for batch, (x, y) in enumerate(train_loader):\n",
        "    start = time.time()\n",
        "    ## batch is the batch number starting from 0\n",
        "    ## x holds the tensor value sof all image data\n",
        "    ## y hols the labels of all images\n",
        "    device = torch.device(device)\n",
        "    x, y = x.to(device), y.to(device)\n",
        "\n",
        "    if optimizer is not None:\n",
        "      optimizer.zero_grad()\n",
        "    pred = model(x)\n",
        "    loss = criterion(pred, y.long().squeeze())\n",
        "    current = batch * len(x)\n",
        "\n",
        "    loss.backward()\n",
        "    if optimizer is not None:\n",
        "      optimizer.step()\n",
        "    y_pred, y_true = torch.argmax(pred, axis=1), y.long().squeeze()\n",
        "    correct += (y_pred == y_true).type(torch.float).sum().item()\n",
        "\n",
        "    end = time.time()\n",
        "    time_delta = np.round(end-start, 3) \n",
        "    loss, current = np.round(loss.item(), 5), batch * len(x)\n",
        "\n",
        "  correct /= size\n",
        "  loss /= num_batches\n",
        "\n",
        "  pprint.pprint(f\"Train: Accuracy: {(100*correct):>0.2f}%, Avg loss: {loss:>5f} \\n\")\n",
        "\n",
        "  return loss, correct"
      ]
    },
    {
      "cell_type": "code",
      "execution_count": null,
      "metadata": {
        "id": "BzqwkrNiyol0"
      },
      "outputs": [],
      "source": [
        "def valid_model(valid_loader, model, criterion=None, device=device):\n",
        "  model = model.to(device)\n",
        "  model.eval()\n",
        "\n",
        "  size = len(valid_loader.dataset)\n",
        "  num_batches = len(valid_loader)\n",
        "\n",
        "  loss, correct = 0, 0\n",
        "  with torch.no_grad(): # disable gradients\n",
        "    for batch, (X, y) in enumerate(valid_loader):\n",
        "\n",
        "      start = time.time()\n",
        "  \n",
        "      device = torch.device(device)\n",
        "      X, y = X.to(device), y.to(device)\n",
        "\n",
        "      # compute predictions and loss\n",
        "      pred = model(X)\n",
        "      loss = criterion(pred, y.long().squeeze()) \n",
        "      current = batch * len(X)\n",
        "      \n",
        "      # sum correct predictions\n",
        "      y_pred, y_true = torch.argmax(pred, axis=1), y.long().squeeze()\n",
        "      correct += (y_pred == y_true).type(torch.float).sum().item()\n",
        "\n",
        "      end = time.time()\n",
        "      time_delta = np.round(end - start, 3)\n",
        "      \n",
        "      # log\n",
        "      loss, current = np.round(loss.item(), 5), batch * len(X)\n",
        "      # if batch % (CFG.print_freq) == 0:\n",
        "      #   print(f\"Valid Batch: {current:>5d}/{size:>5d}: loss: {loss:>5f} Elapsed Time: {time_delta} s\")\n",
        "\n",
        "  # metrics: calculate accuracy and loss for epoch (all batches)\n",
        "  correct /= size # epoch accuracy\n",
        "  loss /= num_batches # epoch loss\n",
        "\n",
        "  print(f\"Valid: Accuracy: {(100*correct):>0.2f}%, Avg loss: {loss:>5f} \\n\")\n",
        "\n",
        "  return loss, correct"
      ]
    },
    {
      "cell_type": "code",
      "execution_count": null,
      "metadata": {
        "id": "-TysJ6fMyr0-"
      },
      "outputs": [],
      "source": [
        "def get_optimizer(lr, optimizer, weight_decay, model, momentum):\n",
        "  if optimizer == 'adam':\n",
        "    return(torch.optim.Adam(model.paramters(), lr=lr, weight_decay=weight_decay, amsgrad=False))\n",
        "  elif optimizer == 'adamw':\n",
        "    return(torch.optim.AdamW(model.parameters(), lr=lr, weight_decay=weight_decay))\n",
        "  elif optimizer == 'rmsprop':\n",
        "    return(torch.optim.RMSprop(model.parameters(), lr=lr, weight_decay=weight_decay, momentum=momentum))\n",
        "  "
      ]
    },
    {
      "cell_type": "code",
      "execution_count": null,
      "metadata": {
        "id": "VgRaO_PVythz"
      },
      "outputs": [],
      "source": [
        "def get_scheduler(optimizer, scheduler, plateau_factor, verbose, cosine_T_max, cosine_eta_min):\n",
        "  if scheduler == 'ReduceLROnPlateau':\n",
        "    return(torch.optim.lr_scheduler.ReduceLROnPlateau(optimizer, mode='max', factor=plateau_factor, verbose=verbose))\n",
        "  elif scheduler == 'CosineAnnealingLR':\n",
        "    return(torch.optim.lr_scheduler.CosineAnnealingLR(optimizer, T_max = cosine_T_max, eta_min=cosine_eta_min))"
      ]
    },
    {
      "cell_type": "code",
      "execution_count": null,
      "metadata": {
        "id": "dJtQGzfHyuNW"
      },
      "outputs": [],
      "source": [
        "loss_fn = nn.CrossEntropyLoss()\n",
        "\n",
        "device = device\n",
        "model = model\n",
        "\n",
        "optimizer = get_optimizer(learning_rate, 'rmsprop', 0.1, model, 0)\n",
        "scheduler = get_scheduler(optimizer, 'ReduceLROnPlateau', 0.5, True, 4, 1e-8)"
      ]
    },
    {
      "cell_type": "code",
      "execution_count": null,
      "metadata": {
        "id": "kzVtx4e0ywbH"
      },
      "outputs": [],
      "source": [
        "###### SET PARAMETERS HERE ###\n",
        "num_epochs = 40\n",
        "\n",
        "#-----------------------------#\n",
        "train_loss_history = []\n",
        "train_acc_history = []\n",
        "valid_loss_history = []\n",
        "valid_acc_history = []\n",
        "LR_history = []\n",
        "\n",
        "best_loss = np.inf\n",
        "best_epoch_loss = 0\n",
        "best_acc = 0\n",
        "best_epoch_acc = 0\n",
        "\n",
        "start_train_time = time.time()\n",
        "\n",
        "for epoch in range(0, num_epochs):\n",
        "  print(f\"\\n-------------------------------   Epoch {epoch + 1}   -------------------------------\\n\")\n",
        "  start_epoch_time = time.time()\n",
        "\n",
        "  # train\n",
        "  train_loss, train_acc = train_model(train_loader, model, num_epochs = num_epochs ,criterion=loss_fn, optimizer=optimizer, device=device)\n",
        "  train_loss_history.append(train_loss)\n",
        "  train_acc_history.append(train_acc)\n",
        "\n",
        "  # validation\n",
        "  valid_loss, valid_acc = valid_model(valid_loader, model, loss_fn, device)\n",
        "  valid_loss_history.append(valid_loss)\n",
        "  valid_acc_history.append(valid_acc)\n",
        "\n",
        "  # apply LR scheduler after each epoch\n",
        "  if isinstance(scheduler, torch.optim.lr_scheduler.ReduceLROnPlateau):\n",
        "      scheduler.step(valid_loss)\n",
        "\n",
        "  elif isinstance(scheduler, torch.optim.lr_scheduler.CosineAnnealingLR):\n",
        "      scheduler.step()\n",
        "\n",
        "  # save LR value to plot later\n",
        "  for param_group in optimizer.param_groups:\n",
        "    LR_history.append(param_group['lr'])\n",
        "\n",
        "  # save validation loss if it was improved (reduced)\n",
        "  if valid_loss < best_loss:\n",
        "    best_epoch_loss = epoch + 1\n",
        "    best_loss = valid_loss\n",
        "    # if CFG.save_best_loss:\n",
        "    #   # save the model's weights and biases only if CFG.save_best_loss == True\n",
        "    #   torch.save(model.state_dict(), OUTPUT_PATH + f\"DigitModel_ep{best_epoch_loss}.pth\")\n",
        "\n",
        "  # save validation accuracy if it was improved (increased)\n",
        "  if valid_acc > best_acc:\n",
        "    best_epoch_acc = epoch + 1\n",
        "    best_acc = valid_acc\n",
        "    # if CFG.save_best_accuracy:\n",
        "    #   # save the model's weights and biases only if CFG.save_best_accuracy == True\n",
        "    #   torch.save(model.state_dict(), OUTPUT_PATH + f\"DigitModel_ep{best_epoch_acc}.pth\")    \n",
        "\n",
        "  end_epoch_time = time.time()\n",
        "  time_delta = np.round(end_epoch_time - start_epoch_time, 3)\n",
        "  print(\"\\n\\nEpoch Elapsed Time: {} s\".format(time_delta))\n",
        "\n",
        "end_train_time = time.time()\n",
        "print(\"\\n\\nTotal Elapsed Time: {} min\".format(np.round((end_train_time - start_train_time)/60, 3)))\n",
        "print(\"Done!\")\n"
      ]
    },
    {
      "cell_type": "markdown",
      "metadata": {
        "id": "38RUqAWBHVAx"
      },
      "source": [
        "8000 Fashion MNIST => 6.521 min\n",
        "\n",
        "VGG16 -> 114 seconds / epoch\n",
        "\n",
        "Aleznet -> 7.189 min\n",
        "\n",
        "GoogleNet -> 36 seconds / epoch\n"
      ]
    },
    {
      "cell_type": "markdown",
      "metadata": {
        "id": "XeGva3xXzD25"
      },
      "source": [
        "# Fast.ai"
      ]
    },
    {
      "cell_type": "code",
      "execution_count": null,
      "metadata": {
        "id": "v3gPqDBAeU8R"
      },
      "outputs": [],
      "source": [
        "!pip install fastai"
      ]
    },
    {
      "cell_type": "code",
      "source": [
        "!pip install timm"
      ],
      "metadata": {
        "colab": {
          "base_uri": "https://localhost:8080/"
        },
        "id": "XW8KW1Y7FEIN",
        "outputId": "029afeb4-623e-4fef-bd75-efdd63fafae2"
      },
      "execution_count": 4,
      "outputs": [
        {
          "output_type": "stream",
          "name": "stdout",
          "text": [
            "Installing collected packages: timm\n",
            "Successfully installed timm-0.5.4\n"
          ]
        }
      ]
    },
    {
      "cell_type": "code",
      "source": [
        "import fastai"
      ],
      "metadata": {
        "id": "a1tvfVIlnsXi"
      },
      "execution_count": 1,
      "outputs": []
    },
    {
      "cell_type": "code",
      "execution_count": 2,
      "metadata": {
        "id": "HbYu0R2i6xme"
      },
      "outputs": [],
      "source": [
        "import torchvision\n",
        "import torch\n",
        "import torchvision.transforms as transforms\n",
        "from sklearn.model_selection import train_test_split\n",
        "from torch.utils.data import DataLoader"
      ]
    },
    {
      "cell_type": "code",
      "source": [
        "from fastai.vision.all import *\n",
        "import timm"
      ],
      "metadata": {
        "id": "QosN8i9Rnvis"
      },
      "execution_count": 5,
      "outputs": []
    },
    {
      "cell_type": "code",
      "execution_count": 51,
      "metadata": {
        "colab": {
          "base_uri": "https://localhost:8080/",
          "height": 423,
          "referenced_widgets": [
            "1f0f4a5343dd4a029822cda8a78ea22d",
            "c6dbd4476f1546fc97811933c2bddadc",
            "84e5c06d97714602b986ee3c982feb29",
            "1b3668c67f034ca5b6e7830594547b51",
            "135f3fb13ecb47c4bbbbcd1146874de2",
            "fc1b936dba394ce3a773e9158cbc484e",
            "5a2142e547d5440a8f58eb4b130ab77c",
            "e270d65b62bd42c2b8e609d20a748705",
            "a6c9c3a4e8b246a29f1a3085698c926d",
            "c3d746b29fb4438385a880defdbb9b44",
            "4a940136f2db44108c98b582f19f5891",
            "9a9eca63c4ca4bee8607496456c2f9b5",
            "ec56c7af7c124cd88ebee2dfb2fddbbd",
            "4c6db16107344ca2b254513cbc354912",
            "6c51dc976a3a4f93b07ff8cd90cd9d28",
            "5dca897c29384d29b456c40e401b001f",
            "44bb90ca45064c33bfbfc12d0003443f",
            "e45166e08b7149e197040b16016812ee",
            "d0dc3b1257464f0c8f1774837dda6f75",
            "bbfd55917abb4afdbfd5c2fc51f72f06",
            "33f333ea9cfd40ca9dfd5dbe30e8a5e8",
            "2ec31c2e8f6a4f09a48b437c2034c033",
            "4c6e77abb713453d96154b04f1655ae8",
            "3999e686c30d4fca8f3d2e527b9a2c46",
            "f17ceaea178e44c89701492ee778b30d",
            "f029f20275df4fef9640a9e77136b739",
            "ef0d66f9acba45b4b0731d649bf78767",
            "e6d38b06d589422f9d492a3167537178",
            "59fa93e7dd304cba9f589ca07c0255fe",
            "196700d1abd34dbfa2d77305da9a7a36",
            "b966a33bc16f4076affb51b30613bd56",
            "12460439814b4f95b2f179780decf357",
            "88d42cb80b65450383f3b8218279eb44",
            "e20627529d8e4043b32e29552954772e",
            "91673453b919400383e8e487d3c7eb15",
            "b43745a627ba49cf9d5a43c6f5a34bf9",
            "ef1ec0aacf314b9b9cef1acc2c8ec350",
            "c41a951514e043d7aebc5dc71a82e75a",
            "1c9c2441f02c422d8e49153100f164f8",
            "0b4ceb1562ad46a5b084c8d01b6a3d31",
            "d7b04a730b27435a82810c727653b24a",
            "8106772291d44e8285bd6144858ff350",
            "8e3f971f5cd34c8687cb1f498dac591f",
            "c05ac8e0ea0348f0b3758123bee15c25"
          ]
        },
        "id": "cYTRXki62rH-",
        "outputId": "1da9e97e-05f2-4804-d90d-273ef180bbef"
      },
      "outputs": [
        {
          "output_type": "stream",
          "name": "stdout",
          "text": [
            "Downloading http://fashion-mnist.s3-website.eu-central-1.amazonaws.com/train-images-idx3-ubyte.gz\n",
            "Downloading http://fashion-mnist.s3-website.eu-central-1.amazonaws.com/train-images-idx3-ubyte.gz to /content/fashionMNIST/FashionMNIST/raw/train-images-idx3-ubyte.gz\n"
          ]
        },
        {
          "output_type": "display_data",
          "data": {
            "text/plain": [
              "  0%|          | 0/26421880 [00:00<?, ?it/s]"
            ],
            "application/vnd.jupyter.widget-view+json": {
              "version_major": 2,
              "version_minor": 0,
              "model_id": "1f0f4a5343dd4a029822cda8a78ea22d"
            }
          },
          "metadata": {}
        },
        {
          "output_type": "stream",
          "name": "stdout",
          "text": [
            "Extracting /content/fashionMNIST/FashionMNIST/raw/train-images-idx3-ubyte.gz to /content/fashionMNIST/FashionMNIST/raw\n",
            "\n",
            "Downloading http://fashion-mnist.s3-website.eu-central-1.amazonaws.com/train-labels-idx1-ubyte.gz\n",
            "Downloading http://fashion-mnist.s3-website.eu-central-1.amazonaws.com/train-labels-idx1-ubyte.gz to /content/fashionMNIST/FashionMNIST/raw/train-labels-idx1-ubyte.gz\n"
          ]
        },
        {
          "output_type": "display_data",
          "data": {
            "text/plain": [
              "  0%|          | 0/29515 [00:00<?, ?it/s]"
            ],
            "application/vnd.jupyter.widget-view+json": {
              "version_major": 2,
              "version_minor": 0,
              "model_id": "9a9eca63c4ca4bee8607496456c2f9b5"
            }
          },
          "metadata": {}
        },
        {
          "output_type": "stream",
          "name": "stdout",
          "text": [
            "Extracting /content/fashionMNIST/FashionMNIST/raw/train-labels-idx1-ubyte.gz to /content/fashionMNIST/FashionMNIST/raw\n",
            "\n",
            "Downloading http://fashion-mnist.s3-website.eu-central-1.amazonaws.com/t10k-images-idx3-ubyte.gz\n",
            "Downloading http://fashion-mnist.s3-website.eu-central-1.amazonaws.com/t10k-images-idx3-ubyte.gz to /content/fashionMNIST/FashionMNIST/raw/t10k-images-idx3-ubyte.gz\n"
          ]
        },
        {
          "output_type": "display_data",
          "data": {
            "text/plain": [
              "  0%|          | 0/4422102 [00:00<?, ?it/s]"
            ],
            "application/vnd.jupyter.widget-view+json": {
              "version_major": 2,
              "version_minor": 0,
              "model_id": "4c6e77abb713453d96154b04f1655ae8"
            }
          },
          "metadata": {}
        },
        {
          "output_type": "stream",
          "name": "stdout",
          "text": [
            "Extracting /content/fashionMNIST/FashionMNIST/raw/t10k-images-idx3-ubyte.gz to /content/fashionMNIST/FashionMNIST/raw\n",
            "\n",
            "Downloading http://fashion-mnist.s3-website.eu-central-1.amazonaws.com/t10k-labels-idx1-ubyte.gz\n",
            "Downloading http://fashion-mnist.s3-website.eu-central-1.amazonaws.com/t10k-labels-idx1-ubyte.gz to /content/fashionMNIST/FashionMNIST/raw/t10k-labels-idx1-ubyte.gz\n"
          ]
        },
        {
          "output_type": "display_data",
          "data": {
            "text/plain": [
              "  0%|          | 0/5148 [00:00<?, ?it/s]"
            ],
            "application/vnd.jupyter.widget-view+json": {
              "version_major": 2,
              "version_minor": 0,
              "model_id": "e20627529d8e4043b32e29552954772e"
            }
          },
          "metadata": {}
        },
        {
          "output_type": "stream",
          "name": "stdout",
          "text": [
            "Extracting /content/fashionMNIST/FashionMNIST/raw/t10k-labels-idx1-ubyte.gz to /content/fashionMNIST/FashionMNIST/raw\n",
            "\n"
          ]
        }
      ],
      "source": [
        "dataset = torchvision.datasets.FashionMNIST(root= '/content/fashionMNIST', \n",
        "                                            download = True,\n",
        "                                            transform=transforms.Compose([transforms.Resize((224, 224)),\n",
        "                                                                          transforms.ToTensor(),\n",
        "                                                                          transforms.Lambda(lambda x: x.repeat(3, 1, 1) if x.size(0) == 1 else x)]),\n",
        "                                            train= True)"
      ]
    },
    {
      "cell_type": "code",
      "execution_count": 52,
      "metadata": {
        "colab": {
          "base_uri": "https://localhost:8080/"
        },
        "id": "zWRcWQ5NHl4s",
        "outputId": "6fa6d5a5-9d51-4b4a-f519-a4066154a614"
      },
      "outputs": [
        {
          "output_type": "execute_result",
          "data": {
            "text/plain": [
              "10000"
            ]
          },
          "metadata": {},
          "execution_count": 52
        }
      ],
      "source": [
        "dataset = [dataset[i] for i in range(10000)]\n",
        "len(dataset)"
      ]
    },
    {
      "cell_type": "code",
      "execution_count": 53,
      "metadata": {
        "id": "V-2RMyjTCLkQ"
      },
      "outputs": [],
      "source": [
        "train_dataset,valid_dataset = train_test_split(dataset, train_size=0.8)"
      ]
    },
    {
      "cell_type": "code",
      "source": [
        "for i in train_dataset:\n",
        "    print((i[0].shape))\n",
        "    break"
      ],
      "metadata": {
        "colab": {
          "base_uri": "https://localhost:8080/"
        },
        "id": "rWCgXK-poMhY",
        "outputId": "78068655-1426-4530-e002-f89e3dbe34cd"
      },
      "execution_count": null,
      "outputs": [
        {
          "output_type": "stream",
          "name": "stdout",
          "text": [
            "torch.Size([3, 224, 224])\n"
          ]
        }
      ]
    },
    {
      "cell_type": "code",
      "source": [
        "del dataset"
      ],
      "metadata": {
        "id": "HMvpk-EFjnqE"
      },
      "execution_count": null,
      "outputs": []
    },
    {
      "cell_type": "code",
      "execution_count": 54,
      "metadata": {
        "colab": {
          "base_uri": "https://localhost:8080/"
        },
        "id": "XA7Ck-A7CaDX",
        "outputId": "0b02a94b-b288-4dad-f401-6390d55f1206"
      },
      "outputs": [
        {
          "output_type": "stream",
          "name": "stdout",
          "text": [
            "cuda:0\n"
          ]
        }
      ],
      "source": [
        "from fastai.data.core import DataLoaders\n",
        "import torch\n",
        "\n",
        "device = torch.device(\"cuda:0\" if torch.cuda.is_available() else \"cpu\")\n",
        "print(device)\n",
        "dls = DataLoaders.from_dsets(train_dataset, valid_dataset, device=device)"
      ]
    },
    {
      "cell_type": "markdown",
      "metadata": {
        "id": "-hg-wS0t31HJ"
      },
      "source": [
        "If it is a pytorch model, continue else go to next block"
      ]
    },
    {
      "cell_type": "code",
      "execution_count": null,
      "metadata": {
        "colab": {
          "base_uri": "https://localhost:8080/",
          "height": 165
        },
        "id": "eBZ5wBNypu0u",
        "outputId": "b30cdefb-c78a-4603-fc05-c3bd369565ca"
      },
      "outputs": [
        {
          "ename": "NameError",
          "evalue": "ignored",
          "output_type": "error",
          "traceback": [
            "\u001b[0;31m---------------------------------------------------------------------------\u001b[0m",
            "\u001b[0;31mNameError\u001b[0m                                 Traceback (most recent call last)",
            "\u001b[0;32m<ipython-input-1-cc7b7f2e7bc8>\u001b[0m in \u001b[0;36m<module>\u001b[0;34m()\u001b[0m\n\u001b[0;32m----> 1\u001b[0;31m \u001b[0mmodel\u001b[0m \u001b[0;34m=\u001b[0m \u001b[0mtorchvision\u001b[0m\u001b[0;34m.\u001b[0m\u001b[0mmodels\u001b[0m\u001b[0;34m.\u001b[0m\u001b[0mgooglenet\u001b[0m\u001b[0;34m\u001b[0m\u001b[0;34m\u001b[0m\u001b[0m\n\u001b[0m",
            "\u001b[0;31mNameError\u001b[0m: name 'torchvision' is not defined"
          ]
        }
      ],
      "source": [
        "model = torchvision.models.googlenet"
      ]
    },
    {
      "cell_type": "code",
      "execution_count": null,
      "metadata": {
        "colab": {
          "base_uri": "https://localhost:8080/"
        },
        "id": "YMeHdbb3tUma",
        "outputId": "a2c5599a-51ee-4340-a841-6c7582492900"
      },
      "outputs": [
        {
          "data": {
            "text/plain": [
              "<function torchvision.models.googlenet.googlenet>"
            ]
          },
          "execution_count": 9,
          "metadata": {},
          "output_type": "execute_result"
        }
      ],
      "source": [
        "model"
      ]
    },
    {
      "cell_type": "code",
      "execution_count": null,
      "metadata": {
        "id": "JeWKOHHHpy56"
      },
      "outputs": [],
      "source": [
        "from fastai.vision.all import *\n",
        "from fastai.vision import *\n",
        "learn = vision_learner(dls, model, n_out=10, loss_func=torch.nn.CrossEntropyLoss(), pretrained=True)"
      ]
    },
    {
      "cell_type": "markdown",
      "metadata": {
        "id": "h3hI-sWG37mq"
      },
      "source": [
        "if it is a timm model"
      ]
    },
    {
      "cell_type": "code",
      "execution_count": null,
      "metadata": {
        "id": "UY6GcYOVE3bq"
      },
      "outputs": [],
      "source": [
        "import fastai"
      ]
    },
    {
      "cell_type": "code",
      "execution_count": null,
      "metadata": {
        "id": "atpAQDewYw4n"
      },
      "outputs": [],
      "source": [
        "!pip install timm"
      ]
    },
    {
      "cell_type": "code",
      "execution_count": null,
      "metadata": {
        "id": "SEE0ZTIng1HK"
      },
      "outputs": [],
      "source": [
        "!pip install wwf"
      ]
    },
    {
      "cell_type": "code",
      "execution_count": null,
      "metadata": {
        "id": "8OnjRDG3z8l0"
      },
      "outputs": [],
      "source": [
        "import timm"
      ]
    },
    {
      "cell_type": "code",
      "execution_count": null,
      "metadata": {
        "id": "pS31tsIG5Twi"
      },
      "outputs": [],
      "source": [
        "import wwf"
      ]
    },
    {
      "cell_type": "code",
      "execution_count": null,
      "metadata": {
        "colab": {
          "base_uri": "https://localhost:8080/"
        },
        "id": "EmubG5gF7nJA",
        "outputId": "5b12d010-9ee2-4f23-92ef-7307c894fb89"
      },
      "outputs": [
        {
          "name": "stdout",
          "output_type": "stream",
          "text": [
            "None\n"
          ]
        }
      ],
      "source": [
        "print(model)"
      ]
    },
    {
      "cell_type": "markdown",
      "metadata": {
        "id": "W5z-SVPN8F40"
      },
      "source": [
        "Does not have already built weights"
      ]
    },
    {
      "cell_type": "code",
      "execution_count": null,
      "metadata": {
        "colab": {
          "base_uri": "https://localhost:8080/"
        },
        "id": "GeiMZzmB6cDr",
        "outputId": "b9978114-e767-40e1-cc09-74595dbe563d"
      },
      "outputs": [
        {
          "name": "stderr",
          "output_type": "stream",
          "text": [
            "No pretrained weights exist for this model. Using random initialization.\n"
          ]
        }
      ],
      "source": [
        "model = timm.models.helpers.load_custom_pretrained('vit_small_patch32_224_in21k', default_cfg=None, load_fn=None, progress=False, check_hash=False)"
      ]
    },
    {
      "cell_type": "code",
      "execution_count": null,
      "metadata": {
        "colab": {
          "base_uri": "https://localhost:8080/",
          "height": 165
        },
        "id": "2ZBv3ZyC77wk",
        "outputId": "d529c69e-e94c-4a54-b9f4-8982cba8000a"
      },
      "outputs": [
        {
          "ename": "NameError",
          "evalue": "ignored",
          "output_type": "error",
          "traceback": [
            "\u001b[0;31m---------------------------------------------------------------------------\u001b[0m",
            "\u001b[0;31mNameError\u001b[0m                                 Traceback (most recent call last)",
            "\u001b[0;32m<ipython-input-14-ffe691eaa453>\u001b[0m in \u001b[0;36m<module>\u001b[0;34m()\u001b[0m\n\u001b[0;32m----> 1\u001b[0;31m \u001b[0mlearn\u001b[0m \u001b[0;34m=\u001b[0m \u001b[0mvision_learner\u001b[0m\u001b[0;34m(\u001b[0m\u001b[0mdls\u001b[0m\u001b[0;34m,\u001b[0m \u001b[0mmodel\u001b[0m\u001b[0;34m,\u001b[0m \u001b[0mn_out\u001b[0m\u001b[0;34m=\u001b[0m\u001b[0;36m10\u001b[0m\u001b[0;34m)\u001b[0m\u001b[0;34m\u001b[0m\u001b[0;34m\u001b[0m\u001b[0m\n\u001b[0m",
            "\u001b[0;31mNameError\u001b[0m: name 'model' is not defined"
          ]
        }
      ],
      "source": [
        "learn = vision_learner(dls, model, n_out=10)"
      ]
    },
    {
      "cell_type": "code",
      "execution_count": null,
      "metadata": {
        "colab": {
          "base_uri": "https://localhost:8080/",
          "height": 200
        },
        "id": "ELhEBSL79i1g",
        "outputId": "9f251eb0-806c-4e09-e810-df85abf350e8"
      },
      "outputs": [
        {
          "ename": "NameError",
          "evalue": "ignored",
          "output_type": "error",
          "traceback": [
            "\u001b[0;31m---------------------------------------------------------------------------\u001b[0m",
            "\u001b[0;31mNameError\u001b[0m                                 Traceback (most recent call last)",
            "\u001b[0;32m<ipython-input-12-f573cc527ab6>\u001b[0m in \u001b[0;36m<module>\u001b[0;34m()\u001b[0m\n\u001b[1;32m      2\u001b[0m \u001b[0;32mfrom\u001b[0m \u001b[0mfastai\u001b[0m\u001b[0;34m.\u001b[0m\u001b[0mvision\u001b[0m\u001b[0;34m.\u001b[0m\u001b[0mlearner\u001b[0m \u001b[0;32mimport\u001b[0m \u001b[0m_update_first_layer\u001b[0m\u001b[0;34m\u001b[0m\u001b[0;34m\u001b[0m\u001b[0m\n\u001b[1;32m      3\u001b[0m \u001b[0;34m\u001b[0m\u001b[0m\n\u001b[0;32m----> 4\u001b[0;31m \u001b[0mmeta\u001b[0m \u001b[0;34m=\u001b[0m \u001b[0mmodel_meta\u001b[0m\u001b[0;34m.\u001b[0m\u001b[0mget\u001b[0m\u001b[0;34m(\u001b[0m\u001b[0;34m'vit_large_patch16_224'\u001b[0m\u001b[0;34m,\u001b[0m \u001b[0m_default_meta\u001b[0m\u001b[0;34m)\u001b[0m\u001b[0;34m\u001b[0m\u001b[0;34m\u001b[0m\u001b[0m\n\u001b[0m",
            "\u001b[0;31mNameError\u001b[0m: name 'model_meta' is not defined"
          ]
        }
      ],
      "source": [
        "from timm import create_model\n",
        "from fastai.vision.learner import _update_first_layer\n",
        "\n",
        "meta = model_meta.get('vit_large_patch16_224', _default_meta)"
      ]
    },
    {
      "cell_type": "code",
      "execution_count": null,
      "metadata": {
        "id": "VLWptestBEHW"
      },
      "outputs": [],
      "source": [
        "import timm\n",
        "timm.list_models(pretrained=True)"
      ]
    },
    {
      "cell_type": "code",
      "execution_count": null,
      "metadata": {
        "id": "Fy-pIFBJJCbX"
      },
      "outputs": [],
      "source": [
        "import timm\n",
        "model = timm.create_model('vit_base_patch16_224', pretrained=True)\n",
        "model.eval()\n",
        "\n"
      ]
    },
    {
      "cell_type": "code",
      "execution_count": null,
      "metadata": {
        "colab": {
          "base_uri": "https://localhost:8080/",
          "height": 200
        },
        "id": "D6IGZx7zDV3k",
        "outputId": "4231151d-a3c0-42f7-f2f0-330643ea013f"
      },
      "outputs": [
        {
          "ename": "NameError",
          "evalue": "ignored",
          "output_type": "error",
          "traceback": [
            "\u001b[0;31m---------------------------------------------------------------------------\u001b[0m",
            "\u001b[0;31mNameError\u001b[0m                                 Traceback (most recent call last)",
            "\u001b[0;32m<ipython-input-7-0764a1b47647>\u001b[0m in \u001b[0;36m<module>\u001b[0;34m()\u001b[0m\n\u001b[1;32m      1\u001b[0m \u001b[0;31m## incase of a ViT\u001b[0m\u001b[0;34m\u001b[0m\u001b[0;34m\u001b[0m\u001b[0;34m\u001b[0m\u001b[0m\n\u001b[0;32m----> 2\u001b[0;31m \u001b[0mViT_model\u001b[0m \u001b[0;34m=\u001b[0m \u001b[0mtimm\u001b[0m\u001b[0;34m.\u001b[0m\u001b[0mcreate_model\u001b[0m\u001b[0;34m(\u001b[0m\u001b[0;34m'vit_large_patch16_224'\u001b[0m\u001b[0;34m,\u001b[0m \u001b[0mpretrained\u001b[0m\u001b[0;34m=\u001b[0m\u001b[0;32mTrue\u001b[0m\u001b[0;34m,\u001b[0m \u001b[0mnum_classes\u001b[0m\u001b[0;34m=\u001b[0m\u001b[0;36m10\u001b[0m\u001b[0;34m)\u001b[0m\u001b[0;34m\u001b[0m\u001b[0;34m\u001b[0m\u001b[0m\n\u001b[0m\u001b[1;32m      3\u001b[0m \u001b[0mNN_model\u001b[0m \u001b[0;34m=\u001b[0m \u001b[0mtimm\u001b[0m\u001b[0;34m.\u001b[0m\u001b[0mcreate_model\u001b[0m\u001b[0;34m(\u001b[0m\u001b[0;34m'resnet34'\u001b[0m\u001b[0;34m,\u001b[0m \u001b[0mpretrained\u001b[0m\u001b[0;34m=\u001b[0m\u001b[0;32mTrue\u001b[0m\u001b[0;34m,\u001b[0m \u001b[0mnum_classes\u001b[0m\u001b[0;34m=\u001b[0m\u001b[0;36m10\u001b[0m\u001b[0;34m)\u001b[0m\u001b[0;34m\u001b[0m\u001b[0;34m\u001b[0m\u001b[0m\n",
            "\u001b[0;31mNameError\u001b[0m: name 'timm' is not defined"
          ]
        }
      ],
      "source": [
        "## incase of a ViT\n",
        "ViT_model = timm.create_model('vit_large_patch16_224', pretrained=True, num_classes=10)\n",
        "NN_model = timm.create_model('resnet34', pretrained=True, num_classes=10)"
      ]
    },
    {
      "cell_type": "code",
      "execution_count": null,
      "metadata": {
        "colab": {
          "base_uri": "https://localhost:8080/"
        },
        "id": "pkAg0KwceLjB",
        "outputId": "78bc4ee2-9ef3-436c-a1dc-e0459db3d8ae"
      },
      "outputs": [
        {
          "data": {
            "text/plain": [
              "timm.models.resnet.ResNet"
            ]
          },
          "execution_count": 13,
          "metadata": {},
          "output_type": "execute_result"
        }
      ],
      "source": [
        "print(type(model))\n",
        "print(type(NN_model))"
      ]
    },
    {
      "cell_type": "code",
      "execution_count": null,
      "metadata": {
        "colab": {
          "base_uri": "https://localhost:8080/",
          "height": 304
        },
        "id": "rfuZNmPAMwAO",
        "outputId": "c080a249-1dc5-4fea-9c0e-2d6afa7fdab1"
      },
      "outputs": [
        {
          "ename": "AttributeError",
          "evalue": "ignored",
          "output_type": "error",
          "traceback": [
            "\u001b[0;31m---------------------------------------------------------------------------\u001b[0m",
            "\u001b[0;31mAttributeError\u001b[0m                            Traceback (most recent call last)",
            "\u001b[0;32m<ipython-input-7-2e9f983fde29>\u001b[0m in \u001b[0;36m<module>\u001b[0;34m()\u001b[0m\n\u001b[0;32m----> 1\u001b[0;31m \u001b[0;32mfor\u001b[0m \u001b[0mlayer\u001b[0m \u001b[0;32min\u001b[0m \u001b[0mmodel\u001b[0m\u001b[0;34m.\u001b[0m\u001b[0mnorm_layer\u001b[0m\u001b[0;34m:\u001b[0m\u001b[0;34m\u001b[0m\u001b[0;34m\u001b[0m\u001b[0m\n\u001b[0m\u001b[1;32m      2\u001b[0m   \u001b[0mprint\u001b[0m\u001b[0;34m(\u001b[0m\u001b[0mlayer\u001b[0m\u001b[0;34m)\u001b[0m\u001b[0;34m\u001b[0m\u001b[0;34m\u001b[0m\u001b[0m\n",
            "\u001b[0;32m/usr/local/lib/python3.7/dist-packages/torch/nn/modules/module.py\u001b[0m in \u001b[0;36m__getattr__\u001b[0;34m(self, name)\u001b[0m\n\u001b[1;32m   1184\u001b[0m                 \u001b[0;32mreturn\u001b[0m \u001b[0mmodules\u001b[0m\u001b[0;34m[\u001b[0m\u001b[0mname\u001b[0m\u001b[0;34m]\u001b[0m\u001b[0;34m\u001b[0m\u001b[0;34m\u001b[0m\u001b[0m\n\u001b[1;32m   1185\u001b[0m         raise AttributeError(\"'{}' object has no attribute '{}'\".format(\n\u001b[0;32m-> 1186\u001b[0;31m             type(self).__name__, name))\n\u001b[0m\u001b[1;32m   1187\u001b[0m \u001b[0;34m\u001b[0m\u001b[0m\n\u001b[1;32m   1188\u001b[0m     \u001b[0;32mdef\u001b[0m \u001b[0m__setattr__\u001b[0m\u001b[0;34m(\u001b[0m\u001b[0mself\u001b[0m\u001b[0;34m,\u001b[0m \u001b[0mname\u001b[0m\u001b[0;34m:\u001b[0m \u001b[0mstr\u001b[0m\u001b[0;34m,\u001b[0m \u001b[0mvalue\u001b[0m\u001b[0;34m:\u001b[0m \u001b[0mUnion\u001b[0m\u001b[0;34m[\u001b[0m\u001b[0mTensor\u001b[0m\u001b[0;34m,\u001b[0m \u001b[0;34m'Module'\u001b[0m\u001b[0;34m]\u001b[0m\u001b[0;34m)\u001b[0m \u001b[0;34m->\u001b[0m \u001b[0;32mNone\u001b[0m\u001b[0;34m:\u001b[0m\u001b[0;34m\u001b[0m\u001b[0;34m\u001b[0m\u001b[0m\n",
            "\u001b[0;31mAttributeError\u001b[0m: 'VisionTransformer' object has no attribute 'norm_layer'"
          ]
        }
      ],
      "source": [
        "import torchvision\n",
        "from torchvision.models.vision_transformer import *\n",
        "mode = torchvision.models.vision_transformer._vision_transformer()"
      ]
    },
    {
      "cell_type": "code",
      "execution_count": null,
      "metadata": {
        "colab": {
          "base_uri": "https://localhost:8080/",
          "height": 235
        },
        "id": "i3XH7Te6Feez",
        "outputId": "7bbc4a66-574c-4cf8-a080-0a2178d30220"
      },
      "outputs": [
        {
          "ename": "TypeError",
          "evalue": "ignored",
          "output_type": "error",
          "traceback": [
            "\u001b[0;31m---------------------------------------------------------------------------\u001b[0m",
            "\u001b[0;31mTypeError\u001b[0m                                 Traceback (most recent call last)",
            "\u001b[0;32m<ipython-input-40-5aa16a075b15>\u001b[0m in \u001b[0;36m<module>\u001b[0;34m()\u001b[0m\n\u001b[1;32m      1\u001b[0m \u001b[0mcreate_fn\u001b[0m \u001b[0;34m=\u001b[0m \u001b[0mtimm\u001b[0m\u001b[0;34m.\u001b[0m\u001b[0mmodels\u001b[0m\u001b[0;34m.\u001b[0m\u001b[0mfactory\u001b[0m\u001b[0;34m.\u001b[0m\u001b[0mmodel_entrypoint\u001b[0m\u001b[0;34m(\u001b[0m\u001b[0;34m'vit_large_patch16_224'\u001b[0m\u001b[0;34m)\u001b[0m\u001b[0;34m\u001b[0m\u001b[0;34m\u001b[0m\u001b[0m\n\u001b[0;32m----> 2\u001b[0;31m \u001b[0;32mfor\u001b[0m \u001b[0mi\u001b[0m \u001b[0;32min\u001b[0m \u001b[0mcreate_fn\u001b[0m\u001b[0;34m(\u001b[0m\u001b[0;34m)\u001b[0m\u001b[0;34m:\u001b[0m\u001b[0;34m\u001b[0m\u001b[0;34m\u001b[0m\u001b[0m\n\u001b[0m\u001b[1;32m      3\u001b[0m   \u001b[0mprint\u001b[0m\u001b[0;34m(\u001b[0m\u001b[0mi\u001b[0m\u001b[0;34m)\u001b[0m\u001b[0;34m\u001b[0m\u001b[0;34m\u001b[0m\u001b[0m\n\u001b[1;32m      4\u001b[0m   \u001b[0;32mbreak\u001b[0m\u001b[0;34m\u001b[0m\u001b[0;34m\u001b[0m\u001b[0m\n\u001b[1;32m      5\u001b[0m \u001b[0;31m# with timm.models.factory.set_layer_config(scriptable=None, exportable=None, no_jit=None):\u001b[0m\u001b[0;34m\u001b[0m\u001b[0;34m\u001b[0m\u001b[0;34m\u001b[0m\u001b[0m\n",
            "\u001b[0;31mTypeError\u001b[0m: 'VisionTransformer' object is not iterable"
          ]
        }
      ],
      "source": [
        "# create_fn = timm.models.factory.model_entrypoint('vit_large_patch16_224')\n",
        "# for i in create_fn():\n",
        "#   print(i)\n",
        "#   break\n",
        "# with timm.models.factory.set_layer_config(scriptable=None, exportable=None, no_jit=None):\n",
        "#   model = \n",
        "\n",
        "\n",
        "## Vision Transformer class "
      ]
    },
    {
      "cell_type": "code",
      "execution_count": null,
      "metadata": {
        "id": "GaPNNkQnLZFY"
      },
      "outputs": [],
      "source": [
        ""
      ]
    },
    {
      "cell_type": "code",
      "execution_count": null,
      "metadata": {
        "colab": {
          "base_uri": "https://localhost:8080/",
          "height": 363
        },
        "id": "QGMCUiOiEX-O",
        "outputId": "802cad41-6b67-4550-cf90-8a8f6d01e4e0"
      },
      "outputs": [
        {
          "ename": "TypeError",
          "evalue": "ignored",
          "output_type": "error",
          "traceback": [
            "\u001b[0;31m---------------------------------------------------------------------------\u001b[0m",
            "\u001b[0;31mTypeError\u001b[0m                                 Traceback (most recent call last)",
            "\u001b[0;32m<ipython-input-32-f1ee99d9a9b0>\u001b[0m in \u001b[0;36m<module>\u001b[0;34m()\u001b[0m\n\u001b[1;32m      1\u001b[0m \u001b[0;32mwith\u001b[0m \u001b[0mtimm\u001b[0m\u001b[0;34m.\u001b[0m\u001b[0mmodels\u001b[0m\u001b[0;34m.\u001b[0m\u001b[0mfactory\u001b[0m\u001b[0;34m.\u001b[0m\u001b[0mset_layer_config\u001b[0m\u001b[0;34m(\u001b[0m\u001b[0;34m)\u001b[0m\u001b[0;34m:\u001b[0m\u001b[0;34m\u001b[0m\u001b[0;34m\u001b[0m\u001b[0m\n\u001b[0;32m----> 2\u001b[0;31m   \u001b[0mnew_model\u001b[0m \u001b[0;34m=\u001b[0m \u001b[0mcreate_fn\u001b[0m\u001b[0;34m(\u001b[0m\u001b[0mglobal_pool\u001b[0m \u001b[0;34m=\u001b[0m \u001b[0;34m'avg'\u001b[0m\u001b[0;34m)\u001b[0m\u001b[0;34m\u001b[0m\u001b[0;34m\u001b[0m\u001b[0m\n\u001b[0m",
            "\u001b[0;32m/usr/local/lib/python3.7/dist-packages/timm/models/vision_transformer.py\u001b[0m in \u001b[0;36mvit_large_patch16_224\u001b[0;34m(pretrained, **kwargs)\u001b[0m\n\u001b[1;32m    686\u001b[0m     \"\"\"\n\u001b[1;32m    687\u001b[0m     \u001b[0mmodel_kwargs\u001b[0m \u001b[0;34m=\u001b[0m \u001b[0mdict\u001b[0m\u001b[0;34m(\u001b[0m\u001b[0mpatch_size\u001b[0m\u001b[0;34m=\u001b[0m\u001b[0;36m16\u001b[0m\u001b[0;34m,\u001b[0m \u001b[0membed_dim\u001b[0m\u001b[0;34m=\u001b[0m\u001b[0;36m1024\u001b[0m\u001b[0;34m,\u001b[0m \u001b[0mdepth\u001b[0m\u001b[0;34m=\u001b[0m\u001b[0;36m24\u001b[0m\u001b[0;34m,\u001b[0m \u001b[0mnum_heads\u001b[0m\u001b[0;34m=\u001b[0m\u001b[0;36m16\u001b[0m\u001b[0;34m,\u001b[0m \u001b[0;34m**\u001b[0m\u001b[0mkwargs\u001b[0m\u001b[0;34m)\u001b[0m\u001b[0;34m\u001b[0m\u001b[0;34m\u001b[0m\u001b[0m\n\u001b[0;32m--> 688\u001b[0;31m     \u001b[0mmodel\u001b[0m \u001b[0;34m=\u001b[0m \u001b[0m_create_vision_transformer\u001b[0m\u001b[0;34m(\u001b[0m\u001b[0;34m'vit_large_patch16_224'\u001b[0m\u001b[0;34m,\u001b[0m \u001b[0mpretrained\u001b[0m\u001b[0;34m=\u001b[0m\u001b[0mpretrained\u001b[0m\u001b[0;34m,\u001b[0m \u001b[0;34m**\u001b[0m\u001b[0mmodel_kwargs\u001b[0m\u001b[0;34m)\u001b[0m\u001b[0;34m\u001b[0m\u001b[0;34m\u001b[0m\u001b[0m\n\u001b[0m\u001b[1;32m    689\u001b[0m     \u001b[0;32mreturn\u001b[0m \u001b[0mmodel\u001b[0m\u001b[0;34m\u001b[0m\u001b[0;34m\u001b[0m\u001b[0m\n\u001b[1;32m    690\u001b[0m \u001b[0;34m\u001b[0m\u001b[0m\n",
            "\u001b[0;32m/usr/local/lib/python3.7/dist-packages/timm/models/vision_transformer.py\u001b[0m in \u001b[0;36m_create_vision_transformer\u001b[0;34m(variant, pretrained, default_cfg, **kwargs)\u001b[0m\n\u001b[1;32m    551\u001b[0m         \u001b[0mpretrained_filter_fn\u001b[0m\u001b[0;34m=\u001b[0m\u001b[0mcheckpoint_filter_fn\u001b[0m\u001b[0;34m,\u001b[0m\u001b[0;34m\u001b[0m\u001b[0;34m\u001b[0m\u001b[0m\n\u001b[1;32m    552\u001b[0m         \u001b[0mpretrained_custom_load\u001b[0m\u001b[0;34m=\u001b[0m\u001b[0;34m'npz'\u001b[0m \u001b[0;32min\u001b[0m \u001b[0mdefault_cfg\u001b[0m\u001b[0;34m[\u001b[0m\u001b[0;34m'url'\u001b[0m\u001b[0;34m]\u001b[0m\u001b[0;34m,\u001b[0m\u001b[0;34m\u001b[0m\u001b[0;34m\u001b[0m\u001b[0m\n\u001b[0;32m--> 553\u001b[0;31m         **kwargs)\n\u001b[0m\u001b[1;32m    554\u001b[0m     \u001b[0;32mreturn\u001b[0m \u001b[0mmodel\u001b[0m\u001b[0;34m\u001b[0m\u001b[0;34m\u001b[0m\u001b[0m\n\u001b[1;32m    555\u001b[0m \u001b[0;34m\u001b[0m\u001b[0m\n",
            "\u001b[0;32m/usr/local/lib/python3.7/dist-packages/timm/models/helpers.py\u001b[0m in \u001b[0;36mbuild_model_with_cfg\u001b[0;34m(model_cls, variant, pretrained, default_cfg, model_cfg, feature_cfg, pretrained_strict, pretrained_filter_fn, pretrained_custom_load, kwargs_filter, **kwargs)\u001b[0m\n\u001b[1;32m    451\u001b[0m \u001b[0;34m\u001b[0m\u001b[0m\n\u001b[1;32m    452\u001b[0m     \u001b[0;31m# Build the model\u001b[0m\u001b[0;34m\u001b[0m\u001b[0;34m\u001b[0m\u001b[0;34m\u001b[0m\u001b[0m\n\u001b[0;32m--> 453\u001b[0;31m     \u001b[0mmodel\u001b[0m \u001b[0;34m=\u001b[0m \u001b[0mmodel_cls\u001b[0m\u001b[0;34m(\u001b[0m\u001b[0;34m**\u001b[0m\u001b[0mkwargs\u001b[0m\u001b[0;34m)\u001b[0m \u001b[0;32mif\u001b[0m \u001b[0mmodel_cfg\u001b[0m \u001b[0;32mis\u001b[0m \u001b[0;32mNone\u001b[0m \u001b[0;32melse\u001b[0m \u001b[0mmodel_cls\u001b[0m\u001b[0;34m(\u001b[0m\u001b[0mcfg\u001b[0m\u001b[0;34m=\u001b[0m\u001b[0mmodel_cfg\u001b[0m\u001b[0;34m,\u001b[0m \u001b[0;34m**\u001b[0m\u001b[0mkwargs\u001b[0m\u001b[0;34m)\u001b[0m\u001b[0;34m\u001b[0m\u001b[0;34m\u001b[0m\u001b[0m\n\u001b[0m\u001b[1;32m    454\u001b[0m     \u001b[0mmodel\u001b[0m\u001b[0;34m.\u001b[0m\u001b[0mdefault_cfg\u001b[0m \u001b[0;34m=\u001b[0m \u001b[0mdefault_cfg\u001b[0m\u001b[0;34m\u001b[0m\u001b[0;34m\u001b[0m\u001b[0m\n\u001b[1;32m    455\u001b[0m \u001b[0;34m\u001b[0m\u001b[0m\n",
            "\u001b[0;31mTypeError\u001b[0m: __init__() got an unexpected keyword argument 'global_pool'"
          ]
        }
      ],
      "source": [
        " with timm.models.factory.set_layer_config():\n",
        "   new_model = create_fn(global_pool = 'avg')"
      ]
    },
    {
      "cell_type": "code",
      "execution_count": null,
      "metadata": {
        "id": "3KZk4LjkGVMm"
      },
      "outputs": [],
      "source": [
        "model"
      ]
    },
    {
      "cell_type": "code",
      "execution_count": null,
      "metadata": {
        "id": "jZqtpqaoi1RN"
      },
      "outputs": [],
      "source": [
        "from wwf.vision.timm import *\n",
        "import timm\n",
        "from fastai.vision import *\n",
        "from fastai.vision.all import *\n",
        "learn = timm_learner(dls, 'vit_large_patch16_224', n_out=10, loss_func=torch.nn.CrossEntropyLoss(), pretrained=False)"
      ]
    },
    {
      "cell_type": "code",
      "execution_count": null,
      "metadata": {
        "colab": {
          "base_uri": "https://localhost:8080/",
          "height": 183
        },
        "id": "HCzyPlSMhu1g",
        "outputId": "a791ff38-0f66-41cd-a2c2-fcaf6d306812"
      },
      "outputs": [
        {
          "ename": "NameError",
          "evalue": "ignored",
          "output_type": "error",
          "traceback": [
            "\u001b[0;31m---------------------------------------------------------------------------\u001b[0m",
            "\u001b[0;31mNameError\u001b[0m                                 Traceback (most recent call last)",
            "\u001b[0;32m<ipython-input-44-dea3c67c8d8f>\u001b[0m in \u001b[0;36m<module>\u001b[0;34m()\u001b[0m\n\u001b[0;32m----> 1\u001b[0;31m \u001b[0mlearn\u001b[0m\u001b[0;34m.\u001b[0m\u001b[0mto\u001b[0m\u001b[0;34m(\u001b[0m\u001b[0mdevice\u001b[0m\u001b[0;34m)\u001b[0m\u001b[0;34m\u001b[0m\u001b[0;34m\u001b[0m\u001b[0m\n\u001b[0m\u001b[1;32m      2\u001b[0m \u001b[0mdls\u001b[0m\u001b[0;34m.\u001b[0m\u001b[0mto\u001b[0m\u001b[0;34m(\u001b[0m\u001b[0mdevice\u001b[0m\u001b[0;34m)\u001b[0m\u001b[0;34m\u001b[0m\u001b[0;34m\u001b[0m\u001b[0m\n",
            "\u001b[0;31mNameError\u001b[0m: name 'learn' is not defined"
          ]
        }
      ],
      "source": [
        "learn.to(device)\n",
        "dls.to(device)"
      ]
    },
    {
      "cell_type": "code",
      "execution_count": null,
      "metadata": {
        "id": "-ni0LqNLlHKR"
      },
      "outputs": [],
      "source": [
        "learn.lr_find()"
      ]
    },
    {
      "cell_type": "code",
      "execution_count": null,
      "metadata": {
        "colab": {
          "base_uri": "https://localhost:8080/",
          "height": 727
        },
        "id": "87HPr3iHhzRz",
        "outputId": "a5a57da0-31f8-4f83-ecbf-547893baab72"
      },
      "outputs": [
        {
          "data": {
            "text/html": [
              "\n",
              "<style>\n",
              "    /* Turns off some styling */\n",
              "    progress {\n",
              "        /* gets rid of default border in Firefox and Opera. */\n",
              "        border: none;\n",
              "        /* Needs to be in here for Safari polyfill so background images work as expected. */\n",
              "        background-size: auto;\n",
              "    }\n",
              "    .progress-bar-interrupted, .progress-bar-interrupted::-webkit-progress-bar {\n",
              "        background: #F44336;\n",
              "    }\n",
              "</style>\n"
            ],
            "text/plain": [
              "<IPython.core.display.HTML object>"
            ]
          },
          "metadata": {},
          "output_type": "display_data"
        },
        {
          "data": {
            "text/html": [
              "\n",
              "    <div>\n",
              "      <progress value='8' class='' max='40' style='width:300px; height:20px; vertical-align: middle;'></progress>\n",
              "      20.00% [8/40 03:55<15:42]\n",
              "    </div>\n",
              "    \n",
              "<table border=\"1\" class=\"dataframe\">\n",
              "  <thead>\n",
              "    <tr style=\"text-align: left;\">\n",
              "      <th>epoch</th>\n",
              "      <th>train_loss</th>\n",
              "      <th>valid_loss</th>\n",
              "      <th>time</th>\n",
              "    </tr>\n",
              "  </thead>\n",
              "  <tbody>\n",
              "    <tr>\n",
              "      <td>0</td>\n",
              "      <td>0.810890</td>\n",
              "      <td>0.507932</td>\n",
              "      <td>00:29</td>\n",
              "    </tr>\n",
              "    <tr>\n",
              "      <td>1</td>\n",
              "      <td>0.548327</td>\n",
              "      <td>0.471854</td>\n",
              "      <td>00:28</td>\n",
              "    </tr>\n",
              "    <tr>\n",
              "      <td>2</td>\n",
              "      <td>0.394305</td>\n",
              "      <td>0.445984</td>\n",
              "      <td>00:29</td>\n",
              "    </tr>\n",
              "    <tr>\n",
              "      <td>3</td>\n",
              "      <td>0.342733</td>\n",
              "      <td>0.452206</td>\n",
              "      <td>00:29</td>\n",
              "    </tr>\n",
              "    <tr>\n",
              "      <td>4</td>\n",
              "      <td>0.285963</td>\n",
              "      <td>0.444868</td>\n",
              "      <td>00:29</td>\n",
              "    </tr>\n",
              "    <tr>\n",
              "      <td>5</td>\n",
              "      <td>0.249258</td>\n",
              "      <td>0.444358</td>\n",
              "      <td>00:29</td>\n",
              "    </tr>\n",
              "    <tr>\n",
              "      <td>6</td>\n",
              "      <td>0.211657</td>\n",
              "      <td>0.462455</td>\n",
              "      <td>00:29</td>\n",
              "    </tr>\n",
              "    <tr>\n",
              "      <td>7</td>\n",
              "      <td>0.170773</td>\n",
              "      <td>0.451340</td>\n",
              "      <td>00:29</td>\n",
              "    </tr>\n",
              "  </tbody>\n",
              "</table><p>\n",
              "\n",
              "    <div>\n",
              "      <progress value='40' class='' max='125' style='width:300px; height:20px; vertical-align: middle;'></progress>\n",
              "      32.00% [40/125 00:08<00:18 0.1566]\n",
              "    </div>\n",
              "    "
            ],
            "text/plain": [
              "<IPython.core.display.HTML object>"
            ]
          },
          "metadata": {},
          "output_type": "display_data"
        },
        {
          "ename": "KeyboardInterrupt",
          "evalue": "ignored",
          "output_type": "error",
          "traceback": [
            "\u001b[0;31m---------------------------------------------------------------------------\u001b[0m",
            "\u001b[0;31mKeyboardInterrupt\u001b[0m                         Traceback (most recent call last)",
            "\u001b[0;32m<ipython-input-21-c373623a17a2>\u001b[0m in \u001b[0;36m<module>\u001b[0;34m()\u001b[0m\n\u001b[1;32m      1\u001b[0m \u001b[0;32mimport\u001b[0m \u001b[0mtime\u001b[0m\u001b[0;34m\u001b[0m\u001b[0;34m\u001b[0m\u001b[0m\n\u001b[1;32m      2\u001b[0m \u001b[0mstart\u001b[0m \u001b[0;34m=\u001b[0m \u001b[0mtime\u001b[0m\u001b[0;34m.\u001b[0m\u001b[0mtime\u001b[0m\u001b[0;34m(\u001b[0m\u001b[0;34m)\u001b[0m\u001b[0;34m\u001b[0m\u001b[0;34m\u001b[0m\u001b[0m\n\u001b[0;32m----> 3\u001b[0;31m \u001b[0mlearn\u001b[0m\u001b[0;34m.\u001b[0m\u001b[0mfit\u001b[0m\u001b[0;34m(\u001b[0m\u001b[0;36m40\u001b[0m\u001b[0;34m,\u001b[0m \u001b[0mlr\u001b[0m\u001b[0;34m=\u001b[0m\u001b[0;36m0.0006918309954926372\u001b[0m\u001b[0;34m)\u001b[0m\u001b[0;34m\u001b[0m\u001b[0;34m\u001b[0m\u001b[0m\n\u001b[0m\u001b[1;32m      4\u001b[0m \u001b[0mend\u001b[0m \u001b[0;34m=\u001b[0m \u001b[0mtime\u001b[0m\u001b[0;34m.\u001b[0m\u001b[0mtime\u001b[0m\u001b[0;34m(\u001b[0m\u001b[0;34m)\u001b[0m\u001b[0;34m\u001b[0m\u001b[0;34m\u001b[0m\u001b[0m\n\u001b[1;32m      5\u001b[0m \u001b[0mprint\u001b[0m\u001b[0;34m(\u001b[0m\u001b[0mend\u001b[0m \u001b[0;34m-\u001b[0m \u001b[0mstart\u001b[0m\u001b[0;34m)\u001b[0m\u001b[0;34m\u001b[0m\u001b[0;34m\u001b[0m\u001b[0m\n",
            "\u001b[0;32m/usr/local/lib/python3.7/dist-packages/fastai/learner.py\u001b[0m in \u001b[0;36mfit\u001b[0;34m(self, n_epoch, lr, wd, cbs, reset_opt)\u001b[0m\n\u001b[1;32m    220\u001b[0m             \u001b[0mself\u001b[0m\u001b[0;34m.\u001b[0m\u001b[0mopt\u001b[0m\u001b[0;34m.\u001b[0m\u001b[0mset_hypers\u001b[0m\u001b[0;34m(\u001b[0m\u001b[0mlr\u001b[0m\u001b[0;34m=\u001b[0m\u001b[0mself\u001b[0m\u001b[0;34m.\u001b[0m\u001b[0mlr\u001b[0m \u001b[0;32mif\u001b[0m \u001b[0mlr\u001b[0m \u001b[0;32mis\u001b[0m \u001b[0;32mNone\u001b[0m \u001b[0;32melse\u001b[0m \u001b[0mlr\u001b[0m\u001b[0;34m)\u001b[0m\u001b[0;34m\u001b[0m\u001b[0;34m\u001b[0m\u001b[0m\n\u001b[1;32m    221\u001b[0m             \u001b[0mself\u001b[0m\u001b[0;34m.\u001b[0m\u001b[0mn_epoch\u001b[0m \u001b[0;34m=\u001b[0m \u001b[0mn_epoch\u001b[0m\u001b[0;34m\u001b[0m\u001b[0;34m\u001b[0m\u001b[0m\n\u001b[0;32m--> 222\u001b[0;31m             \u001b[0mself\u001b[0m\u001b[0;34m.\u001b[0m\u001b[0m_with_events\u001b[0m\u001b[0;34m(\u001b[0m\u001b[0mself\u001b[0m\u001b[0;34m.\u001b[0m\u001b[0m_do_fit\u001b[0m\u001b[0;34m,\u001b[0m \u001b[0;34m'fit'\u001b[0m\u001b[0;34m,\u001b[0m \u001b[0mCancelFitException\u001b[0m\u001b[0;34m,\u001b[0m \u001b[0mself\u001b[0m\u001b[0;34m.\u001b[0m\u001b[0m_end_cleanup\u001b[0m\u001b[0;34m)\u001b[0m\u001b[0;34m\u001b[0m\u001b[0;34m\u001b[0m\u001b[0m\n\u001b[0m\u001b[1;32m    223\u001b[0m \u001b[0;34m\u001b[0m\u001b[0m\n\u001b[1;32m    224\u001b[0m     \u001b[0;32mdef\u001b[0m \u001b[0m_end_cleanup\u001b[0m\u001b[0;34m(\u001b[0m\u001b[0mself\u001b[0m\u001b[0;34m)\u001b[0m\u001b[0;34m:\u001b[0m \u001b[0mself\u001b[0m\u001b[0;34m.\u001b[0m\u001b[0mdl\u001b[0m\u001b[0;34m,\u001b[0m\u001b[0mself\u001b[0m\u001b[0;34m.\u001b[0m\u001b[0mxb\u001b[0m\u001b[0;34m,\u001b[0m\u001b[0mself\u001b[0m\u001b[0;34m.\u001b[0m\u001b[0myb\u001b[0m\u001b[0;34m,\u001b[0m\u001b[0mself\u001b[0m\u001b[0;34m.\u001b[0m\u001b[0mpred\u001b[0m\u001b[0;34m,\u001b[0m\u001b[0mself\u001b[0m\u001b[0;34m.\u001b[0m\u001b[0mloss\u001b[0m \u001b[0;34m=\u001b[0m \u001b[0;32mNone\u001b[0m\u001b[0;34m,\u001b[0m\u001b[0;34m(\u001b[0m\u001b[0;32mNone\u001b[0m\u001b[0;34m,\u001b[0m\u001b[0;34m)\u001b[0m\u001b[0;34m,\u001b[0m\u001b[0;34m(\u001b[0m\u001b[0;32mNone\u001b[0m\u001b[0;34m,\u001b[0m\u001b[0;34m)\u001b[0m\u001b[0;34m,\u001b[0m\u001b[0;32mNone\u001b[0m\u001b[0;34m,\u001b[0m\u001b[0;32mNone\u001b[0m\u001b[0;34m\u001b[0m\u001b[0;34m\u001b[0m\u001b[0m\n",
            "\u001b[0;32m/usr/local/lib/python3.7/dist-packages/fastai/learner.py\u001b[0m in \u001b[0;36m_with_events\u001b[0;34m(self, f, event_type, ex, final)\u001b[0m\n\u001b[1;32m    162\u001b[0m \u001b[0;34m\u001b[0m\u001b[0m\n\u001b[1;32m    163\u001b[0m     \u001b[0;32mdef\u001b[0m \u001b[0m_with_events\u001b[0m\u001b[0;34m(\u001b[0m\u001b[0mself\u001b[0m\u001b[0;34m,\u001b[0m \u001b[0mf\u001b[0m\u001b[0;34m,\u001b[0m \u001b[0mevent_type\u001b[0m\u001b[0;34m,\u001b[0m \u001b[0mex\u001b[0m\u001b[0;34m,\u001b[0m \u001b[0mfinal\u001b[0m\u001b[0;34m=\u001b[0m\u001b[0mnoop\u001b[0m\u001b[0;34m)\u001b[0m\u001b[0;34m:\u001b[0m\u001b[0;34m\u001b[0m\u001b[0;34m\u001b[0m\u001b[0m\n\u001b[0;32m--> 164\u001b[0;31m         \u001b[0;32mtry\u001b[0m\u001b[0;34m:\u001b[0m \u001b[0mself\u001b[0m\u001b[0;34m(\u001b[0m\u001b[0;34mf'before_{event_type}'\u001b[0m\u001b[0;34m)\u001b[0m\u001b[0;34m;\u001b[0m  \u001b[0mf\u001b[0m\u001b[0;34m(\u001b[0m\u001b[0;34m)\u001b[0m\u001b[0;34m\u001b[0m\u001b[0;34m\u001b[0m\u001b[0m\n\u001b[0m\u001b[1;32m    165\u001b[0m         \u001b[0;32mexcept\u001b[0m \u001b[0mex\u001b[0m\u001b[0;34m:\u001b[0m \u001b[0mself\u001b[0m\u001b[0;34m(\u001b[0m\u001b[0;34mf'after_cancel_{event_type}'\u001b[0m\u001b[0;34m)\u001b[0m\u001b[0;34m\u001b[0m\u001b[0;34m\u001b[0m\u001b[0m\n\u001b[1;32m    166\u001b[0m         \u001b[0mself\u001b[0m\u001b[0;34m(\u001b[0m\u001b[0;34mf'after_{event_type}'\u001b[0m\u001b[0;34m)\u001b[0m\u001b[0;34m;\u001b[0m  \u001b[0mfinal\u001b[0m\u001b[0;34m(\u001b[0m\u001b[0;34m)\u001b[0m\u001b[0;34m\u001b[0m\u001b[0;34m\u001b[0m\u001b[0m\n",
            "\u001b[0;32m/usr/local/lib/python3.7/dist-packages/fastai/learner.py\u001b[0m in \u001b[0;36m_do_fit\u001b[0;34m(self)\u001b[0m\n\u001b[1;32m    211\u001b[0m         \u001b[0;32mfor\u001b[0m \u001b[0mepoch\u001b[0m \u001b[0;32min\u001b[0m \u001b[0mrange\u001b[0m\u001b[0;34m(\u001b[0m\u001b[0mself\u001b[0m\u001b[0;34m.\u001b[0m\u001b[0mn_epoch\u001b[0m\u001b[0;34m)\u001b[0m\u001b[0;34m:\u001b[0m\u001b[0;34m\u001b[0m\u001b[0;34m\u001b[0m\u001b[0m\n\u001b[1;32m    212\u001b[0m             \u001b[0mself\u001b[0m\u001b[0;34m.\u001b[0m\u001b[0mepoch\u001b[0m\u001b[0;34m=\u001b[0m\u001b[0mepoch\u001b[0m\u001b[0;34m\u001b[0m\u001b[0;34m\u001b[0m\u001b[0m\n\u001b[0;32m--> 213\u001b[0;31m             \u001b[0mself\u001b[0m\u001b[0;34m.\u001b[0m\u001b[0m_with_events\u001b[0m\u001b[0;34m(\u001b[0m\u001b[0mself\u001b[0m\u001b[0;34m.\u001b[0m\u001b[0m_do_epoch\u001b[0m\u001b[0;34m,\u001b[0m \u001b[0;34m'epoch'\u001b[0m\u001b[0;34m,\u001b[0m \u001b[0mCancelEpochException\u001b[0m\u001b[0;34m)\u001b[0m\u001b[0;34m\u001b[0m\u001b[0;34m\u001b[0m\u001b[0m\n\u001b[0m\u001b[1;32m    214\u001b[0m \u001b[0;34m\u001b[0m\u001b[0m\n\u001b[1;32m    215\u001b[0m     \u001b[0;32mdef\u001b[0m \u001b[0mfit\u001b[0m\u001b[0;34m(\u001b[0m\u001b[0mself\u001b[0m\u001b[0;34m,\u001b[0m \u001b[0mn_epoch\u001b[0m\u001b[0;34m,\u001b[0m \u001b[0mlr\u001b[0m\u001b[0;34m=\u001b[0m\u001b[0;32mNone\u001b[0m\u001b[0;34m,\u001b[0m \u001b[0mwd\u001b[0m\u001b[0;34m=\u001b[0m\u001b[0;32mNone\u001b[0m\u001b[0;34m,\u001b[0m \u001b[0mcbs\u001b[0m\u001b[0;34m=\u001b[0m\u001b[0;32mNone\u001b[0m\u001b[0;34m,\u001b[0m \u001b[0mreset_opt\u001b[0m\u001b[0;34m=\u001b[0m\u001b[0;32mFalse\u001b[0m\u001b[0;34m)\u001b[0m\u001b[0;34m:\u001b[0m\u001b[0;34m\u001b[0m\u001b[0;34m\u001b[0m\u001b[0m\n",
            "\u001b[0;32m/usr/local/lib/python3.7/dist-packages/fastai/learner.py\u001b[0m in \u001b[0;36m_with_events\u001b[0;34m(self, f, event_type, ex, final)\u001b[0m\n\u001b[1;32m    162\u001b[0m \u001b[0;34m\u001b[0m\u001b[0m\n\u001b[1;32m    163\u001b[0m     \u001b[0;32mdef\u001b[0m \u001b[0m_with_events\u001b[0m\u001b[0;34m(\u001b[0m\u001b[0mself\u001b[0m\u001b[0;34m,\u001b[0m \u001b[0mf\u001b[0m\u001b[0;34m,\u001b[0m \u001b[0mevent_type\u001b[0m\u001b[0;34m,\u001b[0m \u001b[0mex\u001b[0m\u001b[0;34m,\u001b[0m \u001b[0mfinal\u001b[0m\u001b[0;34m=\u001b[0m\u001b[0mnoop\u001b[0m\u001b[0;34m)\u001b[0m\u001b[0;34m:\u001b[0m\u001b[0;34m\u001b[0m\u001b[0;34m\u001b[0m\u001b[0m\n\u001b[0;32m--> 164\u001b[0;31m         \u001b[0;32mtry\u001b[0m\u001b[0;34m:\u001b[0m \u001b[0mself\u001b[0m\u001b[0;34m(\u001b[0m\u001b[0;34mf'before_{event_type}'\u001b[0m\u001b[0;34m)\u001b[0m\u001b[0;34m;\u001b[0m  \u001b[0mf\u001b[0m\u001b[0;34m(\u001b[0m\u001b[0;34m)\u001b[0m\u001b[0;34m\u001b[0m\u001b[0;34m\u001b[0m\u001b[0m\n\u001b[0m\u001b[1;32m    165\u001b[0m         \u001b[0;32mexcept\u001b[0m \u001b[0mex\u001b[0m\u001b[0;34m:\u001b[0m \u001b[0mself\u001b[0m\u001b[0;34m(\u001b[0m\u001b[0;34mf'after_cancel_{event_type}'\u001b[0m\u001b[0;34m)\u001b[0m\u001b[0;34m\u001b[0m\u001b[0;34m\u001b[0m\u001b[0m\n\u001b[1;32m    166\u001b[0m         \u001b[0mself\u001b[0m\u001b[0;34m(\u001b[0m\u001b[0;34mf'after_{event_type}'\u001b[0m\u001b[0;34m)\u001b[0m\u001b[0;34m;\u001b[0m  \u001b[0mfinal\u001b[0m\u001b[0;34m(\u001b[0m\u001b[0;34m)\u001b[0m\u001b[0;34m\u001b[0m\u001b[0;34m\u001b[0m\u001b[0m\n",
            "\u001b[0;32m/usr/local/lib/python3.7/dist-packages/fastai/learner.py\u001b[0m in \u001b[0;36m_do_epoch\u001b[0;34m(self)\u001b[0m\n\u001b[1;32m    205\u001b[0m \u001b[0;34m\u001b[0m\u001b[0m\n\u001b[1;32m    206\u001b[0m     \u001b[0;32mdef\u001b[0m \u001b[0m_do_epoch\u001b[0m\u001b[0;34m(\u001b[0m\u001b[0mself\u001b[0m\u001b[0;34m)\u001b[0m\u001b[0;34m:\u001b[0m\u001b[0;34m\u001b[0m\u001b[0;34m\u001b[0m\u001b[0m\n\u001b[0;32m--> 207\u001b[0;31m         \u001b[0mself\u001b[0m\u001b[0;34m.\u001b[0m\u001b[0m_do_epoch_train\u001b[0m\u001b[0;34m(\u001b[0m\u001b[0;34m)\u001b[0m\u001b[0;34m\u001b[0m\u001b[0;34m\u001b[0m\u001b[0m\n\u001b[0m\u001b[1;32m    208\u001b[0m         \u001b[0mself\u001b[0m\u001b[0;34m.\u001b[0m\u001b[0m_do_epoch_validate\u001b[0m\u001b[0;34m(\u001b[0m\u001b[0;34m)\u001b[0m\u001b[0;34m\u001b[0m\u001b[0;34m\u001b[0m\u001b[0m\n\u001b[1;32m    209\u001b[0m \u001b[0;34m\u001b[0m\u001b[0m\n",
            "\u001b[0;32m/usr/local/lib/python3.7/dist-packages/fastai/learner.py\u001b[0m in \u001b[0;36m_do_epoch_train\u001b[0;34m(self)\u001b[0m\n\u001b[1;32m    197\u001b[0m     \u001b[0;32mdef\u001b[0m \u001b[0m_do_epoch_train\u001b[0m\u001b[0;34m(\u001b[0m\u001b[0mself\u001b[0m\u001b[0;34m)\u001b[0m\u001b[0;34m:\u001b[0m\u001b[0;34m\u001b[0m\u001b[0;34m\u001b[0m\u001b[0m\n\u001b[1;32m    198\u001b[0m         \u001b[0mself\u001b[0m\u001b[0;34m.\u001b[0m\u001b[0mdl\u001b[0m \u001b[0;34m=\u001b[0m \u001b[0mself\u001b[0m\u001b[0;34m.\u001b[0m\u001b[0mdls\u001b[0m\u001b[0;34m.\u001b[0m\u001b[0mtrain\u001b[0m\u001b[0;34m\u001b[0m\u001b[0;34m\u001b[0m\u001b[0m\n\u001b[0;32m--> 199\u001b[0;31m         \u001b[0mself\u001b[0m\u001b[0;34m.\u001b[0m\u001b[0m_with_events\u001b[0m\u001b[0;34m(\u001b[0m\u001b[0mself\u001b[0m\u001b[0;34m.\u001b[0m\u001b[0mall_batches\u001b[0m\u001b[0;34m,\u001b[0m \u001b[0;34m'train'\u001b[0m\u001b[0;34m,\u001b[0m \u001b[0mCancelTrainException\u001b[0m\u001b[0;34m)\u001b[0m\u001b[0;34m\u001b[0m\u001b[0;34m\u001b[0m\u001b[0m\n\u001b[0m\u001b[1;32m    200\u001b[0m \u001b[0;34m\u001b[0m\u001b[0m\n\u001b[1;32m    201\u001b[0m     \u001b[0;32mdef\u001b[0m \u001b[0m_do_epoch_validate\u001b[0m\u001b[0;34m(\u001b[0m\u001b[0mself\u001b[0m\u001b[0;34m,\u001b[0m \u001b[0mds_idx\u001b[0m\u001b[0;34m=\u001b[0m\u001b[0;36m1\u001b[0m\u001b[0;34m,\u001b[0m \u001b[0mdl\u001b[0m\u001b[0;34m=\u001b[0m\u001b[0;32mNone\u001b[0m\u001b[0;34m)\u001b[0m\u001b[0;34m:\u001b[0m\u001b[0;34m\u001b[0m\u001b[0;34m\u001b[0m\u001b[0m\n",
            "\u001b[0;32m/usr/local/lib/python3.7/dist-packages/fastai/learner.py\u001b[0m in \u001b[0;36m_with_events\u001b[0;34m(self, f, event_type, ex, final)\u001b[0m\n\u001b[1;32m    162\u001b[0m \u001b[0;34m\u001b[0m\u001b[0m\n\u001b[1;32m    163\u001b[0m     \u001b[0;32mdef\u001b[0m \u001b[0m_with_events\u001b[0m\u001b[0;34m(\u001b[0m\u001b[0mself\u001b[0m\u001b[0;34m,\u001b[0m \u001b[0mf\u001b[0m\u001b[0;34m,\u001b[0m \u001b[0mevent_type\u001b[0m\u001b[0;34m,\u001b[0m \u001b[0mex\u001b[0m\u001b[0;34m,\u001b[0m \u001b[0mfinal\u001b[0m\u001b[0;34m=\u001b[0m\u001b[0mnoop\u001b[0m\u001b[0;34m)\u001b[0m\u001b[0;34m:\u001b[0m\u001b[0;34m\u001b[0m\u001b[0;34m\u001b[0m\u001b[0m\n\u001b[0;32m--> 164\u001b[0;31m         \u001b[0;32mtry\u001b[0m\u001b[0;34m:\u001b[0m \u001b[0mself\u001b[0m\u001b[0;34m(\u001b[0m\u001b[0;34mf'before_{event_type}'\u001b[0m\u001b[0;34m)\u001b[0m\u001b[0;34m;\u001b[0m  \u001b[0mf\u001b[0m\u001b[0;34m(\u001b[0m\u001b[0;34m)\u001b[0m\u001b[0;34m\u001b[0m\u001b[0;34m\u001b[0m\u001b[0m\n\u001b[0m\u001b[1;32m    165\u001b[0m         \u001b[0;32mexcept\u001b[0m \u001b[0mex\u001b[0m\u001b[0;34m:\u001b[0m \u001b[0mself\u001b[0m\u001b[0;34m(\u001b[0m\u001b[0;34mf'after_cancel_{event_type}'\u001b[0m\u001b[0;34m)\u001b[0m\u001b[0;34m\u001b[0m\u001b[0;34m\u001b[0m\u001b[0m\n\u001b[1;32m    166\u001b[0m         \u001b[0mself\u001b[0m\u001b[0;34m(\u001b[0m\u001b[0;34mf'after_{event_type}'\u001b[0m\u001b[0;34m)\u001b[0m\u001b[0;34m;\u001b[0m  \u001b[0mfinal\u001b[0m\u001b[0;34m(\u001b[0m\u001b[0;34m)\u001b[0m\u001b[0;34m\u001b[0m\u001b[0;34m\u001b[0m\u001b[0m\n",
            "\u001b[0;32m/usr/local/lib/python3.7/dist-packages/fastai/learner.py\u001b[0m in \u001b[0;36mall_batches\u001b[0;34m(self)\u001b[0m\n\u001b[1;32m    168\u001b[0m     \u001b[0;32mdef\u001b[0m \u001b[0mall_batches\u001b[0m\u001b[0;34m(\u001b[0m\u001b[0mself\u001b[0m\u001b[0;34m)\u001b[0m\u001b[0;34m:\u001b[0m\u001b[0;34m\u001b[0m\u001b[0;34m\u001b[0m\u001b[0m\n\u001b[1;32m    169\u001b[0m         \u001b[0mself\u001b[0m\u001b[0;34m.\u001b[0m\u001b[0mn_iter\u001b[0m \u001b[0;34m=\u001b[0m \u001b[0mlen\u001b[0m\u001b[0;34m(\u001b[0m\u001b[0mself\u001b[0m\u001b[0;34m.\u001b[0m\u001b[0mdl\u001b[0m\u001b[0;34m)\u001b[0m\u001b[0;34m\u001b[0m\u001b[0;34m\u001b[0m\u001b[0m\n\u001b[0;32m--> 170\u001b[0;31m         \u001b[0;32mfor\u001b[0m \u001b[0mo\u001b[0m \u001b[0;32min\u001b[0m \u001b[0menumerate\u001b[0m\u001b[0;34m(\u001b[0m\u001b[0mself\u001b[0m\u001b[0;34m.\u001b[0m\u001b[0mdl\u001b[0m\u001b[0;34m)\u001b[0m\u001b[0;34m:\u001b[0m \u001b[0mself\u001b[0m\u001b[0;34m.\u001b[0m\u001b[0mone_batch\u001b[0m\u001b[0;34m(\u001b[0m\u001b[0;34m*\u001b[0m\u001b[0mo\u001b[0m\u001b[0;34m)\u001b[0m\u001b[0;34m\u001b[0m\u001b[0;34m\u001b[0m\u001b[0m\n\u001b[0m\u001b[1;32m    171\u001b[0m \u001b[0;34m\u001b[0m\u001b[0m\n\u001b[1;32m    172\u001b[0m     \u001b[0;32mdef\u001b[0m \u001b[0m_do_one_batch\u001b[0m\u001b[0;34m(\u001b[0m\u001b[0mself\u001b[0m\u001b[0;34m)\u001b[0m\u001b[0;34m:\u001b[0m\u001b[0;34m\u001b[0m\u001b[0;34m\u001b[0m\u001b[0m\n",
            "\u001b[0;32m/usr/local/lib/python3.7/dist-packages/fastai/learner.py\u001b[0m in \u001b[0;36mone_batch\u001b[0;34m(self, i, b)\u001b[0m\n\u001b[1;32m    193\u001b[0m         \u001b[0mb\u001b[0m \u001b[0;34m=\u001b[0m \u001b[0mself\u001b[0m\u001b[0;34m.\u001b[0m\u001b[0m_set_device\u001b[0m\u001b[0;34m(\u001b[0m\u001b[0mb\u001b[0m\u001b[0;34m)\u001b[0m\u001b[0;34m\u001b[0m\u001b[0;34m\u001b[0m\u001b[0m\n\u001b[1;32m    194\u001b[0m         \u001b[0mself\u001b[0m\u001b[0;34m.\u001b[0m\u001b[0m_split\u001b[0m\u001b[0;34m(\u001b[0m\u001b[0mb\u001b[0m\u001b[0;34m)\u001b[0m\u001b[0;34m\u001b[0m\u001b[0;34m\u001b[0m\u001b[0m\n\u001b[0;32m--> 195\u001b[0;31m         \u001b[0mself\u001b[0m\u001b[0;34m.\u001b[0m\u001b[0m_with_events\u001b[0m\u001b[0;34m(\u001b[0m\u001b[0mself\u001b[0m\u001b[0;34m.\u001b[0m\u001b[0m_do_one_batch\u001b[0m\u001b[0;34m,\u001b[0m \u001b[0;34m'batch'\u001b[0m\u001b[0;34m,\u001b[0m \u001b[0mCancelBatchException\u001b[0m\u001b[0;34m)\u001b[0m\u001b[0;34m\u001b[0m\u001b[0;34m\u001b[0m\u001b[0m\n\u001b[0m\u001b[1;32m    196\u001b[0m \u001b[0;34m\u001b[0m\u001b[0m\n\u001b[1;32m    197\u001b[0m     \u001b[0;32mdef\u001b[0m \u001b[0m_do_epoch_train\u001b[0m\u001b[0;34m(\u001b[0m\u001b[0mself\u001b[0m\u001b[0;34m)\u001b[0m\u001b[0;34m:\u001b[0m\u001b[0;34m\u001b[0m\u001b[0;34m\u001b[0m\u001b[0m\n",
            "\u001b[0;32m/usr/local/lib/python3.7/dist-packages/fastai/learner.py\u001b[0m in \u001b[0;36m_with_events\u001b[0;34m(self, f, event_type, ex, final)\u001b[0m\n\u001b[1;32m    162\u001b[0m \u001b[0;34m\u001b[0m\u001b[0m\n\u001b[1;32m    163\u001b[0m     \u001b[0;32mdef\u001b[0m \u001b[0m_with_events\u001b[0m\u001b[0;34m(\u001b[0m\u001b[0mself\u001b[0m\u001b[0;34m,\u001b[0m \u001b[0mf\u001b[0m\u001b[0;34m,\u001b[0m \u001b[0mevent_type\u001b[0m\u001b[0;34m,\u001b[0m \u001b[0mex\u001b[0m\u001b[0;34m,\u001b[0m \u001b[0mfinal\u001b[0m\u001b[0;34m=\u001b[0m\u001b[0mnoop\u001b[0m\u001b[0;34m)\u001b[0m\u001b[0;34m:\u001b[0m\u001b[0;34m\u001b[0m\u001b[0;34m\u001b[0m\u001b[0m\n\u001b[0;32m--> 164\u001b[0;31m         \u001b[0;32mtry\u001b[0m\u001b[0;34m:\u001b[0m \u001b[0mself\u001b[0m\u001b[0;34m(\u001b[0m\u001b[0;34mf'before_{event_type}'\u001b[0m\u001b[0;34m)\u001b[0m\u001b[0;34m;\u001b[0m  \u001b[0mf\u001b[0m\u001b[0;34m(\u001b[0m\u001b[0;34m)\u001b[0m\u001b[0;34m\u001b[0m\u001b[0;34m\u001b[0m\u001b[0m\n\u001b[0m\u001b[1;32m    165\u001b[0m         \u001b[0;32mexcept\u001b[0m \u001b[0mex\u001b[0m\u001b[0;34m:\u001b[0m \u001b[0mself\u001b[0m\u001b[0;34m(\u001b[0m\u001b[0;34mf'after_cancel_{event_type}'\u001b[0m\u001b[0;34m)\u001b[0m\u001b[0;34m\u001b[0m\u001b[0;34m\u001b[0m\u001b[0m\n\u001b[1;32m    166\u001b[0m         \u001b[0mself\u001b[0m\u001b[0;34m(\u001b[0m\u001b[0;34mf'after_{event_type}'\u001b[0m\u001b[0;34m)\u001b[0m\u001b[0;34m;\u001b[0m  \u001b[0mfinal\u001b[0m\u001b[0;34m(\u001b[0m\u001b[0;34m)\u001b[0m\u001b[0;34m\u001b[0m\u001b[0;34m\u001b[0m\u001b[0m\n",
            "\u001b[0;32m/usr/local/lib/python3.7/dist-packages/fastai/learner.py\u001b[0m in \u001b[0;36m_do_one_batch\u001b[0;34m(self)\u001b[0m\n\u001b[1;32m    180\u001b[0m         \u001b[0mself\u001b[0m\u001b[0;34m(\u001b[0m\u001b[0;34m'before_backward'\u001b[0m\u001b[0;34m)\u001b[0m\u001b[0;34m\u001b[0m\u001b[0;34m\u001b[0m\u001b[0m\n\u001b[1;32m    181\u001b[0m         \u001b[0mself\u001b[0m\u001b[0;34m.\u001b[0m\u001b[0mloss_grad\u001b[0m\u001b[0;34m.\u001b[0m\u001b[0mbackward\u001b[0m\u001b[0;34m(\u001b[0m\u001b[0;34m)\u001b[0m\u001b[0;34m\u001b[0m\u001b[0;34m\u001b[0m\u001b[0m\n\u001b[0;32m--> 182\u001b[0;31m         \u001b[0mself\u001b[0m\u001b[0;34m.\u001b[0m\u001b[0m_with_events\u001b[0m\u001b[0;34m(\u001b[0m\u001b[0mself\u001b[0m\u001b[0;34m.\u001b[0m\u001b[0mopt\u001b[0m\u001b[0;34m.\u001b[0m\u001b[0mstep\u001b[0m\u001b[0;34m,\u001b[0m \u001b[0;34m'step'\u001b[0m\u001b[0;34m,\u001b[0m \u001b[0mCancelStepException\u001b[0m\u001b[0;34m)\u001b[0m\u001b[0;34m\u001b[0m\u001b[0;34m\u001b[0m\u001b[0m\n\u001b[0m\u001b[1;32m    183\u001b[0m         \u001b[0mself\u001b[0m\u001b[0;34m.\u001b[0m\u001b[0mopt\u001b[0m\u001b[0;34m.\u001b[0m\u001b[0mzero_grad\u001b[0m\u001b[0;34m(\u001b[0m\u001b[0;34m)\u001b[0m\u001b[0;34m\u001b[0m\u001b[0;34m\u001b[0m\u001b[0m\n\u001b[1;32m    184\u001b[0m \u001b[0;34m\u001b[0m\u001b[0m\n",
            "\u001b[0;32m/usr/local/lib/python3.7/dist-packages/fastai/learner.py\u001b[0m in \u001b[0;36m_with_events\u001b[0;34m(self, f, event_type, ex, final)\u001b[0m\n\u001b[1;32m    162\u001b[0m \u001b[0;34m\u001b[0m\u001b[0m\n\u001b[1;32m    163\u001b[0m     \u001b[0;32mdef\u001b[0m \u001b[0m_with_events\u001b[0m\u001b[0;34m(\u001b[0m\u001b[0mself\u001b[0m\u001b[0;34m,\u001b[0m \u001b[0mf\u001b[0m\u001b[0;34m,\u001b[0m \u001b[0mevent_type\u001b[0m\u001b[0;34m,\u001b[0m \u001b[0mex\u001b[0m\u001b[0;34m,\u001b[0m \u001b[0mfinal\u001b[0m\u001b[0;34m=\u001b[0m\u001b[0mnoop\u001b[0m\u001b[0;34m)\u001b[0m\u001b[0;34m:\u001b[0m\u001b[0;34m\u001b[0m\u001b[0;34m\u001b[0m\u001b[0m\n\u001b[0;32m--> 164\u001b[0;31m         \u001b[0;32mtry\u001b[0m\u001b[0;34m:\u001b[0m \u001b[0mself\u001b[0m\u001b[0;34m(\u001b[0m\u001b[0;34mf'before_{event_type}'\u001b[0m\u001b[0;34m)\u001b[0m\u001b[0;34m;\u001b[0m  \u001b[0mf\u001b[0m\u001b[0;34m(\u001b[0m\u001b[0;34m)\u001b[0m\u001b[0;34m\u001b[0m\u001b[0;34m\u001b[0m\u001b[0m\n\u001b[0m\u001b[1;32m    165\u001b[0m         \u001b[0;32mexcept\u001b[0m \u001b[0mex\u001b[0m\u001b[0;34m:\u001b[0m \u001b[0mself\u001b[0m\u001b[0;34m(\u001b[0m\u001b[0;34mf'after_cancel_{event_type}'\u001b[0m\u001b[0;34m)\u001b[0m\u001b[0;34m\u001b[0m\u001b[0;34m\u001b[0m\u001b[0m\n\u001b[1;32m    166\u001b[0m         \u001b[0mself\u001b[0m\u001b[0;34m(\u001b[0m\u001b[0;34mf'after_{event_type}'\u001b[0m\u001b[0;34m)\u001b[0m\u001b[0;34m;\u001b[0m  \u001b[0mfinal\u001b[0m\u001b[0;34m(\u001b[0m\u001b[0;34m)\u001b[0m\u001b[0;34m\u001b[0m\u001b[0;34m\u001b[0m\u001b[0m\n",
            "\u001b[0;32m/usr/local/lib/python3.7/dist-packages/fastai/optimizer.py\u001b[0m in \u001b[0;36mstep\u001b[0;34m(self)\u001b[0m\n\u001b[1;32m     80\u001b[0m     \u001b[0;32mdef\u001b[0m \u001b[0mstep\u001b[0m\u001b[0;34m(\u001b[0m\u001b[0mself\u001b[0m\u001b[0;34m)\u001b[0m\u001b[0;34m:\u001b[0m\u001b[0;34m\u001b[0m\u001b[0;34m\u001b[0m\u001b[0m\n\u001b[1;32m     81\u001b[0m         \u001b[0;32mfor\u001b[0m \u001b[0mp\u001b[0m\u001b[0;34m,\u001b[0m\u001b[0mpg\u001b[0m\u001b[0;34m,\u001b[0m\u001b[0mstate\u001b[0m\u001b[0;34m,\u001b[0m\u001b[0mhyper\u001b[0m \u001b[0;32min\u001b[0m \u001b[0mself\u001b[0m\u001b[0;34m.\u001b[0m\u001b[0mall_params\u001b[0m\u001b[0;34m(\u001b[0m\u001b[0mwith_grad\u001b[0m\u001b[0;34m=\u001b[0m\u001b[0;32mTrue\u001b[0m\u001b[0;34m)\u001b[0m\u001b[0;34m:\u001b[0m\u001b[0;34m\u001b[0m\u001b[0;34m\u001b[0m\u001b[0m\n\u001b[0;32m---> 82\u001b[0;31m             \u001b[0;32mfor\u001b[0m \u001b[0mcb\u001b[0m \u001b[0;32min\u001b[0m \u001b[0mself\u001b[0m\u001b[0;34m.\u001b[0m\u001b[0mcbs\u001b[0m\u001b[0;34m:\u001b[0m \u001b[0mstate\u001b[0m \u001b[0;34m=\u001b[0m \u001b[0m_update\u001b[0m\u001b[0;34m(\u001b[0m\u001b[0mstate\u001b[0m\u001b[0;34m,\u001b[0m \u001b[0mcb\u001b[0m\u001b[0;34m(\u001b[0m\u001b[0mp\u001b[0m\u001b[0;34m,\u001b[0m \u001b[0;34m**\u001b[0m\u001b[0;34m{\u001b[0m\u001b[0;34m**\u001b[0m\u001b[0mstate\u001b[0m\u001b[0;34m,\u001b[0m \u001b[0;34m**\u001b[0m\u001b[0mhyper\u001b[0m\u001b[0;34m}\u001b[0m\u001b[0;34m)\u001b[0m\u001b[0;34m)\u001b[0m\u001b[0;34m\u001b[0m\u001b[0;34m\u001b[0m\u001b[0m\n\u001b[0m\u001b[1;32m     83\u001b[0m             \u001b[0mself\u001b[0m\u001b[0;34m.\u001b[0m\u001b[0mstate\u001b[0m\u001b[0;34m[\u001b[0m\u001b[0mp\u001b[0m\u001b[0;34m]\u001b[0m \u001b[0;34m=\u001b[0m \u001b[0mstate\u001b[0m\u001b[0;34m\u001b[0m\u001b[0;34m\u001b[0m\u001b[0m\n\u001b[1;32m     84\u001b[0m \u001b[0;34m\u001b[0m\u001b[0m\n",
            "\u001b[0;32m/usr/local/lib/python3.7/dist-packages/fastai/optimizer.py\u001b[0m in \u001b[0;36maverage_grad\u001b[0;34m(p, mom, dampening, grad_avg, **kwargs)\u001b[0m\n\u001b[1;32m    120\u001b[0m     \u001b[0;32mif\u001b[0m \u001b[0mgrad_avg\u001b[0m \u001b[0;32mis\u001b[0m \u001b[0;32mNone\u001b[0m\u001b[0;34m:\u001b[0m \u001b[0mgrad_avg\u001b[0m \u001b[0;34m=\u001b[0m \u001b[0mtorch\u001b[0m\u001b[0;34m.\u001b[0m\u001b[0mzeros_like\u001b[0m\u001b[0;34m(\u001b[0m\u001b[0mp\u001b[0m\u001b[0;34m.\u001b[0m\u001b[0mgrad\u001b[0m\u001b[0;34m.\u001b[0m\u001b[0mdata\u001b[0m\u001b[0;34m)\u001b[0m\u001b[0;34m\u001b[0m\u001b[0;34m\u001b[0m\u001b[0m\n\u001b[1;32m    121\u001b[0m     \u001b[0mdamp\u001b[0m \u001b[0;34m=\u001b[0m \u001b[0;36m1\u001b[0m\u001b[0;34m-\u001b[0m\u001b[0mmom\u001b[0m \u001b[0;32mif\u001b[0m \u001b[0mdampening\u001b[0m \u001b[0;32melse\u001b[0m \u001b[0;36m1.\u001b[0m\u001b[0;34m\u001b[0m\u001b[0;34m\u001b[0m\u001b[0m\n\u001b[0;32m--> 122\u001b[0;31m     \u001b[0mgrad_avg\u001b[0m\u001b[0;34m.\u001b[0m\u001b[0mmul_\u001b[0m\u001b[0;34m(\u001b[0m\u001b[0mmom\u001b[0m\u001b[0;34m)\u001b[0m\u001b[0;34m.\u001b[0m\u001b[0madd_\u001b[0m\u001b[0;34m(\u001b[0m\u001b[0mp\u001b[0m\u001b[0;34m.\u001b[0m\u001b[0mgrad\u001b[0m\u001b[0;34m.\u001b[0m\u001b[0mdata\u001b[0m\u001b[0;34m,\u001b[0m \u001b[0malpha\u001b[0m\u001b[0;34m=\u001b[0m\u001b[0mdamp\u001b[0m\u001b[0;34m)\u001b[0m\u001b[0;34m\u001b[0m\u001b[0;34m\u001b[0m\u001b[0m\n\u001b[0m\u001b[1;32m    123\u001b[0m     \u001b[0;32mreturn\u001b[0m \u001b[0;34m{\u001b[0m\u001b[0;34m'grad_avg'\u001b[0m\u001b[0;34m:\u001b[0m \u001b[0mgrad_avg\u001b[0m\u001b[0;34m}\u001b[0m\u001b[0;34m\u001b[0m\u001b[0;34m\u001b[0m\u001b[0m\n\u001b[1;32m    124\u001b[0m \u001b[0;34m\u001b[0m\u001b[0m\n",
            "\u001b[0;31mKeyboardInterrupt\u001b[0m: "
          ]
        }
      ],
      "source": [
        "import time\n",
        "start = time.time()\n",
        "learn.fit(40, lr=0.0006918309954926372)\n",
        "end = time.time()\n",
        "print(end - start)"
      ]
    },
    {
      "cell_type": "markdown",
      "metadata": {
        "id": "BrCBkTqEL3NY"
      },
      "source": [
        "------------------------------------------------------------------------"
      ]
    },
    {
      "cell_type": "markdown",
      "metadata": {
        "id": "fCcN9V6RH8OF"
      },
      "source": [
        "8000 images Fashion MNIST => 15.9 min\n",
        "\n",
        "VGG -> 51 sec/epoch\n",
        "\n",
        "VGG_bn -> 104 sec/ epoch\n",
        "\n",
        "Alexnet -> 283.59 seconds for 40 epochs\n",
        "\n",
        "GoogleNet -> 27 seconds per epoch\n",
        "\n",
        "MobileNetV2_100 -> 29 seconds / epoch"
      ]
    },
    {
      "cell_type": "markdown",
      "metadata": {
        "id": "VMHWGOZ4fzv5"
      },
      "source": [
        "# FAST AI with transformers DEBUG"
      ]
    },
    {
      "cell_type": "markdown",
      "metadata": {
        "id": "Y4Ia39tFPHpv"
      },
      "source": [
        "Look at github:: https://github.com/walkwithfastai/walkwithfastai.github.io/blob/master/wwf/vision/timm.py "
      ]
    },
    {
      "cell_type": "code",
      "source": [
        "!pip install timm"
      ],
      "metadata": {
        "colab": {
          "base_uri": "https://localhost:8080/"
        },
        "id": "2hPBKrLtS1nR",
        "outputId": "cf5f9b49-ce6b-4bd5-b098-6f06c45517c9"
      },
      "execution_count": 67,
      "outputs": [
        {
          "output_type": "stream",
          "name": "stdout",
          "text": [
            "Looking in indexes: https://pypi.org/simple, https://us-python.pkg.dev/colab-wheels/public/simple/\n",
            "Requirement already satisfied: timm in /usr/local/lib/python3.7/dist-packages (0.5.4)\n",
            "Requirement already satisfied: torchvision in /usr/local/lib/python3.7/dist-packages (from timm) (0.12.0+cu113)\n",
            "Requirement already satisfied: torch>=1.4 in /usr/local/lib/python3.7/dist-packages (from timm) (1.11.0+cu113)\n",
            "Requirement already satisfied: typing-extensions in /usr/local/lib/python3.7/dist-packages (from torch>=1.4->timm) (4.1.1)\n",
            "Requirement already satisfied: requests in /usr/local/lib/python3.7/dist-packages (from torchvision->timm) (2.23.0)\n",
            "Requirement already satisfied: pillow!=8.3.*,>=5.3.0 in /usr/local/lib/python3.7/dist-packages (from torchvision->timm) (7.1.2)\n",
            "Requirement already satisfied: numpy in /usr/local/lib/python3.7/dist-packages (from torchvision->timm) (1.21.6)\n",
            "Requirement already satisfied: chardet<4,>=3.0.2 in /usr/local/lib/python3.7/dist-packages (from requests->torchvision->timm) (3.0.4)\n",
            "Requirement already satisfied: certifi>=2017.4.17 in /usr/local/lib/python3.7/dist-packages (from requests->torchvision->timm) (2022.6.15)\n",
            "Requirement already satisfied: idna<3,>=2.5 in /usr/local/lib/python3.7/dist-packages (from requests->torchvision->timm) (2.10)\n",
            "Requirement already satisfied: urllib3!=1.25.0,!=1.25.1,<1.26,>=1.21.1 in /usr/local/lib/python3.7/dist-packages (from requests->torchvision->timm) (1.24.3)\n"
          ]
        }
      ]
    },
    {
      "cell_type": "code",
      "source": [
        "import timm\n",
        "from timm import create_model\n",
        "\n",
        "my_learner = timm_learner(dls, 'vit_large_patch16_224', loss_func=nn.CrossEntropyLoss(), n_out=10)"
      ],
      "metadata": {
        "id": "xfjZ9FmD-nu5",
        "colab": {
          "base_uri": "https://localhost:8080/"
        },
        "outputId": "486eea83-2764-4c43-8fbc-4aad4f84e8a1"
      },
      "execution_count": 72,
      "outputs": [
        {
          "output_type": "stream",
          "name": "stdout",
          "text": [
            "here\n",
            "'works'\n",
            "hmmm\n",
            "oooo\n",
            "alright\n",
            "yesss\n",
            "makes sense\n"
          ]
        }
      ]
    },
    {
      "cell_type": "code",
      "source": [
        "my_learner.fit(40)"
      ],
      "metadata": {
        "id": "m-Vo_WnpTU4W"
      },
      "execution_count": null,
      "outputs": []
    },
    {
      "cell_type": "code",
      "execution_count": 69,
      "metadata": {
        "id": "cEqTLzTlf1wN"
      },
      "outputs": [],
      "source": [
        "import torch.nn as nn\n",
        "import pprint\n",
        "\n",
        "from fastai.vision.learner import has_pool_type\n",
        "from fastai.vision.learner import _update_first_layer\n",
        "\n",
        "def create_timm_body(arch:str, pretrained=True, cut=None, n_in=3):\n",
        "    \"Creates a body from any model in the `timm` library.\"\n",
        "    model = create_model(arch, pretrained=pretrained, num_classes=10)\n",
        "    _update_first_layer(model, n_in, pretrained)\n",
        "    if cut is None:\n",
        "        try:\n",
        "          ll = list(enumerate(model.children()))\n",
        "          cut = next(i for i,o in reversed(ll) if has_pool_type(o)) ## i is the layer number and o is the type\n",
        "        except StopIteration:\n",
        "            cut = -1\n",
        "            pass        \n",
        "    if isinstance(cut, int): return nn.Sequential(*list(model.children())[:cut])\n",
        "    elif callable(cut): return cut(model)\n",
        "    else: raise NameError(\"cut must be either integer or function\")\n",
        "\n",
        "def create_timm_model(arch:str, n_out, cut=None, pretrained=True, n_in=3, init=nn.init.kaiming_normal_, custom_head=None,\n",
        "                     concat_pool=True, **kwargs):\n",
        "    \"Create custom architecture using `arch`, `n_in` and `n_out` from the `timm` library\"\n",
        "    print(\"here\")\n",
        "    body = create_timm_body(arch, pretrained, None, n_in)\n",
        "    print(\"hmmm\")\n",
        "    if custom_head is None:\n",
        "        print(\"oooo\")\n",
        "        nf = get_num_features(body)\n",
        "        # # nf = num_features_model(nn.Sequential(bodny.modules()))\n",
        "        # # nf = num_features_model(*list(body.children()))\n",
        "        # nf = 3072\n",
        "        print(\"alright\")\n",
        "        head = create_head(nf, n_out, concat_pool=concat_pool, **kwargs)\n",
        "    else: head = custom_head\n",
        "    print(\"yesss\")\n",
        "    model = nn.Sequential(body, head)\n",
        "    print(\"makes sense\")\n",
        "    if init is not None: apply_init(model[1], init)\n",
        "    return model\n",
        "\n",
        "def timm_learner(dls, arch:str, loss_func=None, pretrained=True, cut=None, splitter=None,\n",
        "                y_range=None, config=None, n_out=None, normalize=True, **kwargs):\n",
        "    \"Build a convnet style learner from `dls` and `arch` using the `timm` library\"\n",
        "    if config is None: config = {}\n",
        "    if n_out is None: n_out = get_c(dls)\n",
        "    assert n_out, \"`n_out` is not defined, and could not be inferred from data, set `dls.c` or pass `n_out`\"\n",
        "    if y_range is None and 'y_range' in config: y_range = config.pop('y_range')\n",
        "    model = create_timm_model(arch, n_out, default_split, pretrained, y_range=y_range, **config)\n",
        "    learn = Learner(dls, model, loss_func=loss_func, splitter=default_split, **kwargs)\n",
        "    if pretrained: learn.freeze()\n",
        "    return learn"
      ]
    },
    {
      "cell_type": "code",
      "source": [
        "from fastai.vision.all import *\n",
        "\n",
        "def get_num_features(body):\n",
        "  num_features = -1\n",
        "  try:\n",
        "    return(num_features_model(nn.Sequential(*body.children())))\n",
        "  except:\n",
        "    for i in range(len(body)):\n",
        "      layer = body[-i+1]\n",
        "      if isinstance(layer, torch.nn.Sequential):\n",
        "        for block in layer:\n",
        "          \n",
        "          for sublayer in block.children():\n",
        "            if isinstance(sublayer, timm.models.vision_transformer.Attention):\n",
        "              for ll in sublayer.children():\n",
        "                if isinstance(ll, torch.nn.modules.linear.Linear):\n",
        "                  return ll.out_features\n",
        "          break\n",
        "        break"
      ],
      "metadata": {
        "id": "wCqJyrZ-PT54"
      },
      "execution_count": 63,
      "outputs": []
    },
    {
      "cell_type": "code",
      "source": [
        "num_param = 0\n",
        "for i in range(len(my_body)):\n",
        "  layer = my_body[-i+1]\n",
        "  if isinstance(layer, torch.nn.Sequential):\n",
        "    for block in layer:\n",
        "      print(type(block))\n",
        "\n",
        "      for j in block.children():\n",
        "        if isinstance(j, timm.models.vision_transformer.Attention):\n",
        "          for o_f in j.children():\n",
        "            # print(type(o_f)) ## linear layers will give out_features\n",
        "            if isinstance(o_f, torch.nn.modules.linear.Linear):\n",
        "              print(o_f.out_features)\n",
        "              break\n",
        "          break\n",
        "      # print(block)\n",
        "      # print(block.get_parameter(\"dim\"))\n",
        "      # for param in block.parameters():\n",
        "      #   print(type(param))\n",
        "      #   num_param+=1\n",
        "      #   print(\"----------\")\n",
        "      break\n",
        "  print(\"-----\")\n",
        "print(num_param)\n"
      ],
      "metadata": {
        "colab": {
          "base_uri": "https://localhost:8080/"
        },
        "id": "8-TNU_I5Fh0r",
        "outputId": "d69bce9e-1d8c-48ca-cbf6-81ec8019a00f"
      },
      "execution_count": 38,
      "outputs": [
        {
          "output_type": "stream",
          "name": "stdout",
          "text": [
            "-----\n",
            "-----\n",
            "-----\n",
            "-----\n",
            "<class 'timm.models.vision_transformer.Block'>\n",
            "3072\n",
            "-----\n",
            "0\n"
          ]
        }
      ]
    },
    {
      "cell_type": "code",
      "execution_count": 64,
      "metadata": {
        "id": "ceFAf5e1TD0l"
      },
      "outputs": [],
      "source": [
        "# my_model = create_timm_model('vit_large_patch16_224', n_out=10)\n",
        "\n",
        "my_body = create_timm_body('resnet34', pretrained=True)"
      ]
    },
    {
      "cell_type": "code",
      "source": [
        "for i in range(len(my_body)):\n",
        "  layer = my_body[-i+1]\n",
        "  if isinstance(layer, torch.nn.Sequential):\n",
        "    for block in layer:\n",
        "      print(type(block))\n",
        "      break\n",
        "    break\n",
        "\n",
        "  print(\"-----------------\")"
      ],
      "metadata": {
        "colab": {
          "base_uri": "https://localhost:8080/"
        },
        "id": "_7row8atOTwN",
        "outputId": "50a53fd9-88be-4bb4-c092-7f23c71b129b"
      },
      "execution_count": 46,
      "outputs": [
        {
          "output_type": "stream",
          "name": "stdout",
          "text": [
            "-----------------\n",
            "-----------------\n",
            "<class 'timm.models.resnet.BasicBlock'>\n"
          ]
        }
      ]
    },
    {
      "cell_type": "code",
      "source": [
        "my_model"
      ],
      "metadata": {
        "id": "Lstw5cxm-eSJ"
      },
      "execution_count": null,
      "outputs": []
    },
    {
      "cell_type": "code",
      "source": [
        "import time = time\n",
        "my_learner.fit(40, lr=0.006)"
      ],
      "metadata": {
        "colab": {
          "base_uri": "https://localhost:8080/"
        },
        "id": "OfcVPuEi_T3X",
        "outputId": "3bbc2e65-4671-4b00-e735-b3a2d617f0ed"
      },
      "execution_count": null,
      "outputs": [
        {
          "output_type": "stream",
          "name": "stdout",
          "text": [
            "<fastai.learner.Learner object at 0x7f2fc925eed0>\n"
          ]
        }
      ]
    },
    {
      "cell_type": "code",
      "execution_count": null,
      "metadata": {
        "id": "fpsI8K4Hlf13"
      },
      "outputs": [],
      "source": [
        "model = timm.create_model('vit_large_patch16_224', pretrained=True, num_classes=10)"
      ]
    },
    {
      "cell_type": "code",
      "source": [
        "import timm"
      ],
      "metadata": {
        "id": "DQp6M0Xj4uwI"
      },
      "execution_count": null,
      "outputs": []
    },
    {
      "cell_type": "code",
      "source": [
        "my_body = create_timm_body('vit_large_patch16_224')"
      ],
      "metadata": {
        "id": "0IjGZfdy05Jp"
      },
      "execution_count": null,
      "outputs": []
    },
    {
      "cell_type": "code",
      "source": [
        "i = 1\n",
        "seq = None\n",
        "while True and i <= len(list(my_body.children())):\n",
        "    try:\n",
        "        seq = num_features_model(list(my_body.children())[-i])\n",
        "        break\n",
        "    except:\n",
        "        i += 1\n",
        "print(i)\n",
        "print(seq)"
      ],
      "metadata": {
        "id": "gUbu9f1J3fPY"
      },
      "execution_count": null,
      "outputs": []
    },
    {
      "cell_type": "code",
      "source": [
        "from fastai.vision.all import *"
      ],
      "metadata": {
        "id": "obEJMqG85iec"
      },
      "execution_count": null,
      "outputs": []
    },
    {
      "cell_type": "code",
      "source": [
        "cnn_model = create_timm_model('resnet34', n_out=10)"
      ],
      "metadata": {
        "id": "Bgrrk3l85Yqv"
      },
      "execution_count": null,
      "outputs": []
    },
    {
      "cell_type": "code",
      "source": [
        "cnn_body = create_timm_body('resnet34')"
      ],
      "metadata": {
        "colab": {
          "base_uri": "https://localhost:8080/"
        },
        "id": "clVw24Cw5Jwp",
        "outputId": "4243007e-7d5a-4800-cf7e-781e4ba87d4a"
      },
      "execution_count": null,
      "outputs": [
        {
          "output_type": "stream",
          "name": "stderr",
          "text": [
            "Downloading: \"https://github.com/rwightman/pytorch-image-models/releases/download/v0.1-weights/resnet34-43635321.pth\" to /root/.cache/torch/hub/checkpoints/resnet34-43635321.pth\n"
          ]
        }
      ]
    },
    {
      "cell_type": "code",
      "source": [
        "i = 1\n",
        "seq = None\n",
        "while True and i <= len(list(cnn_body.children())):\n",
        "    try:\n",
        "        seq = num_features_model(list(cnn_body.children())[-i])\n",
        "        break\n",
        "    except:\n",
        "        i += 1\n",
        "print(i)\n",
        "print(seq)"
      ],
      "metadata": {
        "id": "l11e9vXP5Q46"
      },
      "execution_count": null,
      "outputs": []
    },
    {
      "cell_type": "code",
      "source": [
        "print(cnn_body)"
      ],
      "metadata": {
        "id": "X1EXtETg6NdA"
      },
      "execution_count": null,
      "outputs": []
    },
    {
      "cell_type": "code",
      "source": [
        "my_body"
      ],
      "metadata": {
        "id": "VCBB25Lx5A3V"
      },
      "execution_count": null,
      "outputs": []
    },
    {
      "cell_type": "code",
      "source": [
        "childrens = my_body.children()\n",
        "child_list = list(childrens)\n",
        "new_list = []\n",
        "index = 0\n",
        "for i in range(-1 * len(child_list), 0):\n",
        "    new_list.insert(index, child_list[i])    "
      ],
      "metadata": {
        "id": "WDAIsz2O1DVV"
      },
      "execution_count": null,
      "outputs": []
    },
    {
      "cell_type": "code",
      "source": [
        "layers = new_list[2][0].modules()"
      ],
      "metadata": {
        "id": "oyrZlOq078XT"
      },
      "execution_count": null,
      "outputs": []
    },
    {
      "cell_type": "code",
      "source": [
        "layers"
      ],
      "metadata": {
        "colab": {
          "base_uri": "https://localhost:8080/"
        },
        "id": "ANwmYw48-EUS",
        "outputId": "083ea16e-82ba-48bb-b869-7d09b4086863"
      },
      "execution_count": null,
      "outputs": [
        {
          "output_type": "execute_result",
          "data": {
            "text/plain": [
              "<generator object Module.modules at 0x7f302494eb50>"
            ]
          },
          "metadata": {},
          "execution_count": 36
        }
      ]
    },
    {
      "cell_type": "code",
      "source": [
        "for i in layers:\n",
        "    j = i.modules()\n",
        "    print(j)\n",
        "    for k in j:\n",
        "        print(k)\n",
        "    print(\"-----------------------\")"
      ],
      "metadata": {
        "id": "ZDJcHxni9eKf"
      },
      "execution_count": null,
      "outputs": []
    },
    {
      "cell_type": "code",
      "source": [
        "childrens"
      ],
      "metadata": {
        "colab": {
          "base_uri": "https://localhost:8080/"
        },
        "id": "O33bbwG12aMA",
        "outputId": "bb7769e7-2055-4fd1-b6dd-8d49b9c950f9"
      },
      "execution_count": null,
      "outputs": [
        {
          "output_type": "execute_result",
          "data": {
            "text/plain": [
              "<generator object Module.children at 0x7fbc027afc50>"
            ]
          },
          "metadata": {},
          "execution_count": 31
        }
      ]
    },
    {
      "cell_type": "code",
      "source": [
        "seq = list(childrens)"
      ],
      "metadata": {
        "id": "5xb5YErb2JlV"
      },
      "execution_count": null,
      "outputs": []
    },
    {
      "cell_type": "code",
      "source": [
        "print(num_features_model(seq))"
      ],
      "metadata": {
        "colab": {
          "base_uri": "https://localhost:8080/",
          "height": 311
        },
        "id": "ZFjt94cQ20Qt",
        "outputId": "b3ca46e4-b4f9-4075-914e-cbe5be789a9c"
      },
      "execution_count": null,
      "outputs": [
        {
          "output_type": "error",
          "ename": "AttributeError",
          "evalue": "ignored",
          "traceback": [
            "\u001b[0;31m---------------------------------------------------------------------------\u001b[0m",
            "\u001b[0;31mAttributeError\u001b[0m                            Traceback (most recent call last)",
            "\u001b[0;32m<ipython-input-34-2a5c66a2949f>\u001b[0m in \u001b[0;36m<module>\u001b[0;34m()\u001b[0m\n\u001b[0;32m----> 1\u001b[0;31m \u001b[0mprint\u001b[0m\u001b[0;34m(\u001b[0m\u001b[0mnum_features_model\u001b[0m\u001b[0;34m(\u001b[0m\u001b[0mseq\u001b[0m\u001b[0;34m)\u001b[0m\u001b[0;34m)\u001b[0m\u001b[0;34m\u001b[0m\u001b[0;34m\u001b[0m\u001b[0m\n\u001b[0m",
            "\u001b[0;32m/usr/local/lib/python3.7/dist-packages/fastai/callback/hook.py\u001b[0m in \u001b[0;36mnum_features_model\u001b[0;34m(m)\u001b[0m\n\u001b[1;32m     88\u001b[0m \u001b[0;32mdef\u001b[0m \u001b[0mnum_features_model\u001b[0m\u001b[0;34m(\u001b[0m\u001b[0mm\u001b[0m\u001b[0;34m)\u001b[0m\u001b[0;34m:\u001b[0m\u001b[0;34m\u001b[0m\u001b[0;34m\u001b[0m\u001b[0m\n\u001b[1;32m     89\u001b[0m     \u001b[0;34m\"Return the number of output features for `m`.\"\u001b[0m\u001b[0;34m\u001b[0m\u001b[0;34m\u001b[0m\u001b[0m\n\u001b[0;32m---> 90\u001b[0;31m     \u001b[0msz\u001b[0m\u001b[0;34m,\u001b[0m\u001b[0mch_in\u001b[0m \u001b[0;34m=\u001b[0m \u001b[0;36m32\u001b[0m\u001b[0;34m,\u001b[0m\u001b[0min_channels\u001b[0m\u001b[0;34m(\u001b[0m\u001b[0mm\u001b[0m\u001b[0;34m)\u001b[0m\u001b[0;34m\u001b[0m\u001b[0;34m\u001b[0m\u001b[0m\n\u001b[0m\u001b[1;32m     91\u001b[0m     \u001b[0;32mwhile\u001b[0m \u001b[0;32mTrue\u001b[0m\u001b[0;34m:\u001b[0m\u001b[0;34m\u001b[0m\u001b[0;34m\u001b[0m\u001b[0m\n\u001b[1;32m     92\u001b[0m         \u001b[0;31m#Trying for a few sizes in case the model requires a big input size.\u001b[0m\u001b[0;34m\u001b[0m\u001b[0;34m\u001b[0m\u001b[0;34m\u001b[0m\u001b[0m\n",
            "\u001b[0;32m/usr/local/lib/python3.7/dist-packages/fastai/layers.py\u001b[0m in \u001b[0;36min_channels\u001b[0;34m(m)\u001b[0m\n\u001b[1;32m    652\u001b[0m \u001b[0;32mdef\u001b[0m \u001b[0min_channels\u001b[0m\u001b[0;34m(\u001b[0m\u001b[0mm\u001b[0m\u001b[0;34m)\u001b[0m\u001b[0;34m:\u001b[0m\u001b[0;34m\u001b[0m\u001b[0;34m\u001b[0m\u001b[0m\n\u001b[1;32m    653\u001b[0m     \u001b[0;34m\"Return the shape of the first weight layer in `m`.\"\u001b[0m\u001b[0;34m\u001b[0m\u001b[0;34m\u001b[0m\u001b[0m\n\u001b[0;32m--> 654\u001b[0;31m     \u001b[0;32mfor\u001b[0m \u001b[0ml\u001b[0m \u001b[0;32min\u001b[0m \u001b[0mflatten_model\u001b[0m\u001b[0;34m(\u001b[0m\u001b[0mm\u001b[0m\u001b[0;34m)\u001b[0m\u001b[0;34m:\u001b[0m\u001b[0;34m\u001b[0m\u001b[0;34m\u001b[0m\u001b[0m\n\u001b[0m\u001b[1;32m    655\u001b[0m         \u001b[0;32mif\u001b[0m \u001b[0mgetattr\u001b[0m\u001b[0;34m(\u001b[0m\u001b[0ml\u001b[0m\u001b[0;34m,\u001b[0m \u001b[0;34m'weight'\u001b[0m\u001b[0;34m,\u001b[0m \u001b[0;32mNone\u001b[0m\u001b[0;34m)\u001b[0m \u001b[0;32mis\u001b[0m \u001b[0;32mnot\u001b[0m \u001b[0;32mNone\u001b[0m \u001b[0;32mand\u001b[0m \u001b[0ml\u001b[0m\u001b[0;34m.\u001b[0m\u001b[0mweight\u001b[0m\u001b[0;34m.\u001b[0m\u001b[0mndim\u001b[0m\u001b[0;34m==\u001b[0m\u001b[0;36m4\u001b[0m\u001b[0;34m:\u001b[0m\u001b[0;34m\u001b[0m\u001b[0;34m\u001b[0m\u001b[0m\n\u001b[1;32m    656\u001b[0m             \u001b[0;32mreturn\u001b[0m \u001b[0ml\u001b[0m\u001b[0;34m.\u001b[0m\u001b[0mweight\u001b[0m\u001b[0;34m.\u001b[0m\u001b[0mshape\u001b[0m\u001b[0;34m[\u001b[0m\u001b[0;36m1\u001b[0m\u001b[0;34m]\u001b[0m\u001b[0;34m\u001b[0m\u001b[0;34m\u001b[0m\u001b[0m\n",
            "\u001b[0;32m/usr/local/lib/python3.7/dist-packages/fastai/layers.py\u001b[0m in \u001b[0;36mflatten_model\u001b[0;34m(m)\u001b[0m\n\u001b[1;32m    632\u001b[0m \u001b[0;32mdef\u001b[0m \u001b[0mflatten_model\u001b[0m\u001b[0;34m(\u001b[0m\u001b[0mm\u001b[0m\u001b[0;34m)\u001b[0m\u001b[0;34m:\u001b[0m\u001b[0;34m\u001b[0m\u001b[0;34m\u001b[0m\u001b[0m\n\u001b[1;32m    633\u001b[0m     \u001b[0;34m\"Return the list of all submodules and parameters of `m`\"\u001b[0m\u001b[0;34m\u001b[0m\u001b[0;34m\u001b[0m\u001b[0m\n\u001b[0;32m--> 634\u001b[0;31m     \u001b[0;32mreturn\u001b[0m \u001b[0msum\u001b[0m\u001b[0;34m(\u001b[0m\u001b[0mmap\u001b[0m\u001b[0;34m(\u001b[0m\u001b[0mflatten_model\u001b[0m\u001b[0;34m,\u001b[0m\u001b[0mchildren_and_parameters\u001b[0m\u001b[0;34m(\u001b[0m\u001b[0mm\u001b[0m\u001b[0;34m)\u001b[0m\u001b[0;34m)\u001b[0m\u001b[0;34m,\u001b[0m\u001b[0;34m[\u001b[0m\u001b[0;34m]\u001b[0m\u001b[0;34m)\u001b[0m \u001b[0;32mif\u001b[0m \u001b[0mhas_children\u001b[0m\u001b[0;34m(\u001b[0m\u001b[0mm\u001b[0m\u001b[0;34m)\u001b[0m \u001b[0;32melse\u001b[0m \u001b[0;34m[\u001b[0m\u001b[0mm\u001b[0m\u001b[0;34m]\u001b[0m\u001b[0;34m\u001b[0m\u001b[0;34m\u001b[0m\u001b[0m\n\u001b[0m\u001b[1;32m    635\u001b[0m \u001b[0;34m\u001b[0m\u001b[0m\n\u001b[1;32m    636\u001b[0m \u001b[0;31m# Cell\u001b[0m\u001b[0;34m\u001b[0m\u001b[0;34m\u001b[0m\u001b[0;34m\u001b[0m\u001b[0m\n",
            "\u001b[0;32m/usr/local/lib/python3.7/dist-packages/fastai/layers.py\u001b[0m in \u001b[0;36mhas_children\u001b[0;34m(m)\u001b[0m\n\u001b[1;32m    625\u001b[0m \u001b[0;31m# Cell\u001b[0m\u001b[0;34m\u001b[0m\u001b[0;34m\u001b[0m\u001b[0;34m\u001b[0m\u001b[0m\n\u001b[1;32m    626\u001b[0m \u001b[0;32mdef\u001b[0m \u001b[0mhas_children\u001b[0m\u001b[0;34m(\u001b[0m\u001b[0mm\u001b[0m\u001b[0;34m)\u001b[0m\u001b[0;34m:\u001b[0m\u001b[0;34m\u001b[0m\u001b[0;34m\u001b[0m\u001b[0m\n\u001b[0;32m--> 627\u001b[0;31m     \u001b[0;32mtry\u001b[0m\u001b[0;34m:\u001b[0m \u001b[0mnext\u001b[0m\u001b[0;34m(\u001b[0m\u001b[0mm\u001b[0m\u001b[0;34m.\u001b[0m\u001b[0mchildren\u001b[0m\u001b[0;34m(\u001b[0m\u001b[0;34m)\u001b[0m\u001b[0;34m)\u001b[0m\u001b[0;34m\u001b[0m\u001b[0;34m\u001b[0m\u001b[0m\n\u001b[0m\u001b[1;32m    628\u001b[0m     \u001b[0;32mexcept\u001b[0m \u001b[0mStopIteration\u001b[0m\u001b[0;34m:\u001b[0m \u001b[0;32mreturn\u001b[0m \u001b[0;32mFalse\u001b[0m\u001b[0;34m\u001b[0m\u001b[0;34m\u001b[0m\u001b[0m\n\u001b[1;32m    629\u001b[0m     \u001b[0;32mreturn\u001b[0m \u001b[0;32mTrue\u001b[0m\u001b[0;34m\u001b[0m\u001b[0;34m\u001b[0m\u001b[0m\n",
            "\u001b[0;31mAttributeError\u001b[0m: 'list' object has no attribute 'children'"
          ]
        }
      ]
    },
    {
      "cell_type": "code",
      "source": [
        "for i in childrens:\n",
        "    print(i)\n",
        "    print(\"-------------------VIDUSHI-------------------\")"
      ],
      "metadata": {
        "id": "X_ZDYO3o1QGI"
      },
      "execution_count": null,
      "outputs": []
    },
    {
      "cell_type": "code",
      "source": [
        ""
      ],
      "metadata": {
        "colab": {
          "base_uri": "https://localhost:8080/"
        },
        "id": "rgtHvAa10CJD",
        "outputId": "72a5bbf2-b9eb-48c0-c7c1-cf37e453ba7c"
      },
      "execution_count": null,
      "outputs": [
        {
          "output_type": "execute_result",
          "data": {
            "text/plain": [
              "Sequential(\n",
              "  (0): PatchEmbed(\n",
              "    (proj): Conv2d(3, 1024, kernel_size=(16, 16), stride=(16, 16))\n",
              "    (norm): Identity()\n",
              "  )\n",
              "  (1): Dropout(p=0.0, inplace=False)\n",
              ")"
            ]
          },
          "metadata": {},
          "execution_count": 11
        }
      ]
    },
    {
      "cell_type": "code",
      "execution_count": null,
      "metadata": {
        "id": "UmGEHUa6RVGh"
      },
      "outputs": [],
      "source": [
        "model = create_model('resnet34')"
      ]
    },
    {
      "cell_type": "code",
      "execution_count": null,
      "metadata": {
        "id": "d3d0m4UmRdFS"
      },
      "outputs": [],
      "source": [
        "model"
      ]
    },
    {
      "cell_type": "code",
      "execution_count": null,
      "metadata": {
        "id": "WTARgbkVPyYu"
      },
      "outputs": [],
      "source": [
        "body = create_timm_body('resnet34', cut=5)"
      ]
    },
    {
      "cell_type": "code",
      "execution_count": null,
      "metadata": {
        "id": "M9f7VSa3RNK-"
      },
      "outputs": [],
      "source": [
        "body"
      ]
    },
    {
      "cell_type": "code",
      "execution_count": null,
      "metadata": {
        "colab": {
          "base_uri": "https://localhost:8080/"
        },
        "id": "DRj4KTiAloQF",
        "outputId": "36d8fb6d-eba3-431e-9600-c9a95557a7f0"
      },
      "outputs": [
        {
          "name": "stdout",
          "output_type": "stream",
          "text": [
            "(5, Linear(in_features=1024, out_features=10, bias=True))\n",
            "(4, Identity())\n",
            "(3, LayerNorm((1024,), eps=1e-06, elementwise_affine=True))\n",
            "(2, Sequential(\n",
            "  (0): Block(\n",
            "    (norm1): LayerNorm((1024,), eps=1e-06, elementwise_affine=True)\n",
            "    (attn): Attention(\n",
            "      (qkv): Linear(in_features=1024, out_features=3072, bias=True)\n",
            "      (attn_drop): Dropout(p=0.0, inplace=False)\n",
            "      (proj): Linear(in_features=1024, out_features=1024, bias=True)\n",
            "      (proj_drop): Dropout(p=0.0, inplace=False)\n",
            "    )\n",
            "    (drop_path): Identity()\n",
            "    (norm2): LayerNorm((1024,), eps=1e-06, elementwise_affine=True)\n",
            "    (mlp): Mlp(\n",
            "      (fc1): Linear(in_features=1024, out_features=4096, bias=True)\n",
            "      (act): GELU()\n",
            "      (drop1): Dropout(p=0.0, inplace=False)\n",
            "      (fc2): Linear(in_features=4096, out_features=1024, bias=True)\n",
            "      (drop2): Dropout(p=0.0, inplace=False)\n",
            "    )\n",
            "  )\n",
            "  (1): Block(\n",
            "    (norm1): LayerNorm((1024,), eps=1e-06, elementwise_affine=True)\n",
            "    (attn): Attention(\n",
            "      (qkv): Linear(in_features=1024, out_features=3072, bias=True)\n",
            "      (attn_drop): Dropout(p=0.0, inplace=False)\n",
            "      (proj): Linear(in_features=1024, out_features=1024, bias=True)\n",
            "      (proj_drop): Dropout(p=0.0, inplace=False)\n",
            "    )\n",
            "    (drop_path): Identity()\n",
            "    (norm2): LayerNorm((1024,), eps=1e-06, elementwise_affine=True)\n",
            "    (mlp): Mlp(\n",
            "      (fc1): Linear(in_features=1024, out_features=4096, bias=True)\n",
            "      (act): GELU()\n",
            "      (drop1): Dropout(p=0.0, inplace=False)\n",
            "      (fc2): Linear(in_features=4096, out_features=1024, bias=True)\n",
            "      (drop2): Dropout(p=0.0, inplace=False)\n",
            "    )\n",
            "  )\n",
            "  (2): Block(\n",
            "    (norm1): LayerNorm((1024,), eps=1e-06, elementwise_affine=True)\n",
            "    (attn): Attention(\n",
            "      (qkv): Linear(in_features=1024, out_features=3072, bias=True)\n",
            "      (attn_drop): Dropout(p=0.0, inplace=False)\n",
            "      (proj): Linear(in_features=1024, out_features=1024, bias=True)\n",
            "      (proj_drop): Dropout(p=0.0, inplace=False)\n",
            "    )\n",
            "    (drop_path): Identity()\n",
            "    (norm2): LayerNorm((1024,), eps=1e-06, elementwise_affine=True)\n",
            "    (mlp): Mlp(\n",
            "      (fc1): Linear(in_features=1024, out_features=4096, bias=True)\n",
            "      (act): GELU()\n",
            "      (drop1): Dropout(p=0.0, inplace=False)\n",
            "      (fc2): Linear(in_features=4096, out_features=1024, bias=True)\n",
            "      (drop2): Dropout(p=0.0, inplace=False)\n",
            "    )\n",
            "  )\n",
            "  (3): Block(\n",
            "    (norm1): LayerNorm((1024,), eps=1e-06, elementwise_affine=True)\n",
            "    (attn): Attention(\n",
            "      (qkv): Linear(in_features=1024, out_features=3072, bias=True)\n",
            "      (attn_drop): Dropout(p=0.0, inplace=False)\n",
            "      (proj): Linear(in_features=1024, out_features=1024, bias=True)\n",
            "      (proj_drop): Dropout(p=0.0, inplace=False)\n",
            "    )\n",
            "    (drop_path): Identity()\n",
            "    (norm2): LayerNorm((1024,), eps=1e-06, elementwise_affine=True)\n",
            "    (mlp): Mlp(\n",
            "      (fc1): Linear(in_features=1024, out_features=4096, bias=True)\n",
            "      (act): GELU()\n",
            "      (drop1): Dropout(p=0.0, inplace=False)\n",
            "      (fc2): Linear(in_features=4096, out_features=1024, bias=True)\n",
            "      (drop2): Dropout(p=0.0, inplace=False)\n",
            "    )\n",
            "  )\n",
            "  (4): Block(\n",
            "    (norm1): LayerNorm((1024,), eps=1e-06, elementwise_affine=True)\n",
            "    (attn): Attention(\n",
            "      (qkv): Linear(in_features=1024, out_features=3072, bias=True)\n",
            "      (attn_drop): Dropout(p=0.0, inplace=False)\n",
            "      (proj): Linear(in_features=1024, out_features=1024, bias=True)\n",
            "      (proj_drop): Dropout(p=0.0, inplace=False)\n",
            "    )\n",
            "    (drop_path): Identity()\n",
            "    (norm2): LayerNorm((1024,), eps=1e-06, elementwise_affine=True)\n",
            "    (mlp): Mlp(\n",
            "      (fc1): Linear(in_features=1024, out_features=4096, bias=True)\n",
            "      (act): GELU()\n",
            "      (drop1): Dropout(p=0.0, inplace=False)\n",
            "      (fc2): Linear(in_features=4096, out_features=1024, bias=True)\n",
            "      (drop2): Dropout(p=0.0, inplace=False)\n",
            "    )\n",
            "  )\n",
            "  (5): Block(\n",
            "    (norm1): LayerNorm((1024,), eps=1e-06, elementwise_affine=True)\n",
            "    (attn): Attention(\n",
            "      (qkv): Linear(in_features=1024, out_features=3072, bias=True)\n",
            "      (attn_drop): Dropout(p=0.0, inplace=False)\n",
            "      (proj): Linear(in_features=1024, out_features=1024, bias=True)\n",
            "      (proj_drop): Dropout(p=0.0, inplace=False)\n",
            "    )\n",
            "    (drop_path): Identity()\n",
            "    (norm2): LayerNorm((1024,), eps=1e-06, elementwise_affine=True)\n",
            "    (mlp): Mlp(\n",
            "      (fc1): Linear(in_features=1024, out_features=4096, bias=True)\n",
            "      (act): GELU()\n",
            "      (drop1): Dropout(p=0.0, inplace=False)\n",
            "      (fc2): Linear(in_features=4096, out_features=1024, bias=True)\n",
            "      (drop2): Dropout(p=0.0, inplace=False)\n",
            "    )\n",
            "  )\n",
            "  (6): Block(\n",
            "    (norm1): LayerNorm((1024,), eps=1e-06, elementwise_affine=True)\n",
            "    (attn): Attention(\n",
            "      (qkv): Linear(in_features=1024, out_features=3072, bias=True)\n",
            "      (attn_drop): Dropout(p=0.0, inplace=False)\n",
            "      (proj): Linear(in_features=1024, out_features=1024, bias=True)\n",
            "      (proj_drop): Dropout(p=0.0, inplace=False)\n",
            "    )\n",
            "    (drop_path): Identity()\n",
            "    (norm2): LayerNorm((1024,), eps=1e-06, elementwise_affine=True)\n",
            "    (mlp): Mlp(\n",
            "      (fc1): Linear(in_features=1024, out_features=4096, bias=True)\n",
            "      (act): GELU()\n",
            "      (drop1): Dropout(p=0.0, inplace=False)\n",
            "      (fc2): Linear(in_features=4096, out_features=1024, bias=True)\n",
            "      (drop2): Dropout(p=0.0, inplace=False)\n",
            "    )\n",
            "  )\n",
            "  (7): Block(\n",
            "    (norm1): LayerNorm((1024,), eps=1e-06, elementwise_affine=True)\n",
            "    (attn): Attention(\n",
            "      (qkv): Linear(in_features=1024, out_features=3072, bias=True)\n",
            "      (attn_drop): Dropout(p=0.0, inplace=False)\n",
            "      (proj): Linear(in_features=1024, out_features=1024, bias=True)\n",
            "      (proj_drop): Dropout(p=0.0, inplace=False)\n",
            "    )\n",
            "    (drop_path): Identity()\n",
            "    (norm2): LayerNorm((1024,), eps=1e-06, elementwise_affine=True)\n",
            "    (mlp): Mlp(\n",
            "      (fc1): Linear(in_features=1024, out_features=4096, bias=True)\n",
            "      (act): GELU()\n",
            "      (drop1): Dropout(p=0.0, inplace=False)\n",
            "      (fc2): Linear(in_features=4096, out_features=1024, bias=True)\n",
            "      (drop2): Dropout(p=0.0, inplace=False)\n",
            "    )\n",
            "  )\n",
            "  (8): Block(\n",
            "    (norm1): LayerNorm((1024,), eps=1e-06, elementwise_affine=True)\n",
            "    (attn): Attention(\n",
            "      (qkv): Linear(in_features=1024, out_features=3072, bias=True)\n",
            "      (attn_drop): Dropout(p=0.0, inplace=False)\n",
            "      (proj): Linear(in_features=1024, out_features=1024, bias=True)\n",
            "      (proj_drop): Dropout(p=0.0, inplace=False)\n",
            "    )\n",
            "    (drop_path): Identity()\n",
            "    (norm2): LayerNorm((1024,), eps=1e-06, elementwise_affine=True)\n",
            "    (mlp): Mlp(\n",
            "      (fc1): Linear(in_features=1024, out_features=4096, bias=True)\n",
            "      (act): GELU()\n",
            "      (drop1): Dropout(p=0.0, inplace=False)\n",
            "      (fc2): Linear(in_features=4096, out_features=1024, bias=True)\n",
            "      (drop2): Dropout(p=0.0, inplace=False)\n",
            "    )\n",
            "  )\n",
            "  (9): Block(\n",
            "    (norm1): LayerNorm((1024,), eps=1e-06, elementwise_affine=True)\n",
            "    (attn): Attention(\n",
            "      (qkv): Linear(in_features=1024, out_features=3072, bias=True)\n",
            "      (attn_drop): Dropout(p=0.0, inplace=False)\n",
            "      (proj): Linear(in_features=1024, out_features=1024, bias=True)\n",
            "      (proj_drop): Dropout(p=0.0, inplace=False)\n",
            "    )\n",
            "    (drop_path): Identity()\n",
            "    (norm2): LayerNorm((1024,), eps=1e-06, elementwise_affine=True)\n",
            "    (mlp): Mlp(\n",
            "      (fc1): Linear(in_features=1024, out_features=4096, bias=True)\n",
            "      (act): GELU()\n",
            "      (drop1): Dropout(p=0.0, inplace=False)\n",
            "      (fc2): Linear(in_features=4096, out_features=1024, bias=True)\n",
            "      (drop2): Dropout(p=0.0, inplace=False)\n",
            "    )\n",
            "  )\n",
            "  (10): Block(\n",
            "    (norm1): LayerNorm((1024,), eps=1e-06, elementwise_affine=True)\n",
            "    (attn): Attention(\n",
            "      (qkv): Linear(in_features=1024, out_features=3072, bias=True)\n",
            "      (attn_drop): Dropout(p=0.0, inplace=False)\n",
            "      (proj): Linear(in_features=1024, out_features=1024, bias=True)\n",
            "      (proj_drop): Dropout(p=0.0, inplace=False)\n",
            "    )\n",
            "    (drop_path): Identity()\n",
            "    (norm2): LayerNorm((1024,), eps=1e-06, elementwise_affine=True)\n",
            "    (mlp): Mlp(\n",
            "      (fc1): Linear(in_features=1024, out_features=4096, bias=True)\n",
            "      (act): GELU()\n",
            "      (drop1): Dropout(p=0.0, inplace=False)\n",
            "      (fc2): Linear(in_features=4096, out_features=1024, bias=True)\n",
            "      (drop2): Dropout(p=0.0, inplace=False)\n",
            "    )\n",
            "  )\n",
            "  (11): Block(\n",
            "    (norm1): LayerNorm((1024,), eps=1e-06, elementwise_affine=True)\n",
            "    (attn): Attention(\n",
            "      (qkv): Linear(in_features=1024, out_features=3072, bias=True)\n",
            "      (attn_drop): Dropout(p=0.0, inplace=False)\n",
            "      (proj): Linear(in_features=1024, out_features=1024, bias=True)\n",
            "      (proj_drop): Dropout(p=0.0, inplace=False)\n",
            "    )\n",
            "    (drop_path): Identity()\n",
            "    (norm2): LayerNorm((1024,), eps=1e-06, elementwise_affine=True)\n",
            "    (mlp): Mlp(\n",
            "      (fc1): Linear(in_features=1024, out_features=4096, bias=True)\n",
            "      (act): GELU()\n",
            "      (drop1): Dropout(p=0.0, inplace=False)\n",
            "      (fc2): Linear(in_features=4096, out_features=1024, bias=True)\n",
            "      (drop2): Dropout(p=0.0, inplace=False)\n",
            "    )\n",
            "  )\n",
            "  (12): Block(\n",
            "    (norm1): LayerNorm((1024,), eps=1e-06, elementwise_affine=True)\n",
            "    (attn): Attention(\n",
            "      (qkv): Linear(in_features=1024, out_features=3072, bias=True)\n",
            "      (attn_drop): Dropout(p=0.0, inplace=False)\n",
            "      (proj): Linear(in_features=1024, out_features=1024, bias=True)\n",
            "      (proj_drop): Dropout(p=0.0, inplace=False)\n",
            "    )\n",
            "    (drop_path): Identity()\n",
            "    (norm2): LayerNorm((1024,), eps=1e-06, elementwise_affine=True)\n",
            "    (mlp): Mlp(\n",
            "      (fc1): Linear(in_features=1024, out_features=4096, bias=True)\n",
            "      (act): GELU()\n",
            "      (drop1): Dropout(p=0.0, inplace=False)\n",
            "      (fc2): Linear(in_features=4096, out_features=1024, bias=True)\n",
            "      (drop2): Dropout(p=0.0, inplace=False)\n",
            "    )\n",
            "  )\n",
            "  (13): Block(\n",
            "    (norm1): LayerNorm((1024,), eps=1e-06, elementwise_affine=True)\n",
            "    (attn): Attention(\n",
            "      (qkv): Linear(in_features=1024, out_features=3072, bias=True)\n",
            "      (attn_drop): Dropout(p=0.0, inplace=False)\n",
            "      (proj): Linear(in_features=1024, out_features=1024, bias=True)\n",
            "      (proj_drop): Dropout(p=0.0, inplace=False)\n",
            "    )\n",
            "    (drop_path): Identity()\n",
            "    (norm2): LayerNorm((1024,), eps=1e-06, elementwise_affine=True)\n",
            "    (mlp): Mlp(\n",
            "      (fc1): Linear(in_features=1024, out_features=4096, bias=True)\n",
            "      (act): GELU()\n",
            "      (drop1): Dropout(p=0.0, inplace=False)\n",
            "      (fc2): Linear(in_features=4096, out_features=1024, bias=True)\n",
            "      (drop2): Dropout(p=0.0, inplace=False)\n",
            "    )\n",
            "  )\n",
            "  (14): Block(\n",
            "    (norm1): LayerNorm((1024,), eps=1e-06, elementwise_affine=True)\n",
            "    (attn): Attention(\n",
            "      (qkv): Linear(in_features=1024, out_features=3072, bias=True)\n",
            "      (attn_drop): Dropout(p=0.0, inplace=False)\n",
            "      (proj): Linear(in_features=1024, out_features=1024, bias=True)\n",
            "      (proj_drop): Dropout(p=0.0, inplace=False)\n",
            "    )\n",
            "    (drop_path): Identity()\n",
            "    (norm2): LayerNorm((1024,), eps=1e-06, elementwise_affine=True)\n",
            "    (mlp): Mlp(\n",
            "      (fc1): Linear(in_features=1024, out_features=4096, bias=True)\n",
            "      (act): GELU()\n",
            "      (drop1): Dropout(p=0.0, inplace=False)\n",
            "      (fc2): Linear(in_features=4096, out_features=1024, bias=True)\n",
            "      (drop2): Dropout(p=0.0, inplace=False)\n",
            "    )\n",
            "  )\n",
            "  (15): Block(\n",
            "    (norm1): LayerNorm((1024,), eps=1e-06, elementwise_affine=True)\n",
            "    (attn): Attention(\n",
            "      (qkv): Linear(in_features=1024, out_features=3072, bias=True)\n",
            "      (attn_drop): Dropout(p=0.0, inplace=False)\n",
            "      (proj): Linear(in_features=1024, out_features=1024, bias=True)\n",
            "      (proj_drop): Dropout(p=0.0, inplace=False)\n",
            "    )\n",
            "    (drop_path): Identity()\n",
            "    (norm2): LayerNorm((1024,), eps=1e-06, elementwise_affine=True)\n",
            "    (mlp): Mlp(\n",
            "      (fc1): Linear(in_features=1024, out_features=4096, bias=True)\n",
            "      (act): GELU()\n",
            "      (drop1): Dropout(p=0.0, inplace=False)\n",
            "      (fc2): Linear(in_features=4096, out_features=1024, bias=True)\n",
            "      (drop2): Dropout(p=0.0, inplace=False)\n",
            "    )\n",
            "  )\n",
            "  (16): Block(\n",
            "    (norm1): LayerNorm((1024,), eps=1e-06, elementwise_affine=True)\n",
            "    (attn): Attention(\n",
            "      (qkv): Linear(in_features=1024, out_features=3072, bias=True)\n",
            "      (attn_drop): Dropout(p=0.0, inplace=False)\n",
            "      (proj): Linear(in_features=1024, out_features=1024, bias=True)\n",
            "      (proj_drop): Dropout(p=0.0, inplace=False)\n",
            "    )\n",
            "    (drop_path): Identity()\n",
            "    (norm2): LayerNorm((1024,), eps=1e-06, elementwise_affine=True)\n",
            "    (mlp): Mlp(\n",
            "      (fc1): Linear(in_features=1024, out_features=4096, bias=True)\n",
            "      (act): GELU()\n",
            "      (drop1): Dropout(p=0.0, inplace=False)\n",
            "      (fc2): Linear(in_features=4096, out_features=1024, bias=True)\n",
            "      (drop2): Dropout(p=0.0, inplace=False)\n",
            "    )\n",
            "  )\n",
            "  (17): Block(\n",
            "    (norm1): LayerNorm((1024,), eps=1e-06, elementwise_affine=True)\n",
            "    (attn): Attention(\n",
            "      (qkv): Linear(in_features=1024, out_features=3072, bias=True)\n",
            "      (attn_drop): Dropout(p=0.0, inplace=False)\n",
            "      (proj): Linear(in_features=1024, out_features=1024, bias=True)\n",
            "      (proj_drop): Dropout(p=0.0, inplace=False)\n",
            "    )\n",
            "    (drop_path): Identity()\n",
            "    (norm2): LayerNorm((1024,), eps=1e-06, elementwise_affine=True)\n",
            "    (mlp): Mlp(\n",
            "      (fc1): Linear(in_features=1024, out_features=4096, bias=True)\n",
            "      (act): GELU()\n",
            "      (drop1): Dropout(p=0.0, inplace=False)\n",
            "      (fc2): Linear(in_features=4096, out_features=1024, bias=True)\n",
            "      (drop2): Dropout(p=0.0, inplace=False)\n",
            "    )\n",
            "  )\n",
            "  (18): Block(\n",
            "    (norm1): LayerNorm((1024,), eps=1e-06, elementwise_affine=True)\n",
            "    (attn): Attention(\n",
            "      (qkv): Linear(in_features=1024, out_features=3072, bias=True)\n",
            "      (attn_drop): Dropout(p=0.0, inplace=False)\n",
            "      (proj): Linear(in_features=1024, out_features=1024, bias=True)\n",
            "      (proj_drop): Dropout(p=0.0, inplace=False)\n",
            "    )\n",
            "    (drop_path): Identity()\n",
            "    (norm2): LayerNorm((1024,), eps=1e-06, elementwise_affine=True)\n",
            "    (mlp): Mlp(\n",
            "      (fc1): Linear(in_features=1024, out_features=4096, bias=True)\n",
            "      (act): GELU()\n",
            "      (drop1): Dropout(p=0.0, inplace=False)\n",
            "      (fc2): Linear(in_features=4096, out_features=1024, bias=True)\n",
            "      (drop2): Dropout(p=0.0, inplace=False)\n",
            "    )\n",
            "  )\n",
            "  (19): Block(\n",
            "    (norm1): LayerNorm((1024,), eps=1e-06, elementwise_affine=True)\n",
            "    (attn): Attention(\n",
            "      (qkv): Linear(in_features=1024, out_features=3072, bias=True)\n",
            "      (attn_drop): Dropout(p=0.0, inplace=False)\n",
            "      (proj): Linear(in_features=1024, out_features=1024, bias=True)\n",
            "      (proj_drop): Dropout(p=0.0, inplace=False)\n",
            "    )\n",
            "    (drop_path): Identity()\n",
            "    (norm2): LayerNorm((1024,), eps=1e-06, elementwise_affine=True)\n",
            "    (mlp): Mlp(\n",
            "      (fc1): Linear(in_features=1024, out_features=4096, bias=True)\n",
            "      (act): GELU()\n",
            "      (drop1): Dropout(p=0.0, inplace=False)\n",
            "      (fc2): Linear(in_features=4096, out_features=1024, bias=True)\n",
            "      (drop2): Dropout(p=0.0, inplace=False)\n",
            "    )\n",
            "  )\n",
            "  (20): Block(\n",
            "    (norm1): LayerNorm((1024,), eps=1e-06, elementwise_affine=True)\n",
            "    (attn): Attention(\n",
            "      (qkv): Linear(in_features=1024, out_features=3072, bias=True)\n",
            "      (attn_drop): Dropout(p=0.0, inplace=False)\n",
            "      (proj): Linear(in_features=1024, out_features=1024, bias=True)\n",
            "      (proj_drop): Dropout(p=0.0, inplace=False)\n",
            "    )\n",
            "    (drop_path): Identity()\n",
            "    (norm2): LayerNorm((1024,), eps=1e-06, elementwise_affine=True)\n",
            "    (mlp): Mlp(\n",
            "      (fc1): Linear(in_features=1024, out_features=4096, bias=True)\n",
            "      (act): GELU()\n",
            "      (drop1): Dropout(p=0.0, inplace=False)\n",
            "      (fc2): Linear(in_features=4096, out_features=1024, bias=True)\n",
            "      (drop2): Dropout(p=0.0, inplace=False)\n",
            "    )\n",
            "  )\n",
            "  (21): Block(\n",
            "    (norm1): LayerNorm((1024,), eps=1e-06, elementwise_affine=True)\n",
            "    (attn): Attention(\n",
            "      (qkv): Linear(in_features=1024, out_features=3072, bias=True)\n",
            "      (attn_drop): Dropout(p=0.0, inplace=False)\n",
            "      (proj): Linear(in_features=1024, out_features=1024, bias=True)\n",
            "      (proj_drop): Dropout(p=0.0, inplace=False)\n",
            "    )\n",
            "    (drop_path): Identity()\n",
            "    (norm2): LayerNorm((1024,), eps=1e-06, elementwise_affine=True)\n",
            "    (mlp): Mlp(\n",
            "      (fc1): Linear(in_features=1024, out_features=4096, bias=True)\n",
            "      (act): GELU()\n",
            "      (drop1): Dropout(p=0.0, inplace=False)\n",
            "      (fc2): Linear(in_features=4096, out_features=1024, bias=True)\n",
            "      (drop2): Dropout(p=0.0, inplace=False)\n",
            "    )\n",
            "  )\n",
            "  (22): Block(\n",
            "    (norm1): LayerNorm((1024,), eps=1e-06, elementwise_affine=True)\n",
            "    (attn): Attention(\n",
            "      (qkv): Linear(in_features=1024, out_features=3072, bias=True)\n",
            "      (attn_drop): Dropout(p=0.0, inplace=False)\n",
            "      (proj): Linear(in_features=1024, out_features=1024, bias=True)\n",
            "      (proj_drop): Dropout(p=0.0, inplace=False)\n",
            "    )\n",
            "    (drop_path): Identity()\n",
            "    (norm2): LayerNorm((1024,), eps=1e-06, elementwise_affine=True)\n",
            "    (mlp): Mlp(\n",
            "      (fc1): Linear(in_features=1024, out_features=4096, bias=True)\n",
            "      (act): GELU()\n",
            "      (drop1): Dropout(p=0.0, inplace=False)\n",
            "      (fc2): Linear(in_features=4096, out_features=1024, bias=True)\n",
            "      (drop2): Dropout(p=0.0, inplace=False)\n",
            "    )\n",
            "  )\n",
            "  (23): Block(\n",
            "    (norm1): LayerNorm((1024,), eps=1e-06, elementwise_affine=True)\n",
            "    (attn): Attention(\n",
            "      (qkv): Linear(in_features=1024, out_features=3072, bias=True)\n",
            "      (attn_drop): Dropout(p=0.0, inplace=False)\n",
            "      (proj): Linear(in_features=1024, out_features=1024, bias=True)\n",
            "      (proj_drop): Dropout(p=0.0, inplace=False)\n",
            "    )\n",
            "    (drop_path): Identity()\n",
            "    (norm2): LayerNorm((1024,), eps=1e-06, elementwise_affine=True)\n",
            "    (mlp): Mlp(\n",
            "      (fc1): Linear(in_features=1024, out_features=4096, bias=True)\n",
            "      (act): GELU()\n",
            "      (drop1): Dropout(p=0.0, inplace=False)\n",
            "      (fc2): Linear(in_features=4096, out_features=1024, bias=True)\n",
            "      (drop2): Dropout(p=0.0, inplace=False)\n",
            "    )\n",
            "  )\n",
            "))\n",
            "(1, Dropout(p=0.0, inplace=False))\n",
            "(0, PatchEmbed(\n",
            "  (proj): Conv2d(3, 1024, kernel_size=(16, 16), stride=(16, 16))\n",
            "  (norm): Identity()\n",
            "))\n"
          ]
        }
      ],
      "source": [
        "ll = list(enumerate(model.children()))\n",
        "ll = reversed(ll)\n",
        "\n",
        "for i in ll:\n",
        "  print(i)\n",
        "# cut = None\n",
        "# try:\n",
        "#   cut = next(i for i, o in reversed(ll) if has_pool_type(o))\n",
        "# except StopIteration:\n",
        "#   pass\n",
        "# print(cut)"
      ]
    },
    {
      "cell_type": "code",
      "execution_count": null,
      "metadata": {
        "id": "EeObtXpVhYkg"
      },
      "outputs": [],
      "source": [
        "from fastai.vision.learner import _add_norm"
      ]
    },
    {
      "cell_type": "code",
      "execution_count": null,
      "metadata": {
        "id": "y7VksqL_kICB"
      },
      "outputs": [],
      "source": [
        "!pip install timm"
      ]
    },
    {
      "cell_type": "code",
      "execution_count": null,
      "metadata": {
        "id": "deZd-WtehcZ9"
      },
      "outputs": [],
      "source": [
        "from fastai.vision.all import *\n",
        "# Cell\n",
        "from fastai.vision.learner import _update_first_layer"
      ]
    },
    {
      "cell_type": "code",
      "execution_count": null,
      "metadata": {
        "colab": {
          "base_uri": "https://localhost:8080/",
          "height": 311
        },
        "id": "oj2_VftFgLIa",
        "outputId": "d7f11756-c21e-44d1-a6e9-7c01878e33f2"
      },
      "outputs": [
        {
          "ename": "StopIteration",
          "evalue": "ignored",
          "output_type": "error",
          "traceback": [
            "\u001b[0;31m---------------------------------------------------------------------------\u001b[0m",
            "\u001b[0;31mStopIteration\u001b[0m                             Traceback (most recent call last)",
            "\u001b[0;32m<ipython-input-16-94ec71355c2f>\u001b[0m in \u001b[0;36m<module>\u001b[0;34m()\u001b[0m\n\u001b[0;32m----> 1\u001b[0;31m \u001b[0mViT_learner\u001b[0m \u001b[0;34m=\u001b[0m \u001b[0mtimm_learner\u001b[0m\u001b[0;34m(\u001b[0m\u001b[0mdls\u001b[0m\u001b[0;34m,\u001b[0m \u001b[0;34m'vit_large_patch16_224'\u001b[0m\u001b[0;34m,\u001b[0m \u001b[0mn_out\u001b[0m\u001b[0;34m=\u001b[0m\u001b[0;36m10\u001b[0m\u001b[0;34m,\u001b[0m \u001b[0mloss_func\u001b[0m\u001b[0;34m=\u001b[0m\u001b[0mnn\u001b[0m\u001b[0;34m.\u001b[0m\u001b[0mCrossEntropyLoss\u001b[0m\u001b[0;34m(\u001b[0m\u001b[0;34m)\u001b[0m\u001b[0;34m)\u001b[0m\u001b[0;34m\u001b[0m\u001b[0;34m\u001b[0m\u001b[0m\n\u001b[0m",
            "\u001b[0;32m<ipython-input-15-c8ffa4115815>\u001b[0m in \u001b[0;36mtimm_learner\u001b[0;34m(dls, arch, loss_func, pretrained, cut, splitter, y_range, config, n_out, normalize, **kwargs)\u001b[0m\n\u001b[1;32m     31\u001b[0m     \u001b[0;32massert\u001b[0m \u001b[0mn_out\u001b[0m\u001b[0;34m,\u001b[0m \u001b[0;34m\"`n_out` is not defined, and could not be inferred from data, set `dls.c` or pass `n_out`\"\u001b[0m\u001b[0;34m\u001b[0m\u001b[0;34m\u001b[0m\u001b[0m\n\u001b[1;32m     32\u001b[0m     \u001b[0;32mif\u001b[0m \u001b[0my_range\u001b[0m \u001b[0;32mis\u001b[0m \u001b[0;32mNone\u001b[0m \u001b[0;32mand\u001b[0m \u001b[0;34m'y_range'\u001b[0m \u001b[0;32min\u001b[0m \u001b[0mconfig\u001b[0m\u001b[0;34m:\u001b[0m \u001b[0my_range\u001b[0m \u001b[0;34m=\u001b[0m \u001b[0mconfig\u001b[0m\u001b[0;34m.\u001b[0m\u001b[0mpop\u001b[0m\u001b[0;34m(\u001b[0m\u001b[0;34m'y_range'\u001b[0m\u001b[0;34m)\u001b[0m\u001b[0;34m\u001b[0m\u001b[0;34m\u001b[0m\u001b[0m\n\u001b[0;32m---> 33\u001b[0;31m     \u001b[0mmodel\u001b[0m \u001b[0;34m=\u001b[0m \u001b[0mcreate_timm_model\u001b[0m\u001b[0;34m(\u001b[0m\u001b[0march\u001b[0m\u001b[0;34m,\u001b[0m \u001b[0mn_out\u001b[0m\u001b[0;34m,\u001b[0m \u001b[0mdefault_split\u001b[0m\u001b[0;34m,\u001b[0m \u001b[0mpretrained\u001b[0m\u001b[0;34m,\u001b[0m \u001b[0my_range\u001b[0m\u001b[0;34m=\u001b[0m\u001b[0my_range\u001b[0m\u001b[0;34m,\u001b[0m \u001b[0;34m**\u001b[0m\u001b[0mconfig\u001b[0m\u001b[0;34m)\u001b[0m\u001b[0;34m\u001b[0m\u001b[0;34m\u001b[0m\u001b[0m\n\u001b[0m\u001b[1;32m     34\u001b[0m     \u001b[0mlearn\u001b[0m \u001b[0;34m=\u001b[0m \u001b[0mLearner\u001b[0m\u001b[0;34m(\u001b[0m\u001b[0mdls\u001b[0m\u001b[0;34m,\u001b[0m \u001b[0mmodel\u001b[0m\u001b[0;34m,\u001b[0m \u001b[0mloss_func\u001b[0m\u001b[0;34m=\u001b[0m\u001b[0mloss_func\u001b[0m\u001b[0;34m,\u001b[0m \u001b[0msplitter\u001b[0m\u001b[0;34m=\u001b[0m\u001b[0mdefault_split\u001b[0m\u001b[0;34m,\u001b[0m \u001b[0;34m**\u001b[0m\u001b[0mkwargs\u001b[0m\u001b[0;34m)\u001b[0m\u001b[0;34m\u001b[0m\u001b[0;34m\u001b[0m\u001b[0m\n\u001b[1;32m     35\u001b[0m     \u001b[0;32mif\u001b[0m \u001b[0mpretrained\u001b[0m\u001b[0;34m:\u001b[0m \u001b[0mlearn\u001b[0m\u001b[0;34m.\u001b[0m\u001b[0mfreeze\u001b[0m\u001b[0;34m(\u001b[0m\u001b[0;34m)\u001b[0m\u001b[0;34m\u001b[0m\u001b[0;34m\u001b[0m\u001b[0m\n",
            "\u001b[0;32m<ipython-input-15-c8ffa4115815>\u001b[0m in \u001b[0;36mcreate_timm_model\u001b[0;34m(arch, n_out, cut, pretrained, n_in, init, custom_head, concat_pool, **kwargs)\u001b[0m\n\u001b[1;32m     15\u001b[0m                      concat_pool=True, **kwargs):\n\u001b[1;32m     16\u001b[0m     \u001b[0;34m\"Create custom architecture using `arch`, `n_in` and `n_out` from the `timm` library\"\u001b[0m\u001b[0;34m\u001b[0m\u001b[0;34m\u001b[0m\u001b[0m\n\u001b[0;32m---> 17\u001b[0;31m     \u001b[0mbody\u001b[0m \u001b[0;34m=\u001b[0m \u001b[0mcreate_timm_body\u001b[0m\u001b[0;34m(\u001b[0m\u001b[0march\u001b[0m\u001b[0;34m,\u001b[0m \u001b[0mpretrained\u001b[0m\u001b[0;34m,\u001b[0m \u001b[0;32mNone\u001b[0m\u001b[0;34m,\u001b[0m \u001b[0mn_in\u001b[0m\u001b[0;34m)\u001b[0m\u001b[0;34m\u001b[0m\u001b[0;34m\u001b[0m\u001b[0m\n\u001b[0m\u001b[1;32m     18\u001b[0m     \u001b[0;32mif\u001b[0m \u001b[0mcustom_head\u001b[0m \u001b[0;32mis\u001b[0m \u001b[0;32mNone\u001b[0m\u001b[0;34m:\u001b[0m\u001b[0;34m\u001b[0m\u001b[0;34m\u001b[0m\u001b[0m\n\u001b[1;32m     19\u001b[0m         \u001b[0mnf\u001b[0m \u001b[0;34m=\u001b[0m \u001b[0mnum_features_model\u001b[0m\u001b[0;34m(\u001b[0m\u001b[0mnn\u001b[0m\u001b[0;34m.\u001b[0m\u001b[0mSequential\u001b[0m\u001b[0;34m(\u001b[0m\u001b[0;34m*\u001b[0m\u001b[0mbody\u001b[0m\u001b[0;34m.\u001b[0m\u001b[0mchildren\u001b[0m\u001b[0;34m(\u001b[0m\u001b[0;34m)\u001b[0m\u001b[0;34m)\u001b[0m\u001b[0;34m)\u001b[0m\u001b[0;34m\u001b[0m\u001b[0;34m\u001b[0m\u001b[0m\n",
            "\u001b[0;32m<ipython-input-15-c8ffa4115815>\u001b[0m in \u001b[0;36mcreate_timm_body\u001b[0;34m(arch, pretrained, cut, n_in)\u001b[0m\n\u001b[1;32m      7\u001b[0m     \u001b[0;32mif\u001b[0m \u001b[0mcut\u001b[0m \u001b[0;32mis\u001b[0m \u001b[0;32mNone\u001b[0m\u001b[0;34m:\u001b[0m\u001b[0;34m\u001b[0m\u001b[0;34m\u001b[0m\u001b[0m\n\u001b[1;32m      8\u001b[0m         \u001b[0mll\u001b[0m \u001b[0;34m=\u001b[0m \u001b[0mlist\u001b[0m\u001b[0;34m(\u001b[0m\u001b[0menumerate\u001b[0m\u001b[0;34m(\u001b[0m\u001b[0mmodel\u001b[0m\u001b[0;34m.\u001b[0m\u001b[0mchildren\u001b[0m\u001b[0;34m(\u001b[0m\u001b[0;34m)\u001b[0m\u001b[0;34m)\u001b[0m\u001b[0;34m)\u001b[0m\u001b[0;34m\u001b[0m\u001b[0;34m\u001b[0m\u001b[0m\n\u001b[0;32m----> 9\u001b[0;31m         \u001b[0mcut\u001b[0m \u001b[0;34m=\u001b[0m \u001b[0mnext\u001b[0m\u001b[0;34m(\u001b[0m\u001b[0mi\u001b[0m \u001b[0;32mfor\u001b[0m \u001b[0mi\u001b[0m\u001b[0;34m,\u001b[0m\u001b[0mo\u001b[0m \u001b[0;32min\u001b[0m \u001b[0mreversed\u001b[0m\u001b[0;34m(\u001b[0m\u001b[0mll\u001b[0m\u001b[0;34m)\u001b[0m \u001b[0;32mif\u001b[0m \u001b[0mhas_pool_type\u001b[0m\u001b[0;34m(\u001b[0m\u001b[0mo\u001b[0m\u001b[0;34m)\u001b[0m\u001b[0;34m)\u001b[0m\u001b[0;34m\u001b[0m\u001b[0;34m\u001b[0m\u001b[0m\n\u001b[0m\u001b[1;32m     10\u001b[0m     \u001b[0;32mif\u001b[0m \u001b[0misinstance\u001b[0m\u001b[0;34m(\u001b[0m\u001b[0mcut\u001b[0m\u001b[0;34m,\u001b[0m \u001b[0mint\u001b[0m\u001b[0;34m)\u001b[0m\u001b[0;34m:\u001b[0m \u001b[0;32mreturn\u001b[0m \u001b[0mnn\u001b[0m\u001b[0;34m.\u001b[0m\u001b[0mSequential\u001b[0m\u001b[0;34m(\u001b[0m\u001b[0;34m*\u001b[0m\u001b[0mlist\u001b[0m\u001b[0;34m(\u001b[0m\u001b[0mmodel\u001b[0m\u001b[0;34m.\u001b[0m\u001b[0mchildren\u001b[0m\u001b[0;34m(\u001b[0m\u001b[0;34m)\u001b[0m\u001b[0;34m)\u001b[0m\u001b[0;34m[\u001b[0m\u001b[0;34m:\u001b[0m\u001b[0mcut\u001b[0m\u001b[0;34m]\u001b[0m\u001b[0;34m)\u001b[0m\u001b[0;34m\u001b[0m\u001b[0;34m\u001b[0m\u001b[0m\n\u001b[1;32m     11\u001b[0m     \u001b[0;32melif\u001b[0m \u001b[0mcallable\u001b[0m\u001b[0;34m(\u001b[0m\u001b[0mcut\u001b[0m\u001b[0;34m)\u001b[0m\u001b[0;34m:\u001b[0m \u001b[0;32mreturn\u001b[0m \u001b[0mcut\u001b[0m\u001b[0;34m(\u001b[0m\u001b[0mmodel\u001b[0m\u001b[0;34m)\u001b[0m\u001b[0;34m\u001b[0m\u001b[0;34m\u001b[0m\u001b[0m\n",
            "\u001b[0;31mStopIteration\u001b[0m: "
          ]
        }
      ],
      "source": [
        "ViT_learner = timm_learner(dls, 'vit_large_patch16_224', n_out=10, loss_func=nn.CrossEntropyLoss())"
      ]
    },
    {
      "cell_type": "code",
      "execution_count": null,
      "metadata": {
        "id": "3iZMX2xshw52"
      },
      "outputs": [],
      "source": [
        "NN_learner = timm_learner(dls, 'resnet34', n_out=10, loss_func=nn.CrossEntropyLoss())"
      ]
    },
    {
      "cell_type": "code",
      "execution_count": null,
      "metadata": {
        "colab": {
          "base_uri": "https://localhost:8080/",
          "height": 95
        },
        "id": "3vJ7ssAdiH-T",
        "outputId": "469b11d2-0635-4968-bd2d-c0a0d5dba745"
      },
      "outputs": [
        {
          "data": {
            "text/html": [
              "\n",
              "<style>\n",
              "    /* Turns off some styling */\n",
              "    progress {\n",
              "        /* gets rid of default border in Firefox and Opera. */\n",
              "        border: none;\n",
              "        /* Needs to be in here for Safari polyfill so background images work as expected. */\n",
              "        background-size: auto;\n",
              "    }\n",
              "    .progress-bar-interrupted, .progress-bar-interrupted::-webkit-progress-bar {\n",
              "        background: #F44336;\n",
              "    }\n",
              "</style>\n"
            ],
            "text/plain": [
              "<IPython.core.display.HTML object>"
            ]
          },
          "metadata": {},
          "output_type": "display_data"
        },
        {
          "data": {
            "text/html": [
              "\n",
              "    <div>\n",
              "      <progress value='0' class='' max='40' style='width:300px; height:20px; vertical-align: middle;'></progress>\n",
              "      0.00% [0/40 00:00<00:00]\n",
              "    </div>\n",
              "    \n",
              "<table border=\"1\" class=\"dataframe\">\n",
              "  <thead>\n",
              "    <tr style=\"text-align: left;\">\n",
              "      <th>epoch</th>\n",
              "      <th>train_loss</th>\n",
              "      <th>valid_loss</th>\n",
              "      <th>time</th>\n",
              "    </tr>\n",
              "  </thead>\n",
              "  <tbody>\n",
              "  </tbody>\n",
              "</table><p>\n",
              "\n",
              "    <div>\n",
              "      <progress value='0' class='' max='125' style='width:300px; height:20px; vertical-align: middle;'></progress>\n",
              "      0.00% [0/125 00:00<00:00]\n",
              "    </div>\n",
              "    "
            ],
            "text/plain": [
              "<IPython.core.display.HTML object>"
            ]
          },
          "metadata": {},
          "output_type": "display_data"
        }
      ],
      "source": [
        "import time\n",
        "start = time.time()\n",
        "ViT_learner.fit(40, lr=0.0006918309954926372)\n",
        "end = time.time()\n",
        "print(end - start)"
      ]
    },
    {
      "cell_type": "code",
      "execution_count": null,
      "metadata": {
        "id": "pXhfdHcRi0y0"
      },
      "outputs": [],
      "source": [
        "import time\n",
        "start = time.time()\n",
        "NN_learner.fit(40, lr=0.0006918309954926372)\n",
        "end = time.time()\n",
        "print(end - start)"
      ]
    }
  ],
  "metadata": {
    "colab": {
      "collapsed_sections": [
        "WHCfv9MewdDS",
        "BnR4XWMext89"
      ],
      "name": "pretrained_models.ipynb",
      "provenance": [],
      "include_colab_link": true
    },
    "gpuClass": "standard",
    "kernelspec": {
      "display_name": "Python 3",
      "name": "python3"
    },
    "language_info": {
      "name": "python"
    },
    "widgets": {
      "application/vnd.jupyter.widget-state+json": {
        "1f0f4a5343dd4a029822cda8a78ea22d": {
          "model_module": "@jupyter-widgets/controls",
          "model_name": "HBoxModel",
          "model_module_version": "1.5.0",
          "state": {
            "_dom_classes": [],
            "_model_module": "@jupyter-widgets/controls",
            "_model_module_version": "1.5.0",
            "_model_name": "HBoxModel",
            "_view_count": null,
            "_view_module": "@jupyter-widgets/controls",
            "_view_module_version": "1.5.0",
            "_view_name": "HBoxView",
            "box_style": "",
            "children": [
              "IPY_MODEL_c6dbd4476f1546fc97811933c2bddadc",
              "IPY_MODEL_84e5c06d97714602b986ee3c982feb29",
              "IPY_MODEL_1b3668c67f034ca5b6e7830594547b51"
            ],
            "layout": "IPY_MODEL_135f3fb13ecb47c4bbbbcd1146874de2"
          }
        },
        "c6dbd4476f1546fc97811933c2bddadc": {
          "model_module": "@jupyter-widgets/controls",
          "model_name": "HTMLModel",
          "model_module_version": "1.5.0",
          "state": {
            "_dom_classes": [],
            "_model_module": "@jupyter-widgets/controls",
            "_model_module_version": "1.5.0",
            "_model_name": "HTMLModel",
            "_view_count": null,
            "_view_module": "@jupyter-widgets/controls",
            "_view_module_version": "1.5.0",
            "_view_name": "HTMLView",
            "description": "",
            "description_tooltip": null,
            "layout": "IPY_MODEL_fc1b936dba394ce3a773e9158cbc484e",
            "placeholder": "​",
            "style": "IPY_MODEL_5a2142e547d5440a8f58eb4b130ab77c",
            "value": ""
          }
        },
        "84e5c06d97714602b986ee3c982feb29": {
          "model_module": "@jupyter-widgets/controls",
          "model_name": "FloatProgressModel",
          "model_module_version": "1.5.0",
          "state": {
            "_dom_classes": [],
            "_model_module": "@jupyter-widgets/controls",
            "_model_module_version": "1.5.0",
            "_model_name": "FloatProgressModel",
            "_view_count": null,
            "_view_module": "@jupyter-widgets/controls",
            "_view_module_version": "1.5.0",
            "_view_name": "ProgressView",
            "bar_style": "success",
            "description": "",
            "description_tooltip": null,
            "layout": "IPY_MODEL_e270d65b62bd42c2b8e609d20a748705",
            "max": 26421880,
            "min": 0,
            "orientation": "horizontal",
            "style": "IPY_MODEL_a6c9c3a4e8b246a29f1a3085698c926d",
            "value": 26421880
          }
        },
        "1b3668c67f034ca5b6e7830594547b51": {
          "model_module": "@jupyter-widgets/controls",
          "model_name": "HTMLModel",
          "model_module_version": "1.5.0",
          "state": {
            "_dom_classes": [],
            "_model_module": "@jupyter-widgets/controls",
            "_model_module_version": "1.5.0",
            "_model_name": "HTMLModel",
            "_view_count": null,
            "_view_module": "@jupyter-widgets/controls",
            "_view_module_version": "1.5.0",
            "_view_name": "HTMLView",
            "description": "",
            "description_tooltip": null,
            "layout": "IPY_MODEL_c3d746b29fb4438385a880defdbb9b44",
            "placeholder": "​",
            "style": "IPY_MODEL_4a940136f2db44108c98b582f19f5891",
            "value": " 26422272/? [00:03&lt;00:00, 11171715.97it/s]"
          }
        },
        "135f3fb13ecb47c4bbbbcd1146874de2": {
          "model_module": "@jupyter-widgets/base",
          "model_name": "LayoutModel",
          "model_module_version": "1.2.0",
          "state": {
            "_model_module": "@jupyter-widgets/base",
            "_model_module_version": "1.2.0",
            "_model_name": "LayoutModel",
            "_view_count": null,
            "_view_module": "@jupyter-widgets/base",
            "_view_module_version": "1.2.0",
            "_view_name": "LayoutView",
            "align_content": null,
            "align_items": null,
            "align_self": null,
            "border": null,
            "bottom": null,
            "display": null,
            "flex": null,
            "flex_flow": null,
            "grid_area": null,
            "grid_auto_columns": null,
            "grid_auto_flow": null,
            "grid_auto_rows": null,
            "grid_column": null,
            "grid_gap": null,
            "grid_row": null,
            "grid_template_areas": null,
            "grid_template_columns": null,
            "grid_template_rows": null,
            "height": null,
            "justify_content": null,
            "justify_items": null,
            "left": null,
            "margin": null,
            "max_height": null,
            "max_width": null,
            "min_height": null,
            "min_width": null,
            "object_fit": null,
            "object_position": null,
            "order": null,
            "overflow": null,
            "overflow_x": null,
            "overflow_y": null,
            "padding": null,
            "right": null,
            "top": null,
            "visibility": null,
            "width": null
          }
        },
        "fc1b936dba394ce3a773e9158cbc484e": {
          "model_module": "@jupyter-widgets/base",
          "model_name": "LayoutModel",
          "model_module_version": "1.2.0",
          "state": {
            "_model_module": "@jupyter-widgets/base",
            "_model_module_version": "1.2.0",
            "_model_name": "LayoutModel",
            "_view_count": null,
            "_view_module": "@jupyter-widgets/base",
            "_view_module_version": "1.2.0",
            "_view_name": "LayoutView",
            "align_content": null,
            "align_items": null,
            "align_self": null,
            "border": null,
            "bottom": null,
            "display": null,
            "flex": null,
            "flex_flow": null,
            "grid_area": null,
            "grid_auto_columns": null,
            "grid_auto_flow": null,
            "grid_auto_rows": null,
            "grid_column": null,
            "grid_gap": null,
            "grid_row": null,
            "grid_template_areas": null,
            "grid_template_columns": null,
            "grid_template_rows": null,
            "height": null,
            "justify_content": null,
            "justify_items": null,
            "left": null,
            "margin": null,
            "max_height": null,
            "max_width": null,
            "min_height": null,
            "min_width": null,
            "object_fit": null,
            "object_position": null,
            "order": null,
            "overflow": null,
            "overflow_x": null,
            "overflow_y": null,
            "padding": null,
            "right": null,
            "top": null,
            "visibility": null,
            "width": null
          }
        },
        "5a2142e547d5440a8f58eb4b130ab77c": {
          "model_module": "@jupyter-widgets/controls",
          "model_name": "DescriptionStyleModel",
          "model_module_version": "1.5.0",
          "state": {
            "_model_module": "@jupyter-widgets/controls",
            "_model_module_version": "1.5.0",
            "_model_name": "DescriptionStyleModel",
            "_view_count": null,
            "_view_module": "@jupyter-widgets/base",
            "_view_module_version": "1.2.0",
            "_view_name": "StyleView",
            "description_width": ""
          }
        },
        "e270d65b62bd42c2b8e609d20a748705": {
          "model_module": "@jupyter-widgets/base",
          "model_name": "LayoutModel",
          "model_module_version": "1.2.0",
          "state": {
            "_model_module": "@jupyter-widgets/base",
            "_model_module_version": "1.2.0",
            "_model_name": "LayoutModel",
            "_view_count": null,
            "_view_module": "@jupyter-widgets/base",
            "_view_module_version": "1.2.0",
            "_view_name": "LayoutView",
            "align_content": null,
            "align_items": null,
            "align_self": null,
            "border": null,
            "bottom": null,
            "display": null,
            "flex": null,
            "flex_flow": null,
            "grid_area": null,
            "grid_auto_columns": null,
            "grid_auto_flow": null,
            "grid_auto_rows": null,
            "grid_column": null,
            "grid_gap": null,
            "grid_row": null,
            "grid_template_areas": null,
            "grid_template_columns": null,
            "grid_template_rows": null,
            "height": null,
            "justify_content": null,
            "justify_items": null,
            "left": null,
            "margin": null,
            "max_height": null,
            "max_width": null,
            "min_height": null,
            "min_width": null,
            "object_fit": null,
            "object_position": null,
            "order": null,
            "overflow": null,
            "overflow_x": null,
            "overflow_y": null,
            "padding": null,
            "right": null,
            "top": null,
            "visibility": null,
            "width": null
          }
        },
        "a6c9c3a4e8b246a29f1a3085698c926d": {
          "model_module": "@jupyter-widgets/controls",
          "model_name": "ProgressStyleModel",
          "model_module_version": "1.5.0",
          "state": {
            "_model_module": "@jupyter-widgets/controls",
            "_model_module_version": "1.5.0",
            "_model_name": "ProgressStyleModel",
            "_view_count": null,
            "_view_module": "@jupyter-widgets/base",
            "_view_module_version": "1.2.0",
            "_view_name": "StyleView",
            "bar_color": null,
            "description_width": ""
          }
        },
        "c3d746b29fb4438385a880defdbb9b44": {
          "model_module": "@jupyter-widgets/base",
          "model_name": "LayoutModel",
          "model_module_version": "1.2.0",
          "state": {
            "_model_module": "@jupyter-widgets/base",
            "_model_module_version": "1.2.0",
            "_model_name": "LayoutModel",
            "_view_count": null,
            "_view_module": "@jupyter-widgets/base",
            "_view_module_version": "1.2.0",
            "_view_name": "LayoutView",
            "align_content": null,
            "align_items": null,
            "align_self": null,
            "border": null,
            "bottom": null,
            "display": null,
            "flex": null,
            "flex_flow": null,
            "grid_area": null,
            "grid_auto_columns": null,
            "grid_auto_flow": null,
            "grid_auto_rows": null,
            "grid_column": null,
            "grid_gap": null,
            "grid_row": null,
            "grid_template_areas": null,
            "grid_template_columns": null,
            "grid_template_rows": null,
            "height": null,
            "justify_content": null,
            "justify_items": null,
            "left": null,
            "margin": null,
            "max_height": null,
            "max_width": null,
            "min_height": null,
            "min_width": null,
            "object_fit": null,
            "object_position": null,
            "order": null,
            "overflow": null,
            "overflow_x": null,
            "overflow_y": null,
            "padding": null,
            "right": null,
            "top": null,
            "visibility": null,
            "width": null
          }
        },
        "4a940136f2db44108c98b582f19f5891": {
          "model_module": "@jupyter-widgets/controls",
          "model_name": "DescriptionStyleModel",
          "model_module_version": "1.5.0",
          "state": {
            "_model_module": "@jupyter-widgets/controls",
            "_model_module_version": "1.5.0",
            "_model_name": "DescriptionStyleModel",
            "_view_count": null,
            "_view_module": "@jupyter-widgets/base",
            "_view_module_version": "1.2.0",
            "_view_name": "StyleView",
            "description_width": ""
          }
        },
        "9a9eca63c4ca4bee8607496456c2f9b5": {
          "model_module": "@jupyter-widgets/controls",
          "model_name": "HBoxModel",
          "model_module_version": "1.5.0",
          "state": {
            "_dom_classes": [],
            "_model_module": "@jupyter-widgets/controls",
            "_model_module_version": "1.5.0",
            "_model_name": "HBoxModel",
            "_view_count": null,
            "_view_module": "@jupyter-widgets/controls",
            "_view_module_version": "1.5.0",
            "_view_name": "HBoxView",
            "box_style": "",
            "children": [
              "IPY_MODEL_ec56c7af7c124cd88ebee2dfb2fddbbd",
              "IPY_MODEL_4c6db16107344ca2b254513cbc354912",
              "IPY_MODEL_6c51dc976a3a4f93b07ff8cd90cd9d28"
            ],
            "layout": "IPY_MODEL_5dca897c29384d29b456c40e401b001f"
          }
        },
        "ec56c7af7c124cd88ebee2dfb2fddbbd": {
          "model_module": "@jupyter-widgets/controls",
          "model_name": "HTMLModel",
          "model_module_version": "1.5.0",
          "state": {
            "_dom_classes": [],
            "_model_module": "@jupyter-widgets/controls",
            "_model_module_version": "1.5.0",
            "_model_name": "HTMLModel",
            "_view_count": null,
            "_view_module": "@jupyter-widgets/controls",
            "_view_module_version": "1.5.0",
            "_view_name": "HTMLView",
            "description": "",
            "description_tooltip": null,
            "layout": "IPY_MODEL_44bb90ca45064c33bfbfc12d0003443f",
            "placeholder": "​",
            "style": "IPY_MODEL_e45166e08b7149e197040b16016812ee",
            "value": ""
          }
        },
        "4c6db16107344ca2b254513cbc354912": {
          "model_module": "@jupyter-widgets/controls",
          "model_name": "FloatProgressModel",
          "model_module_version": "1.5.0",
          "state": {
            "_dom_classes": [],
            "_model_module": "@jupyter-widgets/controls",
            "_model_module_version": "1.5.0",
            "_model_name": "FloatProgressModel",
            "_view_count": null,
            "_view_module": "@jupyter-widgets/controls",
            "_view_module_version": "1.5.0",
            "_view_name": "ProgressView",
            "bar_style": "success",
            "description": "",
            "description_tooltip": null,
            "layout": "IPY_MODEL_d0dc3b1257464f0c8f1774837dda6f75",
            "max": 29515,
            "min": 0,
            "orientation": "horizontal",
            "style": "IPY_MODEL_bbfd55917abb4afdbfd5c2fc51f72f06",
            "value": 29515
          }
        },
        "6c51dc976a3a4f93b07ff8cd90cd9d28": {
          "model_module": "@jupyter-widgets/controls",
          "model_name": "HTMLModel",
          "model_module_version": "1.5.0",
          "state": {
            "_dom_classes": [],
            "_model_module": "@jupyter-widgets/controls",
            "_model_module_version": "1.5.0",
            "_model_name": "HTMLModel",
            "_view_count": null,
            "_view_module": "@jupyter-widgets/controls",
            "_view_module_version": "1.5.0",
            "_view_name": "HTMLView",
            "description": "",
            "description_tooltip": null,
            "layout": "IPY_MODEL_33f333ea9cfd40ca9dfd5dbe30e8a5e8",
            "placeholder": "​",
            "style": "IPY_MODEL_2ec31c2e8f6a4f09a48b437c2034c033",
            "value": " 29696/? [00:00&lt;00:00, 60340.02it/s]"
          }
        },
        "5dca897c29384d29b456c40e401b001f": {
          "model_module": "@jupyter-widgets/base",
          "model_name": "LayoutModel",
          "model_module_version": "1.2.0",
          "state": {
            "_model_module": "@jupyter-widgets/base",
            "_model_module_version": "1.2.0",
            "_model_name": "LayoutModel",
            "_view_count": null,
            "_view_module": "@jupyter-widgets/base",
            "_view_module_version": "1.2.0",
            "_view_name": "LayoutView",
            "align_content": null,
            "align_items": null,
            "align_self": null,
            "border": null,
            "bottom": null,
            "display": null,
            "flex": null,
            "flex_flow": null,
            "grid_area": null,
            "grid_auto_columns": null,
            "grid_auto_flow": null,
            "grid_auto_rows": null,
            "grid_column": null,
            "grid_gap": null,
            "grid_row": null,
            "grid_template_areas": null,
            "grid_template_columns": null,
            "grid_template_rows": null,
            "height": null,
            "justify_content": null,
            "justify_items": null,
            "left": null,
            "margin": null,
            "max_height": null,
            "max_width": null,
            "min_height": null,
            "min_width": null,
            "object_fit": null,
            "object_position": null,
            "order": null,
            "overflow": null,
            "overflow_x": null,
            "overflow_y": null,
            "padding": null,
            "right": null,
            "top": null,
            "visibility": null,
            "width": null
          }
        },
        "44bb90ca45064c33bfbfc12d0003443f": {
          "model_module": "@jupyter-widgets/base",
          "model_name": "LayoutModel",
          "model_module_version": "1.2.0",
          "state": {
            "_model_module": "@jupyter-widgets/base",
            "_model_module_version": "1.2.0",
            "_model_name": "LayoutModel",
            "_view_count": null,
            "_view_module": "@jupyter-widgets/base",
            "_view_module_version": "1.2.0",
            "_view_name": "LayoutView",
            "align_content": null,
            "align_items": null,
            "align_self": null,
            "border": null,
            "bottom": null,
            "display": null,
            "flex": null,
            "flex_flow": null,
            "grid_area": null,
            "grid_auto_columns": null,
            "grid_auto_flow": null,
            "grid_auto_rows": null,
            "grid_column": null,
            "grid_gap": null,
            "grid_row": null,
            "grid_template_areas": null,
            "grid_template_columns": null,
            "grid_template_rows": null,
            "height": null,
            "justify_content": null,
            "justify_items": null,
            "left": null,
            "margin": null,
            "max_height": null,
            "max_width": null,
            "min_height": null,
            "min_width": null,
            "object_fit": null,
            "object_position": null,
            "order": null,
            "overflow": null,
            "overflow_x": null,
            "overflow_y": null,
            "padding": null,
            "right": null,
            "top": null,
            "visibility": null,
            "width": null
          }
        },
        "e45166e08b7149e197040b16016812ee": {
          "model_module": "@jupyter-widgets/controls",
          "model_name": "DescriptionStyleModel",
          "model_module_version": "1.5.0",
          "state": {
            "_model_module": "@jupyter-widgets/controls",
            "_model_module_version": "1.5.0",
            "_model_name": "DescriptionStyleModel",
            "_view_count": null,
            "_view_module": "@jupyter-widgets/base",
            "_view_module_version": "1.2.0",
            "_view_name": "StyleView",
            "description_width": ""
          }
        },
        "d0dc3b1257464f0c8f1774837dda6f75": {
          "model_module": "@jupyter-widgets/base",
          "model_name": "LayoutModel",
          "model_module_version": "1.2.0",
          "state": {
            "_model_module": "@jupyter-widgets/base",
            "_model_module_version": "1.2.0",
            "_model_name": "LayoutModel",
            "_view_count": null,
            "_view_module": "@jupyter-widgets/base",
            "_view_module_version": "1.2.0",
            "_view_name": "LayoutView",
            "align_content": null,
            "align_items": null,
            "align_self": null,
            "border": null,
            "bottom": null,
            "display": null,
            "flex": null,
            "flex_flow": null,
            "grid_area": null,
            "grid_auto_columns": null,
            "grid_auto_flow": null,
            "grid_auto_rows": null,
            "grid_column": null,
            "grid_gap": null,
            "grid_row": null,
            "grid_template_areas": null,
            "grid_template_columns": null,
            "grid_template_rows": null,
            "height": null,
            "justify_content": null,
            "justify_items": null,
            "left": null,
            "margin": null,
            "max_height": null,
            "max_width": null,
            "min_height": null,
            "min_width": null,
            "object_fit": null,
            "object_position": null,
            "order": null,
            "overflow": null,
            "overflow_x": null,
            "overflow_y": null,
            "padding": null,
            "right": null,
            "top": null,
            "visibility": null,
            "width": null
          }
        },
        "bbfd55917abb4afdbfd5c2fc51f72f06": {
          "model_module": "@jupyter-widgets/controls",
          "model_name": "ProgressStyleModel",
          "model_module_version": "1.5.0",
          "state": {
            "_model_module": "@jupyter-widgets/controls",
            "_model_module_version": "1.5.0",
            "_model_name": "ProgressStyleModel",
            "_view_count": null,
            "_view_module": "@jupyter-widgets/base",
            "_view_module_version": "1.2.0",
            "_view_name": "StyleView",
            "bar_color": null,
            "description_width": ""
          }
        },
        "33f333ea9cfd40ca9dfd5dbe30e8a5e8": {
          "model_module": "@jupyter-widgets/base",
          "model_name": "LayoutModel",
          "model_module_version": "1.2.0",
          "state": {
            "_model_module": "@jupyter-widgets/base",
            "_model_module_version": "1.2.0",
            "_model_name": "LayoutModel",
            "_view_count": null,
            "_view_module": "@jupyter-widgets/base",
            "_view_module_version": "1.2.0",
            "_view_name": "LayoutView",
            "align_content": null,
            "align_items": null,
            "align_self": null,
            "border": null,
            "bottom": null,
            "display": null,
            "flex": null,
            "flex_flow": null,
            "grid_area": null,
            "grid_auto_columns": null,
            "grid_auto_flow": null,
            "grid_auto_rows": null,
            "grid_column": null,
            "grid_gap": null,
            "grid_row": null,
            "grid_template_areas": null,
            "grid_template_columns": null,
            "grid_template_rows": null,
            "height": null,
            "justify_content": null,
            "justify_items": null,
            "left": null,
            "margin": null,
            "max_height": null,
            "max_width": null,
            "min_height": null,
            "min_width": null,
            "object_fit": null,
            "object_position": null,
            "order": null,
            "overflow": null,
            "overflow_x": null,
            "overflow_y": null,
            "padding": null,
            "right": null,
            "top": null,
            "visibility": null,
            "width": null
          }
        },
        "2ec31c2e8f6a4f09a48b437c2034c033": {
          "model_module": "@jupyter-widgets/controls",
          "model_name": "DescriptionStyleModel",
          "model_module_version": "1.5.0",
          "state": {
            "_model_module": "@jupyter-widgets/controls",
            "_model_module_version": "1.5.0",
            "_model_name": "DescriptionStyleModel",
            "_view_count": null,
            "_view_module": "@jupyter-widgets/base",
            "_view_module_version": "1.2.0",
            "_view_name": "StyleView",
            "description_width": ""
          }
        },
        "4c6e77abb713453d96154b04f1655ae8": {
          "model_module": "@jupyter-widgets/controls",
          "model_name": "HBoxModel",
          "model_module_version": "1.5.0",
          "state": {
            "_dom_classes": [],
            "_model_module": "@jupyter-widgets/controls",
            "_model_module_version": "1.5.0",
            "_model_name": "HBoxModel",
            "_view_count": null,
            "_view_module": "@jupyter-widgets/controls",
            "_view_module_version": "1.5.0",
            "_view_name": "HBoxView",
            "box_style": "",
            "children": [
              "IPY_MODEL_3999e686c30d4fca8f3d2e527b9a2c46",
              "IPY_MODEL_f17ceaea178e44c89701492ee778b30d",
              "IPY_MODEL_f029f20275df4fef9640a9e77136b739"
            ],
            "layout": "IPY_MODEL_ef0d66f9acba45b4b0731d649bf78767"
          }
        },
        "3999e686c30d4fca8f3d2e527b9a2c46": {
          "model_module": "@jupyter-widgets/controls",
          "model_name": "HTMLModel",
          "model_module_version": "1.5.0",
          "state": {
            "_dom_classes": [],
            "_model_module": "@jupyter-widgets/controls",
            "_model_module_version": "1.5.0",
            "_model_name": "HTMLModel",
            "_view_count": null,
            "_view_module": "@jupyter-widgets/controls",
            "_view_module_version": "1.5.0",
            "_view_name": "HTMLView",
            "description": "",
            "description_tooltip": null,
            "layout": "IPY_MODEL_e6d38b06d589422f9d492a3167537178",
            "placeholder": "​",
            "style": "IPY_MODEL_59fa93e7dd304cba9f589ca07c0255fe",
            "value": ""
          }
        },
        "f17ceaea178e44c89701492ee778b30d": {
          "model_module": "@jupyter-widgets/controls",
          "model_name": "FloatProgressModel",
          "model_module_version": "1.5.0",
          "state": {
            "_dom_classes": [],
            "_model_module": "@jupyter-widgets/controls",
            "_model_module_version": "1.5.0",
            "_model_name": "FloatProgressModel",
            "_view_count": null,
            "_view_module": "@jupyter-widgets/controls",
            "_view_module_version": "1.5.0",
            "_view_name": "ProgressView",
            "bar_style": "success",
            "description": "",
            "description_tooltip": null,
            "layout": "IPY_MODEL_196700d1abd34dbfa2d77305da9a7a36",
            "max": 4422102,
            "min": 0,
            "orientation": "horizontal",
            "style": "IPY_MODEL_b966a33bc16f4076affb51b30613bd56",
            "value": 4422102
          }
        },
        "f029f20275df4fef9640a9e77136b739": {
          "model_module": "@jupyter-widgets/controls",
          "model_name": "HTMLModel",
          "model_module_version": "1.5.0",
          "state": {
            "_dom_classes": [],
            "_model_module": "@jupyter-widgets/controls",
            "_model_module_version": "1.5.0",
            "_model_name": "HTMLModel",
            "_view_count": null,
            "_view_module": "@jupyter-widgets/controls",
            "_view_module_version": "1.5.0",
            "_view_name": "HTMLView",
            "description": "",
            "description_tooltip": null,
            "layout": "IPY_MODEL_12460439814b4f95b2f179780decf357",
            "placeholder": "​",
            "style": "IPY_MODEL_88d42cb80b65450383f3b8218279eb44",
            "value": " 4422656/? [00:01&lt;00:00, 4645661.54it/s]"
          }
        },
        "ef0d66f9acba45b4b0731d649bf78767": {
          "model_module": "@jupyter-widgets/base",
          "model_name": "LayoutModel",
          "model_module_version": "1.2.0",
          "state": {
            "_model_module": "@jupyter-widgets/base",
            "_model_module_version": "1.2.0",
            "_model_name": "LayoutModel",
            "_view_count": null,
            "_view_module": "@jupyter-widgets/base",
            "_view_module_version": "1.2.0",
            "_view_name": "LayoutView",
            "align_content": null,
            "align_items": null,
            "align_self": null,
            "border": null,
            "bottom": null,
            "display": null,
            "flex": null,
            "flex_flow": null,
            "grid_area": null,
            "grid_auto_columns": null,
            "grid_auto_flow": null,
            "grid_auto_rows": null,
            "grid_column": null,
            "grid_gap": null,
            "grid_row": null,
            "grid_template_areas": null,
            "grid_template_columns": null,
            "grid_template_rows": null,
            "height": null,
            "justify_content": null,
            "justify_items": null,
            "left": null,
            "margin": null,
            "max_height": null,
            "max_width": null,
            "min_height": null,
            "min_width": null,
            "object_fit": null,
            "object_position": null,
            "order": null,
            "overflow": null,
            "overflow_x": null,
            "overflow_y": null,
            "padding": null,
            "right": null,
            "top": null,
            "visibility": null,
            "width": null
          }
        },
        "e6d38b06d589422f9d492a3167537178": {
          "model_module": "@jupyter-widgets/base",
          "model_name": "LayoutModel",
          "model_module_version": "1.2.0",
          "state": {
            "_model_module": "@jupyter-widgets/base",
            "_model_module_version": "1.2.0",
            "_model_name": "LayoutModel",
            "_view_count": null,
            "_view_module": "@jupyter-widgets/base",
            "_view_module_version": "1.2.0",
            "_view_name": "LayoutView",
            "align_content": null,
            "align_items": null,
            "align_self": null,
            "border": null,
            "bottom": null,
            "display": null,
            "flex": null,
            "flex_flow": null,
            "grid_area": null,
            "grid_auto_columns": null,
            "grid_auto_flow": null,
            "grid_auto_rows": null,
            "grid_column": null,
            "grid_gap": null,
            "grid_row": null,
            "grid_template_areas": null,
            "grid_template_columns": null,
            "grid_template_rows": null,
            "height": null,
            "justify_content": null,
            "justify_items": null,
            "left": null,
            "margin": null,
            "max_height": null,
            "max_width": null,
            "min_height": null,
            "min_width": null,
            "object_fit": null,
            "object_position": null,
            "order": null,
            "overflow": null,
            "overflow_x": null,
            "overflow_y": null,
            "padding": null,
            "right": null,
            "top": null,
            "visibility": null,
            "width": null
          }
        },
        "59fa93e7dd304cba9f589ca07c0255fe": {
          "model_module": "@jupyter-widgets/controls",
          "model_name": "DescriptionStyleModel",
          "model_module_version": "1.5.0",
          "state": {
            "_model_module": "@jupyter-widgets/controls",
            "_model_module_version": "1.5.0",
            "_model_name": "DescriptionStyleModel",
            "_view_count": null,
            "_view_module": "@jupyter-widgets/base",
            "_view_module_version": "1.2.0",
            "_view_name": "StyleView",
            "description_width": ""
          }
        },
        "196700d1abd34dbfa2d77305da9a7a36": {
          "model_module": "@jupyter-widgets/base",
          "model_name": "LayoutModel",
          "model_module_version": "1.2.0",
          "state": {
            "_model_module": "@jupyter-widgets/base",
            "_model_module_version": "1.2.0",
            "_model_name": "LayoutModel",
            "_view_count": null,
            "_view_module": "@jupyter-widgets/base",
            "_view_module_version": "1.2.0",
            "_view_name": "LayoutView",
            "align_content": null,
            "align_items": null,
            "align_self": null,
            "border": null,
            "bottom": null,
            "display": null,
            "flex": null,
            "flex_flow": null,
            "grid_area": null,
            "grid_auto_columns": null,
            "grid_auto_flow": null,
            "grid_auto_rows": null,
            "grid_column": null,
            "grid_gap": null,
            "grid_row": null,
            "grid_template_areas": null,
            "grid_template_columns": null,
            "grid_template_rows": null,
            "height": null,
            "justify_content": null,
            "justify_items": null,
            "left": null,
            "margin": null,
            "max_height": null,
            "max_width": null,
            "min_height": null,
            "min_width": null,
            "object_fit": null,
            "object_position": null,
            "order": null,
            "overflow": null,
            "overflow_x": null,
            "overflow_y": null,
            "padding": null,
            "right": null,
            "top": null,
            "visibility": null,
            "width": null
          }
        },
        "b966a33bc16f4076affb51b30613bd56": {
          "model_module": "@jupyter-widgets/controls",
          "model_name": "ProgressStyleModel",
          "model_module_version": "1.5.0",
          "state": {
            "_model_module": "@jupyter-widgets/controls",
            "_model_module_version": "1.5.0",
            "_model_name": "ProgressStyleModel",
            "_view_count": null,
            "_view_module": "@jupyter-widgets/base",
            "_view_module_version": "1.2.0",
            "_view_name": "StyleView",
            "bar_color": null,
            "description_width": ""
          }
        },
        "12460439814b4f95b2f179780decf357": {
          "model_module": "@jupyter-widgets/base",
          "model_name": "LayoutModel",
          "model_module_version": "1.2.0",
          "state": {
            "_model_module": "@jupyter-widgets/base",
            "_model_module_version": "1.2.0",
            "_model_name": "LayoutModel",
            "_view_count": null,
            "_view_module": "@jupyter-widgets/base",
            "_view_module_version": "1.2.0",
            "_view_name": "LayoutView",
            "align_content": null,
            "align_items": null,
            "align_self": null,
            "border": null,
            "bottom": null,
            "display": null,
            "flex": null,
            "flex_flow": null,
            "grid_area": null,
            "grid_auto_columns": null,
            "grid_auto_flow": null,
            "grid_auto_rows": null,
            "grid_column": null,
            "grid_gap": null,
            "grid_row": null,
            "grid_template_areas": null,
            "grid_template_columns": null,
            "grid_template_rows": null,
            "height": null,
            "justify_content": null,
            "justify_items": null,
            "left": null,
            "margin": null,
            "max_height": null,
            "max_width": null,
            "min_height": null,
            "min_width": null,
            "object_fit": null,
            "object_position": null,
            "order": null,
            "overflow": null,
            "overflow_x": null,
            "overflow_y": null,
            "padding": null,
            "right": null,
            "top": null,
            "visibility": null,
            "width": null
          }
        },
        "88d42cb80b65450383f3b8218279eb44": {
          "model_module": "@jupyter-widgets/controls",
          "model_name": "DescriptionStyleModel",
          "model_module_version": "1.5.0",
          "state": {
            "_model_module": "@jupyter-widgets/controls",
            "_model_module_version": "1.5.0",
            "_model_name": "DescriptionStyleModel",
            "_view_count": null,
            "_view_module": "@jupyter-widgets/base",
            "_view_module_version": "1.2.0",
            "_view_name": "StyleView",
            "description_width": ""
          }
        },
        "e20627529d8e4043b32e29552954772e": {
          "model_module": "@jupyter-widgets/controls",
          "model_name": "HBoxModel",
          "model_module_version": "1.5.0",
          "state": {
            "_dom_classes": [],
            "_model_module": "@jupyter-widgets/controls",
            "_model_module_version": "1.5.0",
            "_model_name": "HBoxModel",
            "_view_count": null,
            "_view_module": "@jupyter-widgets/controls",
            "_view_module_version": "1.5.0",
            "_view_name": "HBoxView",
            "box_style": "",
            "children": [
              "IPY_MODEL_91673453b919400383e8e487d3c7eb15",
              "IPY_MODEL_b43745a627ba49cf9d5a43c6f5a34bf9",
              "IPY_MODEL_ef1ec0aacf314b9b9cef1acc2c8ec350"
            ],
            "layout": "IPY_MODEL_c41a951514e043d7aebc5dc71a82e75a"
          }
        },
        "91673453b919400383e8e487d3c7eb15": {
          "model_module": "@jupyter-widgets/controls",
          "model_name": "HTMLModel",
          "model_module_version": "1.5.0",
          "state": {
            "_dom_classes": [],
            "_model_module": "@jupyter-widgets/controls",
            "_model_module_version": "1.5.0",
            "_model_name": "HTMLModel",
            "_view_count": null,
            "_view_module": "@jupyter-widgets/controls",
            "_view_module_version": "1.5.0",
            "_view_name": "HTMLView",
            "description": "",
            "description_tooltip": null,
            "layout": "IPY_MODEL_1c9c2441f02c422d8e49153100f164f8",
            "placeholder": "​",
            "style": "IPY_MODEL_0b4ceb1562ad46a5b084c8d01b6a3d31",
            "value": ""
          }
        },
        "b43745a627ba49cf9d5a43c6f5a34bf9": {
          "model_module": "@jupyter-widgets/controls",
          "model_name": "FloatProgressModel",
          "model_module_version": "1.5.0",
          "state": {
            "_dom_classes": [],
            "_model_module": "@jupyter-widgets/controls",
            "_model_module_version": "1.5.0",
            "_model_name": "FloatProgressModel",
            "_view_count": null,
            "_view_module": "@jupyter-widgets/controls",
            "_view_module_version": "1.5.0",
            "_view_name": "ProgressView",
            "bar_style": "success",
            "description": "",
            "description_tooltip": null,
            "layout": "IPY_MODEL_d7b04a730b27435a82810c727653b24a",
            "max": 5148,
            "min": 0,
            "orientation": "horizontal",
            "style": "IPY_MODEL_8106772291d44e8285bd6144858ff350",
            "value": 5148
          }
        },
        "ef1ec0aacf314b9b9cef1acc2c8ec350": {
          "model_module": "@jupyter-widgets/controls",
          "model_name": "HTMLModel",
          "model_module_version": "1.5.0",
          "state": {
            "_dom_classes": [],
            "_model_module": "@jupyter-widgets/controls",
            "_model_module_version": "1.5.0",
            "_model_name": "HTMLModel",
            "_view_count": null,
            "_view_module": "@jupyter-widgets/controls",
            "_view_module_version": "1.5.0",
            "_view_name": "HTMLView",
            "description": "",
            "description_tooltip": null,
            "layout": "IPY_MODEL_8e3f971f5cd34c8687cb1f498dac591f",
            "placeholder": "​",
            "style": "IPY_MODEL_c05ac8e0ea0348f0b3758123bee15c25",
            "value": " 6144/? [00:00&lt;00:00, 198296.38it/s]"
          }
        },
        "c41a951514e043d7aebc5dc71a82e75a": {
          "model_module": "@jupyter-widgets/base",
          "model_name": "LayoutModel",
          "model_module_version": "1.2.0",
          "state": {
            "_model_module": "@jupyter-widgets/base",
            "_model_module_version": "1.2.0",
            "_model_name": "LayoutModel",
            "_view_count": null,
            "_view_module": "@jupyter-widgets/base",
            "_view_module_version": "1.2.0",
            "_view_name": "LayoutView",
            "align_content": null,
            "align_items": null,
            "align_self": null,
            "border": null,
            "bottom": null,
            "display": null,
            "flex": null,
            "flex_flow": null,
            "grid_area": null,
            "grid_auto_columns": null,
            "grid_auto_flow": null,
            "grid_auto_rows": null,
            "grid_column": null,
            "grid_gap": null,
            "grid_row": null,
            "grid_template_areas": null,
            "grid_template_columns": null,
            "grid_template_rows": null,
            "height": null,
            "justify_content": null,
            "justify_items": null,
            "left": null,
            "margin": null,
            "max_height": null,
            "max_width": null,
            "min_height": null,
            "min_width": null,
            "object_fit": null,
            "object_position": null,
            "order": null,
            "overflow": null,
            "overflow_x": null,
            "overflow_y": null,
            "padding": null,
            "right": null,
            "top": null,
            "visibility": null,
            "width": null
          }
        },
        "1c9c2441f02c422d8e49153100f164f8": {
          "model_module": "@jupyter-widgets/base",
          "model_name": "LayoutModel",
          "model_module_version": "1.2.0",
          "state": {
            "_model_module": "@jupyter-widgets/base",
            "_model_module_version": "1.2.0",
            "_model_name": "LayoutModel",
            "_view_count": null,
            "_view_module": "@jupyter-widgets/base",
            "_view_module_version": "1.2.0",
            "_view_name": "LayoutView",
            "align_content": null,
            "align_items": null,
            "align_self": null,
            "border": null,
            "bottom": null,
            "display": null,
            "flex": null,
            "flex_flow": null,
            "grid_area": null,
            "grid_auto_columns": null,
            "grid_auto_flow": null,
            "grid_auto_rows": null,
            "grid_column": null,
            "grid_gap": null,
            "grid_row": null,
            "grid_template_areas": null,
            "grid_template_columns": null,
            "grid_template_rows": null,
            "height": null,
            "justify_content": null,
            "justify_items": null,
            "left": null,
            "margin": null,
            "max_height": null,
            "max_width": null,
            "min_height": null,
            "min_width": null,
            "object_fit": null,
            "object_position": null,
            "order": null,
            "overflow": null,
            "overflow_x": null,
            "overflow_y": null,
            "padding": null,
            "right": null,
            "top": null,
            "visibility": null,
            "width": null
          }
        },
        "0b4ceb1562ad46a5b084c8d01b6a3d31": {
          "model_module": "@jupyter-widgets/controls",
          "model_name": "DescriptionStyleModel",
          "model_module_version": "1.5.0",
          "state": {
            "_model_module": "@jupyter-widgets/controls",
            "_model_module_version": "1.5.0",
            "_model_name": "DescriptionStyleModel",
            "_view_count": null,
            "_view_module": "@jupyter-widgets/base",
            "_view_module_version": "1.2.0",
            "_view_name": "StyleView",
            "description_width": ""
          }
        },
        "d7b04a730b27435a82810c727653b24a": {
          "model_module": "@jupyter-widgets/base",
          "model_name": "LayoutModel",
          "model_module_version": "1.2.0",
          "state": {
            "_model_module": "@jupyter-widgets/base",
            "_model_module_version": "1.2.0",
            "_model_name": "LayoutModel",
            "_view_count": null,
            "_view_module": "@jupyter-widgets/base",
            "_view_module_version": "1.2.0",
            "_view_name": "LayoutView",
            "align_content": null,
            "align_items": null,
            "align_self": null,
            "border": null,
            "bottom": null,
            "display": null,
            "flex": null,
            "flex_flow": null,
            "grid_area": null,
            "grid_auto_columns": null,
            "grid_auto_flow": null,
            "grid_auto_rows": null,
            "grid_column": null,
            "grid_gap": null,
            "grid_row": null,
            "grid_template_areas": null,
            "grid_template_columns": null,
            "grid_template_rows": null,
            "height": null,
            "justify_content": null,
            "justify_items": null,
            "left": null,
            "margin": null,
            "max_height": null,
            "max_width": null,
            "min_height": null,
            "min_width": null,
            "object_fit": null,
            "object_position": null,
            "order": null,
            "overflow": null,
            "overflow_x": null,
            "overflow_y": null,
            "padding": null,
            "right": null,
            "top": null,
            "visibility": null,
            "width": null
          }
        },
        "8106772291d44e8285bd6144858ff350": {
          "model_module": "@jupyter-widgets/controls",
          "model_name": "ProgressStyleModel",
          "model_module_version": "1.5.0",
          "state": {
            "_model_module": "@jupyter-widgets/controls",
            "_model_module_version": "1.5.0",
            "_model_name": "ProgressStyleModel",
            "_view_count": null,
            "_view_module": "@jupyter-widgets/base",
            "_view_module_version": "1.2.0",
            "_view_name": "StyleView",
            "bar_color": null,
            "description_width": ""
          }
        },
        "8e3f971f5cd34c8687cb1f498dac591f": {
          "model_module": "@jupyter-widgets/base",
          "model_name": "LayoutModel",
          "model_module_version": "1.2.0",
          "state": {
            "_model_module": "@jupyter-widgets/base",
            "_model_module_version": "1.2.0",
            "_model_name": "LayoutModel",
            "_view_count": null,
            "_view_module": "@jupyter-widgets/base",
            "_view_module_version": "1.2.0",
            "_view_name": "LayoutView",
            "align_content": null,
            "align_items": null,
            "align_self": null,
            "border": null,
            "bottom": null,
            "display": null,
            "flex": null,
            "flex_flow": null,
            "grid_area": null,
            "grid_auto_columns": null,
            "grid_auto_flow": null,
            "grid_auto_rows": null,
            "grid_column": null,
            "grid_gap": null,
            "grid_row": null,
            "grid_template_areas": null,
            "grid_template_columns": null,
            "grid_template_rows": null,
            "height": null,
            "justify_content": null,
            "justify_items": null,
            "left": null,
            "margin": null,
            "max_height": null,
            "max_width": null,
            "min_height": null,
            "min_width": null,
            "object_fit": null,
            "object_position": null,
            "order": null,
            "overflow": null,
            "overflow_x": null,
            "overflow_y": null,
            "padding": null,
            "right": null,
            "top": null,
            "visibility": null,
            "width": null
          }
        },
        "c05ac8e0ea0348f0b3758123bee15c25": {
          "model_module": "@jupyter-widgets/controls",
          "model_name": "DescriptionStyleModel",
          "model_module_version": "1.5.0",
          "state": {
            "_model_module": "@jupyter-widgets/controls",
            "_model_module_version": "1.5.0",
            "_model_name": "DescriptionStyleModel",
            "_view_count": null,
            "_view_module": "@jupyter-widgets/base",
            "_view_module_version": "1.2.0",
            "_view_name": "StyleView",
            "description_width": ""
          }
        }
      }
    },
    "accelerator": "GPU"
  },
  "nbformat": 4,
  "nbformat_minor": 0
}