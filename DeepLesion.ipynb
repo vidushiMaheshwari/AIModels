{
  "nbformat": 4,
  "nbformat_minor": 0,
  "metadata": {
    "colab": {
      "name": "DeepLesion.ipynb",
      "provenance": [],
      "authorship_tag": "ABX9TyOUmZMxggko78nmqtrcVv8S",
      "include_colab_link": true
    },
    "kernelspec": {
      "name": "python3",
      "display_name": "Python 3"
    },
    "language_info": {
      "name": "python"
    }
  },
  "cells": [
    {
      "cell_type": "markdown",
      "metadata": {
        "id": "view-in-github",
        "colab_type": "text"
      },
      "source": [
        "<a href=\"https://colab.research.google.com/github/vidushiMaheshwari/AIModels/blob/main/DeepLesion.ipynb\" target=\"_parent\"><img src=\"https://colab.research.google.com/assets/colab-badge.svg\" alt=\"Open In Colab\"/></a>"
      ]
    },
    {
      "cell_type": "code",
      "source": [
        "!wget 'https://nihcc.box.com/shared/static/sp5y2k799v4x1x77f7w1aqp26uyfq7qz.zip'"
      ],
      "metadata": {
        "id": "QDP4Gjp1dhfa",
        "colab": {
          "base_uri": "https://localhost:8080/"
        },
        "outputId": "cd304f26-3bd8-4fa5-cfb4-cb6f17cfc4ac"
      },
      "execution_count": 5,
      "outputs": [
        {
          "output_type": "stream",
          "name": "stdout",
          "text": [
            "--2022-06-12 07:40:44--  https://nihcc.box.com/shared/static/sp5y2k799v4x1x77f7w1aqp26uyfq7qz.zip\n",
            "Resolving nihcc.box.com (nihcc.box.com)... 103.116.4.197\n",
            "Connecting to nihcc.box.com (nihcc.box.com)|103.116.4.197|:443... connected.\n",
            "HTTP request sent, awaiting response... 301 Moved Permanently\n",
            "Location: /public/static/sp5y2k799v4x1x77f7w1aqp26uyfq7qz.zip [following]\n",
            "--2022-06-12 07:40:45--  https://nihcc.box.com/public/static/sp5y2k799v4x1x77f7w1aqp26uyfq7qz.zip\n",
            "Reusing existing connection to nihcc.box.com:443.\n",
            "HTTP request sent, awaiting response... 301 Moved Permanently\n",
            "Location: https://nihcc.app.box.com/public/static/sp5y2k799v4x1x77f7w1aqp26uyfq7qz.zip [following]\n",
            "--2022-06-12 07:40:45--  https://nihcc.app.box.com/public/static/sp5y2k799v4x1x77f7w1aqp26uyfq7qz.zip\n",
            "Resolving nihcc.app.box.com (nihcc.app.box.com)... 103.116.4.201\n",
            "Connecting to nihcc.app.box.com (nihcc.app.box.com)|103.116.4.201|:443... connected.\n",
            "HTTP request sent, awaiting response... 302 Found\n",
            "Location: https://dl2.boxcloud.com/d/1/b1!T3ePAjmLZB9Adx2N53VwTBCNMelGvmfnmizI6_VXC8CJhB6QzHr8Ycirp4ZnSnRwBFKU0VpNYrwzPjoQm5vbzmTqDZDK1iJzsIMt_re8b9uizaubEzNMLA_yuFQN33C802l8AJBNdv86kIypf7If3WnruyDnZpXukqb-ixmUI80ILgQs2X7bzvv-R9rTwhAp6zqsYrg2PO-y6FuJUsxyJC7sas_J-JMC0G5rMQ6MFB6NM8kku4x7Spdbz6Bnk43XZ5J_ztQYkJTo7n2b3ufxR1hbF1YsJBHl3fj1vyS82UEz4uqMavjS43OXMGag-LT_dqIe_5tooSugbwtEP7ZJoswKuMfwD5Ebpq1vcITPSwVQV8W6uyO0eWpMoRwaaVumL3opHNDP9fZ9zFHhTWbpRuA9u_T_X-jqS-pa7ZANEWbTTHt8dTfYWnzA85Lhc6cPSNoMvP6Ta2Hgy3az68NnkTuTmG3UqQIrB4fMmTsLuVie8S-okDHrJHstDz6HXVRcBYwTC-zG7EyzlmN10jeAijl_Q40BX1kOAxc8eIUUFnOmtFmuUVfg9tqJDY2JHsUH_HKV7KieAIn2QmxFS9cPmNMKTb3jWpnFOKHE4stJAxYMZYiXZtSwe6wzcdSQZO_yVF0C5r9X8dC_WU_amQBiwb02cAioTWelLJZo_bJw6O1E_DV4oNC-xwoW0H68FL0KDY6PIeUBXeR947pyJX1gm6cE1g1cBrm_4tFik76EgMXPc16NBj5Qv_Eebok_1eNvdelqUfKz4UlBjLZZhMtJpWeZPcWE12l32ih9_9w5i310F4HLB_nm-sqidjUTnd3oP7G3ZlrrlMGCh4pjXm2R7vXhJXB16VQ6g8Rg6BwpvYlJqS8guuGA2ufz2CItuUvEigV5S08ctOBvj6a4Af8uuWCzKZF9WWR3a22N17WcrRv7yVbZuous-ESGTk-FYoWyG2xM6DXjZYCapOyYjUjSxoyUGlWIrNmaeCzBjQewcK0YwG5Lu9ZnRUM4RZzl67XtEfAf9XO4pq20Fad4FEviq0XVIRLF-suahyhJbMw60yCQcw4IK8osxaqjXuweRg5NP-RC7S6oWF98tY5YaU-3qj1OVHXTMcUrzdTfZcbwgNzbYaj_sbe6es2NxX1jEJ6QwtumohGFkFnTqpRhv0WVPs24s3y_ta4FTNF42EqlpegpYgGAplN0RXeEUfyQY19e8EREbO54XxT2LpkmwRoX_Pgivg0az-sXpWJZCKgxn1komf9Ci0CFUG21Ne-_8upGuEeDd2wvGegcTxEav5LXM7ytlkXoOYjfOSMN_59NcaPFar5Yx2gqa8Ni08hMZvJWK4_zsl_gUNOvlbydGvF8XQlXG05sFToaw2ULmrzgSouDzbbGiJz_kZDYSO2ZaV_xSud3Cvf3wHbQ_Og./download [following]\n",
            "--2022-06-12 07:40:45--  https://dl2.boxcloud.com/d/1/b1!T3ePAjmLZB9Adx2N53VwTBCNMelGvmfnmizI6_VXC8CJhB6QzHr8Ycirp4ZnSnRwBFKU0VpNYrwzPjoQm5vbzmTqDZDK1iJzsIMt_re8b9uizaubEzNMLA_yuFQN33C802l8AJBNdv86kIypf7If3WnruyDnZpXukqb-ixmUI80ILgQs2X7bzvv-R9rTwhAp6zqsYrg2PO-y6FuJUsxyJC7sas_J-JMC0G5rMQ6MFB6NM8kku4x7Spdbz6Bnk43XZ5J_ztQYkJTo7n2b3ufxR1hbF1YsJBHl3fj1vyS82UEz4uqMavjS43OXMGag-LT_dqIe_5tooSugbwtEP7ZJoswKuMfwD5Ebpq1vcITPSwVQV8W6uyO0eWpMoRwaaVumL3opHNDP9fZ9zFHhTWbpRuA9u_T_X-jqS-pa7ZANEWbTTHt8dTfYWnzA85Lhc6cPSNoMvP6Ta2Hgy3az68NnkTuTmG3UqQIrB4fMmTsLuVie8S-okDHrJHstDz6HXVRcBYwTC-zG7EyzlmN10jeAijl_Q40BX1kOAxc8eIUUFnOmtFmuUVfg9tqJDY2JHsUH_HKV7KieAIn2QmxFS9cPmNMKTb3jWpnFOKHE4stJAxYMZYiXZtSwe6wzcdSQZO_yVF0C5r9X8dC_WU_amQBiwb02cAioTWelLJZo_bJw6O1E_DV4oNC-xwoW0H68FL0KDY6PIeUBXeR947pyJX1gm6cE1g1cBrm_4tFik76EgMXPc16NBj5Qv_Eebok_1eNvdelqUfKz4UlBjLZZhMtJpWeZPcWE12l32ih9_9w5i310F4HLB_nm-sqidjUTnd3oP7G3ZlrrlMGCh4pjXm2R7vXhJXB16VQ6g8Rg6BwpvYlJqS8guuGA2ufz2CItuUvEigV5S08ctOBvj6a4Af8uuWCzKZF9WWR3a22N17WcrRv7yVbZuous-ESGTk-FYoWyG2xM6DXjZYCapOyYjUjSxoyUGlWIrNmaeCzBjQewcK0YwG5Lu9ZnRUM4RZzl67XtEfAf9XO4pq20Fad4FEviq0XVIRLF-suahyhJbMw60yCQcw4IK8osxaqjXuweRg5NP-RC7S6oWF98tY5YaU-3qj1OVHXTMcUrzdTfZcbwgNzbYaj_sbe6es2NxX1jEJ6QwtumohGFkFnTqpRhv0WVPs24s3y_ta4FTNF42EqlpegpYgGAplN0RXeEUfyQY19e8EREbO54XxT2LpkmwRoX_Pgivg0az-sXpWJZCKgxn1komf9Ci0CFUG21Ne-_8upGuEeDd2wvGegcTxEav5LXM7ytlkXoOYjfOSMN_59NcaPFar5Yx2gqa8Ni08hMZvJWK4_zsl_gUNOvlbydGvF8XQlXG05sFToaw2ULmrzgSouDzbbGiJz_kZDYSO2ZaV_xSud3Cvf3wHbQ_Og./download\n",
            "Resolving dl2.boxcloud.com (dl2.boxcloud.com)... 74.112.186.128\n",
            "Connecting to dl2.boxcloud.com (dl2.boxcloud.com)|74.112.186.128|:443... connected.\n",
            "HTTP request sent, awaiting response... 200 OK\n",
            "Length: 4302204610 (4.0G) [application/zip]\n",
            "Saving to: ‘sp5y2k799v4x1x77f7w1aqp26uyfq7qz.zip’\n",
            "\n",
            "7w1aqp26uyfq7qz.zip   3%[                    ] 126.92M  26.3MB/s    eta 2m 54s ^C\n"
          ]
        }
      ]
    },
    {
      "cell_type": "code",
      "source": [
        "!unzip -q zip_file.zip -d zip_file"
      ],
      "metadata": {
        "id": "gRRJgplNcvGI"
      },
      "execution_count": 3,
      "outputs": []
    },
    {
      "cell_type": "code",
      "source": [
        "import numpy as np\n",
        "import nibabel as nib\n",
        "import os\n",
        "import cv2\n",
        "import csv"
      ],
      "metadata": {
        "id": "WzMuXhGq5Yfg"
      },
      "execution_count": 4,
      "outputs": []
    },
    {
      "cell_type": "code",
      "source": [
        "dir_in = 'Images_png'\n",
        "dir_out = 'Images_nifti'\n",
        "out_fmt = '%s_%03d-%03d.nii.gz'  # format of the nifti file name to output\n",
        "info_fn = 'DL_info.csv'  # file name of the information file\n",
        "\n",
        "\n",
        "def slices2nifti(ims, fn_out, spacing):\n",
        "    \"\"\"save 2D slices to 3D nifti file considering the spacing\"\"\"\n",
        "    if len(ims) < 300:  # cv2.merge does not support too many channels\n",
        "        V = cv2.merge(ims)\n",
        "    else:\n",
        "        V = np.empty((ims[0].shape[0], ims[0].shape[1], len(ims)))\n",
        "        for i in range(len(ims)):\n",
        "            V[:, :, i] = ims[i]\n",
        "\n",
        "    # the transformation matrix suitable for 3D slicer and ITK-SNAP\n",
        "    T = np.array([[0, -spacing[1], 0, 0], [-spacing[0], 0, 0, 0], [0, 0, -spacing[2], 0], [0, 0, 0, 1]])\n",
        "    img = nib.Nifti1Image(V, T)\n",
        "    path_out = os.path.join(dir_out, fn_out)\n",
        "    nib.save(img, path_out)\n",
        "    print (fn_out, 'saved')\n",
        "\n",
        "\n",
        "def load_slices(dir, slice_idxs):\n",
        "    \"\"\"load slices from 16-bit png files\"\"\"\n",
        "    slice_idxs = np.array(slice_idxs)\n",
        "    assert np.all(slice_idxs[1:] - slice_idxs[:-1] == 1)\n",
        "    ims = []\n",
        "    for slice_idx in slice_idxs:\n",
        "        fn = '%03d.png' % slice_idx\n",
        "        path = os.path.join(dir_in, dir, fn)\n",
        "        im = cv2.imread(path, -1)  # -1 is needed for 16-bit image\n",
        "        assert im is not None, 'error reading %s' % path\n",
        "        print ('read', path)\n",
        "\n",
        "        # the 16-bit png file has a intensity bias of 32768\n",
        "        ims.append((im.astype(np.int32) - 32768).astype(np.int16))\n",
        "    return ims\n",
        "\n",
        "\n",
        "def read_DL_info():\n",
        "    \"\"\"read spacings and image indices in DeepLesion\"\"\"\n",
        "    spacings = []\n",
        "    idxs = []\n",
        "    with open(info_fn, 'rb') as csvfile:\n",
        "        ifile = open(csvfile, \"r\")\n",
        "        reader = csv.reader(ifile)\n",
        "        rownum = 0\n",
        "        for row in reader:\n",
        "            if rownum == 0:\n",
        "                header = row\n",
        "                rownum += 1\n",
        "            else:\n",
        "                idxs.append([int(d) for d in row[1:4]])\n",
        "                spacings.append([float(d) for d in row[12].split(',')])\n",
        "\n",
        "    idxs = np.array(idxs)\n",
        "    spacings = np.array(spacings)\n",
        "    return idxs, spacings\n",
        "\n",
        "\n",
        "if __name__ == '__main__':\n",
        "    idxs, spacings = read_DL_info()\n",
        "    if not os.path.exists(dir_out):\n",
        "        os.mkdir(dir_out)\n",
        "    img_dirs = os.listdir(dir_in)\n",
        "    img_dirs.sort()\n",
        "    for dir1 in img_dirs:\n",
        "        # find the image info according to the folder's name\n",
        "        idxs1 = np.array([int(d) for d in dir1.split('_')])\n",
        "        i1 = np.where(np.all(idxs == idxs1, axis=1))[0]\n",
        "        spacings1 = spacings[i1[0]]\n",
        "\n",
        "        fns = os.listdir(os.path.join(dir_in, dir1))\n",
        "        slices = [int(d[:-4]) for d in fns if d.endswith('.png')]\n",
        "        slices.sort()\n",
        "\n",
        "        # Each folder contains png slices from one series (volume)\n",
        "        # There may be several sub-volumes in each volume depending on the key slices\n",
        "        # We group the slices into sub-volumes according to continuity of the slice indices\n",
        "        groups = []\n",
        "        for slice_idx in slices:\n",
        "            if len(groups) != 0 and slice_idx == groups[-1][-1]+1:\n",
        "                groups[-1].append(slice_idx)\n",
        "            else:\n",
        "                groups.append([slice_idx])\n",
        "\n",
        "        for group in groups:\n",
        "            # group contains slices indices of a sub-volume\n",
        "            ims = load_slices(dir1, group)\n",
        "            fn_out = out_fmt % (dir1, group[0], group[-1])\n",
        "            slices2nifti(ims, fn_out, spacings1)"
      ],
      "metadata": {
        "colab": {
          "base_uri": "https://localhost:8080/",
          "height": 356
        },
        "id": "lsPVUNza5t7g",
        "outputId": "89652909-450a-4c66-f559-044696d35394"
      },
      "execution_count": 11,
      "outputs": [
        {
          "output_type": "error",
          "ename": "TypeError",
          "evalue": "ignored",
          "traceback": [
            "\u001b[0;31m---------------------------------------------------------------------------\u001b[0m",
            "\u001b[0;31mTypeError\u001b[0m                                 Traceback (most recent call last)",
            "\u001b[0;32m<ipython-input-11-1b4c97b18d6c>\u001b[0m in \u001b[0;36m<module>\u001b[0;34m()\u001b[0m\n\u001b[1;32m     61\u001b[0m \u001b[0;34m\u001b[0m\u001b[0m\n\u001b[1;32m     62\u001b[0m \u001b[0;32mif\u001b[0m \u001b[0m__name__\u001b[0m \u001b[0;34m==\u001b[0m \u001b[0;34m'__main__'\u001b[0m\u001b[0;34m:\u001b[0m\u001b[0;34m\u001b[0m\u001b[0;34m\u001b[0m\u001b[0m\n\u001b[0;32m---> 63\u001b[0;31m     \u001b[0midxs\u001b[0m\u001b[0;34m,\u001b[0m \u001b[0mspacings\u001b[0m \u001b[0;34m=\u001b[0m \u001b[0mread_DL_info\u001b[0m\u001b[0;34m(\u001b[0m\u001b[0;34m)\u001b[0m\u001b[0;34m\u001b[0m\u001b[0;34m\u001b[0m\u001b[0m\n\u001b[0m\u001b[1;32m     64\u001b[0m     \u001b[0;32mif\u001b[0m \u001b[0;32mnot\u001b[0m \u001b[0mos\u001b[0m\u001b[0;34m.\u001b[0m\u001b[0mpath\u001b[0m\u001b[0;34m.\u001b[0m\u001b[0mexists\u001b[0m\u001b[0;34m(\u001b[0m\u001b[0mdir_out\u001b[0m\u001b[0;34m)\u001b[0m\u001b[0;34m:\u001b[0m\u001b[0;34m\u001b[0m\u001b[0;34m\u001b[0m\u001b[0m\n\u001b[1;32m     65\u001b[0m         \u001b[0mos\u001b[0m\u001b[0;34m.\u001b[0m\u001b[0mmkdir\u001b[0m\u001b[0;34m(\u001b[0m\u001b[0mdir_out\u001b[0m\u001b[0;34m)\u001b[0m\u001b[0;34m\u001b[0m\u001b[0;34m\u001b[0m\u001b[0m\n",
            "\u001b[0;32m<ipython-input-11-1b4c97b18d6c>\u001b[0m in \u001b[0;36mread_DL_info\u001b[0;34m()\u001b[0m\n\u001b[1;32m     44\u001b[0m     \u001b[0midxs\u001b[0m \u001b[0;34m=\u001b[0m \u001b[0;34m[\u001b[0m\u001b[0;34m]\u001b[0m\u001b[0;34m\u001b[0m\u001b[0;34m\u001b[0m\u001b[0m\n\u001b[1;32m     45\u001b[0m     \u001b[0;32mwith\u001b[0m \u001b[0mopen\u001b[0m\u001b[0;34m(\u001b[0m\u001b[0minfo_fn\u001b[0m\u001b[0;34m,\u001b[0m \u001b[0;34m'rb'\u001b[0m\u001b[0;34m)\u001b[0m \u001b[0;32mas\u001b[0m \u001b[0mcsvfile\u001b[0m\u001b[0;34m:\u001b[0m\u001b[0;34m\u001b[0m\u001b[0;34m\u001b[0m\u001b[0m\n\u001b[0;32m---> 46\u001b[0;31m         \u001b[0mifile\u001b[0m \u001b[0;34m=\u001b[0m \u001b[0mopen\u001b[0m\u001b[0;34m(\u001b[0m\u001b[0mcsvfile\u001b[0m\u001b[0;34m,\u001b[0m \u001b[0;34m\"r\"\u001b[0m\u001b[0;34m)\u001b[0m\u001b[0;34m\u001b[0m\u001b[0;34m\u001b[0m\u001b[0m\n\u001b[0m\u001b[1;32m     47\u001b[0m         \u001b[0mreader\u001b[0m \u001b[0;34m=\u001b[0m \u001b[0mcsv\u001b[0m\u001b[0;34m.\u001b[0m\u001b[0mreader\u001b[0m\u001b[0;34m(\u001b[0m\u001b[0mifile\u001b[0m\u001b[0;34m)\u001b[0m\u001b[0;34m\u001b[0m\u001b[0;34m\u001b[0m\u001b[0m\n\u001b[1;32m     48\u001b[0m         \u001b[0mrownum\u001b[0m \u001b[0;34m=\u001b[0m \u001b[0;36m0\u001b[0m\u001b[0;34m\u001b[0m\u001b[0;34m\u001b[0m\u001b[0m\n",
            "\u001b[0;31mTypeError\u001b[0m: expected str, bytes or os.PathLike object, not _io.BufferedReader"
          ]
        }
      ]
    },
    {
      "cell_type": "code",
      "source": [
        " "
      ],
      "metadata": {
        "id": "vQhaxUyq53Zi"
      },
      "execution_count": null,
      "outputs": []
    }
  ]
}